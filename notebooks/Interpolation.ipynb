{
 "cells": [
  {
   "cell_type": "code",
   "execution_count": 1,
   "id": "70bfc6de-820b-4c33-a19b-26a868a68861",
   "metadata": {},
   "outputs": [],
   "source": [
    "from hist import Hist, axis\n",
    "import matplotlib.pyplot as plt\n",
    "import numpy as np"
   ]
  },
  {
   "cell_type": "code",
   "execution_count": 2,
   "id": "37c2bf38-506a-44ab-bbf5-dd8c623a61ae",
   "metadata": {},
   "outputs": [
    {
     "data": {
      "text/html": [
       "<html>\n",
       "<div style=\"display:flex; align-items:center;\">\n",
       "<div style=\"width:290px;\">\n",
       "<svg xmlns=\"http://www.w3.org/2000/svg\" viewBox=\"-10 -105 270 120\">\n",
       "<line x1=\"-5\" y1=\"0\" x2=\"255\" y2=\"0\" style=\"fill:none;stroke-width:2;stroke:currentColor\"/>\n",
       "<text text-anchor=\"middle\" x=\"0\" y=\"15\" style=\"fill:currentColor;\">\n",
       "-30\n",
       "</text>\n",
       "<text text-anchor=\"middle\" x=\"250\" y=\"15\" style=\"fill:currentColor;\">\n",
       "30\n",
       "</text>\n",
       "<text text-anchor=\"middle\" x=\"125.0\" y=\"15\" style=\"fill:currentColor;\">\n",
       "Axis 0\n",
       "</text>\n",
       "<polyline points=\"  0,0   0,-61.4  25,-61.4  25,-9.2  50,-9.2  50,-100  75,-100  75,-84.5 100,-84.5 100,-29.7 125,-29.7 125,-29.7 150,-29.7 150,-84.5 175,-84.5 175,-100 200,-100 200,-9.2 225,-9.2 225,-61.4 250,-61.4 250,0\" style=\"fill:none; stroke:currentColor;\"/>\n",
       "</svg>\n",
       "</div>\n",
       "<div style=\"flex=grow:1;\">\n",
       "Regular(10, -30, 30, label='Axis 0')<br/>\n",
       "<hr style=\"margin-top:.2em; margin-bottom:.2em;\"/>\n",
       "Double() Σ=5.596329884235402\n",
       "\n",
       "</div>\n",
       "</div>\n",
       "</html>"
      ],
      "text/plain": [
       "Hist(Regular(10, -30, 30, label='Axis 0'), storage=Double()) # Sum: 5.596329884235402"
      ]
     },
     "execution_count": 2,
     "metadata": {},
     "output_type": "execute_result"
    }
   ],
   "source": [
    "h = Hist.new.Reg(10, -30, 30).Double()\n",
    "centers = h.axes[0].centers\n",
    "weights = np.cos(-(centers ** 2) / 9.0) ** 2\n",
    "h.fill(centers, weight=weights)"
   ]
  },
  {
   "cell_type": "code",
   "execution_count": 3,
   "id": "d621b243-0544-45dc-8feb-b3783df39bac",
   "metadata": {},
   "outputs": [],
   "source": [
    "def linear(h, **kwargs):\n",
    "    from scipy.interpolate import interp1d\n",
    "\n",
    "    return interp1d(h.axes[0].centers, h.values(), **kwargs)\n",
    "\n",
    "\n",
    "f1 = linear(h)\n",
    "f2 = linear(h, kind=\"cubic\")"
   ]
  },
  {
   "cell_type": "code",
   "execution_count": 4,
   "id": "b89f73a5-b76b-48fa-b5f5-51f3c30de747",
   "metadata": {},
   "outputs": [
    {
     "data": {
      "text/plain": [
       "[<matplotlib.lines.Line2D at 0x18626fa90>,\n",
       " <matplotlib.lines.Line2D at 0x18626f9a0>,\n",
       " <matplotlib.lines.Line2D at 0x18626fbb0>]"
      ]
     },
     "execution_count": 4,
     "metadata": {},
     "output_type": "execute_result"
    },
    {
     "data": {
      "image/png": "[encoded data removed]",
      "text/plain": [
       "<Figure size 432x288 with 1 Axes>"
      ]
     },
     "metadata": {
      "needs_background": "light"
     },
     "output_type": "display_data"
    }
   ],
   "source": [
    "x = np.linspace(-27, 27, num=41, endpoint=True)\n",
    "plt.plot(h.axes[0].centers, h.values(), \"o\", x, f1(x), \".\", x, f2(x), \"--\")"
   ]
  },
  {
   "cell_type": "code",
   "execution_count": null,
   "id": "ddb6690f-1200-4df7-8439-7379a11ed3cc",
   "metadata": {},
   "outputs": [],
   "source": []
  }
 ],
 "metadata": {
  "kernelspec": {
   "display_name": "hist",
   "language": "python",
   "name": "hist"
  },
  "language_info": {
   "codemirror_mode": {
    "name": "ipython",
    "version": 3
   },
   "file_extension": ".py",
   "mimetype": "text/x-python",
   "name": "python",
   "nbconvert_exporter": "python",
   "pygments_lexer": "ipython3",
   "version": "3.9.4"
  }
 },
 "nbformat": 4,
 "nbformat_minor": 5
}
