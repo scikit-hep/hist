{
 "cells": [
  {
   "cell_type": "markdown",
   "metadata": {},
   "source": [
    "Let's add a little class to make producing XML (and therefor SVG) easy. Note that this originally targeted boost-histogram, so it's written in Python 2 compatible style and does not use any external libraries."
   ]
  },
  {
   "cell_type": "code",
   "execution_count": 1,
   "metadata": {},
   "outputs": [],
   "source": [
    "class XML(object):\n",
    "    def __init__(self, *contents, **kargs):\n",
    "        self.properties = kargs\n",
    "        self.contents = contents\n",
    "\n",
    "    @property\n",
    "    def name(self):\n",
    "        return self.__class__.__name__\n",
    "\n",
    "    @property\n",
    "    def start(self):\n",
    "        if self.properties:\n",
    "            ending = \" \" + \" \".join(\n",
    "                '{a}=\"{b}\"'.format(a=a.replace(\"_\", \"-\"), b=b)\n",
    "                for a, b in self.properties.items()\n",
    "            )\n",
    "        else:\n",
    "            ending = \"\"\n",
    "        return self.name + ending\n",
    "\n",
    "    def __str__(self):\n",
    "        if self.contents:\n",
    "            return \"<{self.start}>\\n{contents}\\n</{self.name}>\".format(\n",
    "                self=self, contents=\"\\n\".join(str(s) for s in self.contents)\n",
    "            )\n",
    "        else:\n",
    "            return \"<{self.start}/>\".format(self=self)"
   ]
  },
  {
   "cell_type": "markdown",
   "metadata": {},
   "source": [
    "Now let's add classes that exactly correspond to the `XML` tags:"
   ]
  },
  {
   "cell_type": "code",
   "execution_count": 2,
   "metadata": {},
   "outputs": [],
   "source": [
    "class svg(XML):\n",
    "    def _repr_svg_(self):\n",
    "        return str(self)\n",
    "\n",
    "\n",
    "class circle(XML):\n",
    "    pass\n",
    "\n",
    "\n",
    "class line(XML):\n",
    "    pass\n",
    "\n",
    "\n",
    "class rect(XML):\n",
    "    pass\n",
    "\n",
    "\n",
    "class ellipse(XML):\n",
    "    pass\n",
    "\n",
    "\n",
    "class polygon(XML):\n",
    "    pass\n",
    "\n",
    "\n",
    "class polyline(XML):\n",
    "    pass\n",
    "\n",
    "\n",
    "# path\n",
    "class text(XML):\n",
    "    pass\n",
    "\n",
    "\n",
    "class g(XML):\n",
    "    pass"
   ]
  },
  {
   "cell_type": "markdown",
   "metadata": {},
   "source": [
    "Now let's make sure these work as expected:"
   ]
  },
  {
   "cell_type": "code",
   "execution_count": 3,
   "metadata": {},
   "outputs": [
    {
     "data": {
      "image/svg+xml": [
       "<svg height=\"100\" width=\"300\">\n",
       "<circle cx=\"50\" cy=\"50\" r=\"40\" stroke=\"black\" stroke-width=\"3\" fill=\"white\"/>\n",
       "</svg>"
      ],
      "text/plain": [
       "<__main__.svg at 0x10d313750>"
      ]
     },
     "execution_count": 3,
     "metadata": {},
     "output_type": "execute_result"
    }
   ],
   "source": [
    "c1 = circle(cx=50, cy=50, r=40, stroke=\"black\", stroke_width=3, fill=\"white\")\n",
    "s1 = svg(c1, height=100, width=300)\n",
    "s1"
   ]
  },
  {
   "cell_type": "code",
   "execution_count": 4,
   "metadata": {},
   "outputs": [
    {
     "name": "stdout",
     "output_type": "stream",
     "text": [
      "<svg height=\"100\" width=\"300\">\n",
      "<circle cx=\"50\" cy=\"50\" r=\"40\" stroke=\"black\" stroke-width=\"3\" fill=\"white\"/>\n",
      "</svg>\n"
     ]
    }
   ],
   "source": [
    "print(s1)"
   ]
  },
  {
   "cell_type": "code",
   "execution_count": 5,
   "metadata": {},
   "outputs": [],
   "source": [
    "import textwrap\n",
    "import numpy as np\n",
    "import boost_histogram as bh\n",
    "import functools\n",
    "import operator"
   ]
  },
  {
   "cell_type": "code",
   "execution_count": 31,
   "metadata": {},
   "outputs": [],
   "source": [
    "class rect(XML):\n",
    "    @classmethod\n",
    "    def pad(cls, scale_x, scale_y, height, left_edge, right_edge, pad_x=0, pad_y=0, opacity=1):\n",
    "        width = right_edge - left_edge\n",
    "        center_y = height / 2.0\n",
    "        top_y = 1 - height\n",
    "\n",
    "        height = height * (1 - 2 * pad_y)\n",
    "        top_y = top_y * (1 - 2 * pad_y) + pad_y\n",
    "        left_edge = left_edge * (1 - 2 * pad_x) + pad_x\n",
    "        width = width * (1 - 2 * pad_x)\n",
    "        color = int(255 * opacity)\n",
    "\n",
    "        return cls(\n",
    "            x=left_edge * scale_x,\n",
    "            y=top_y * scale_y,\n",
    "            width=width * scale_x,\n",
    "            height=height * scale_y,\n",
    "            style=f\"fill:white;stroke:rgb(255,255,255);stroke-width:1\",\n",
    "        )"
   ]
  },
  {
   "cell_type": "markdown",
   "metadata": {},
   "source": [
    "Now let's make a svg plotting function:\n",
    "\n",
    "This automatically but poorly scales if the axes is more than 40 bins wide. The issue is that it simply rebins, rather than making uneven width bins when necessary."
   ]
  },
  {
   "cell_type": "code",
   "execution_count": 32,
   "metadata": {},
   "outputs": [],
   "source": [
    "def plot_hist_1d(hi):\n",
    "    assert hi.ndim == 1\n",
    "    assert not hi.axes[0].options.circular\n",
    "\n",
    "    if len(hi.axes[0]) > 40:\n",
    "        h = hi[:: bh.rebin(len(hi.axes[0]) // 20)]\n",
    "    else:\n",
    "        h = hi\n",
    "\n",
    "    (edges,) = h.axes.edges\n",
    "    norm_edges = (edges - edges[0]) / (edges[-1] - edges[0])\n",
    "    norm_vals = h.view()\n",
    "\n",
    "    if not h.empty():\n",
    "        norm_vals /= functools.reduce(operator.mul, h.axes.widths) / h.sum()\n",
    "        norm_vals /= np.max(norm_vals)\n",
    "\n",
    "    boxes = []\n",
    "    for height, left_edge, right_edge in zip(\n",
    "        norm_vals, norm_edges[:-1], norm_edges[1:]\n",
    "    ):\n",
    "        boxes.append(rect.pad(300, 100, height, left_edge, right_edge, 0.02, 0.05))\n",
    "\n",
    "    # boxes.append(rect(x=0, y=0, width=600, height=120, style=\"fill:none;stroke-width:3;stroke:rgb(0,0,0)\"))\n",
    "    ax_line = line(\n",
    "        x1=0,\n",
    "        y1=100 * 0.95,\n",
    "        x2=300,\n",
    "        y2=100 * 0.95,\n",
    "        style=\"fill:none;stroke-width:2;stroke:rgb(0,0,0)\",\n",
    "    )\n",
    "    texts = [\n",
    "        text(format(edges[0], \".3g\"), x=10, y=110),\n",
    "        text(format(edges[-1], \".3g\"), x=300 - 20, y=110),\n",
    "        text(\n",
    "            \"\\n\".join(textwrap.wrap(repr(hi), 38)),\n",
    "            x=300,\n",
    "            y=40,\n",
    "            style=\"font-family: monospace\",\n",
    "        ),\n",
    "    ]\n",
    "\n",
    "    return svg(ax_line, *texts, *boxes, width=600, height=120)"
   ]
  },
  {
   "cell_type": "markdown",
   "metadata": {},
   "source": [
    "And let's add it inline. (In an actual library, this should just have been a method, really)"
   ]
  },
  {
   "cell_type": "code",
   "execution_count": 33,
   "metadata": {},
   "outputs": [],
   "source": [
    "class Histogram(bh.Histogram):\n",
    "    def _repr_svg_(self):\n",
    "        # This can be _repr_html_ instead, too - would make adding text easier/nicer\n",
    "        if self.ndim == 1:\n",
    "            return plot_hist_1d(self)._repr_svg_()\n",
    "        elif self.ndim == 2:\n",
    "            return plot_hist_2d(self)._repr_svg_()"
   ]
  },
  {
   "cell_type": "code",
   "execution_count": 34,
   "metadata": {},
   "outputs": [
    {
     "data": {
      "image/svg+xml": [
       "<svg width=\"600\" height=\"120\">\n",
       "<line x1=\"0\" y1=\"95.0\" x2=\"300\" y2=\"95.0\" style=\"fill:none;stroke-width:2;stroke:rgb(0,0,0)\"/>\n",
       "<text x=\"10\" y=\"110\">\n",
       "-1\n",
       "</text>\n",
       "<text x=\"280\" y=\"110\">\n",
       "0.942\n",
       "</text>\n",
       "<text x=\"300\" y=\"40\" style=\"font-family: monospace\">\n",
       "Histogram(Regular(103, -1, 1),\n",
       "storage=Double())\n",
       "</text>\n",
       "<rect x=\"6.0\" y=\"95.0\" width=\"14.400000000000011\" height=\"0.0\" style=\"fill:white;stroke:rgb(255,255,255);stroke-width:1\"/>\n",
       "<rect x=\"20.40000000000001\" y=\"95.0\" width=\"14.39999999999999\" height=\"0.0\" style=\"fill:white;stroke:rgb(255,255,255);stroke-width:1\"/>\n",
       "<rect x=\"34.800000000000004\" y=\"95.0\" width=\"14.399999999999997\" height=\"0.0\" style=\"fill:white;stroke:rgb(255,255,255);stroke-width:1\"/>\n",
       "<rect x=\"49.199999999999996\" y=\"95.0\" width=\"14.399999999999988\" height=\"0.0\" style=\"fill:white;stroke:rgb(255,255,255);stroke-width:1\"/>\n",
       "<rect x=\"63.59999999999998\" y=\"95.0\" width=\"14.400000000000013\" height=\"0.0\" style=\"fill:white;stroke:rgb(255,255,255);stroke-width:1\"/>\n",
       "<rect x=\"78.0\" y=\"95.0\" width=\"14.399999999999997\" height=\"0.0\" style=\"fill:white;stroke:rgb(255,255,255);stroke-width:1\"/>\n",
       "<rect x=\"92.4\" y=\"95.0\" width=\"14.399999999999997\" height=\"0.0\" style=\"fill:white;stroke:rgb(255,255,255);stroke-width:1\"/>\n",
       "<rect x=\"106.8\" y=\"95.0\" width=\"14.400000000000013\" height=\"0.0\" style=\"fill:white;stroke:rgb(255,255,255);stroke-width:1\"/>\n",
       "<rect x=\"121.2\" y=\"95.0\" width=\"14.399999999999997\" height=\"0.0\" style=\"fill:white;stroke:rgb(255,255,255);stroke-width:1\"/>\n",
       "<rect x=\"135.6\" y=\"95.0\" width=\"14.399999999999997\" height=\"0.0\" style=\"fill:white;stroke:rgb(255,255,255);stroke-width:1\"/>\n",
       "<rect x=\"150.0\" y=\"95.0\" width=\"14.399999999999979\" height=\"0.0\" style=\"fill:white;stroke:rgb(255,255,255);stroke-width:1\"/>\n",
       "<rect x=\"164.39999999999998\" y=\"95.0\" width=\"14.400000000000013\" height=\"0.0\" style=\"fill:white;stroke:rgb(255,255,255);stroke-width:1\"/>\n",
       "<rect x=\"178.79999999999998\" y=\"95.0\" width=\"14.400000000000013\" height=\"0.0\" style=\"fill:white;stroke:rgb(255,255,255);stroke-width:1\"/>\n",
       "<rect x=\"193.20000000000002\" y=\"95.0\" width=\"14.399999999999979\" height=\"0.0\" style=\"fill:white;stroke:rgb(255,255,255);stroke-width:1\"/>\n",
       "<rect x=\"207.6\" y=\"95.0\" width=\"14.400000000000013\" height=\"0.0\" style=\"fill:white;stroke:rgb(255,255,255);stroke-width:1\"/>\n",
       "<rect x=\"222.0\" y=\"95.0\" width=\"14.400000000000013\" height=\"0.0\" style=\"fill:white;stroke:rgb(255,255,255);stroke-width:1\"/>\n",
       "<rect x=\"236.4\" y=\"95.0\" width=\"14.399999999999979\" height=\"0.0\" style=\"fill:white;stroke:rgb(255,255,255);stroke-width:1\"/>\n",
       "<rect x=\"250.79999999999998\" y=\"95.0\" width=\"14.400000000000013\" height=\"0.0\" style=\"fill:white;stroke:rgb(255,255,255);stroke-width:1\"/>\n",
       "<rect x=\"265.2\" y=\"95.0\" width=\"14.400000000000013\" height=\"0.0\" style=\"fill:white;stroke:rgb(255,255,255);stroke-width:1\"/>\n",
       "<rect x=\"279.6\" y=\"95.0\" width=\"14.399999999999979\" height=\"0.0\" style=\"fill:white;stroke:rgb(255,255,255);stroke-width:1\"/>\n",
       "</svg>"
      ],
      "text/plain": [
       "Histogram(Regular(103, -1, 1), storage=Double())"
      ]
     },
     "execution_count": 34,
     "metadata": {},
     "output_type": "execute_result"
    }
   ],
   "source": [
    "h = Histogram(bh.axis.Regular(103, -1, 1))\n",
    "h"
   ]
  },
  {
   "cell_type": "code",
   "execution_count": 35,
   "metadata": {},
   "outputs": [
    {
     "data": {
      "image/svg+xml": [
       "<svg width=\"600\" height=\"120\">\n",
       "<line x1=\"0\" y1=\"95.0\" x2=\"300\" y2=\"95.0\" style=\"fill:none;stroke-width:2;stroke:rgb(0,0,0)\"/>\n",
       "<text x=\"10\" y=\"110\">\n",
       "-1\n",
       "</text>\n",
       "<text x=\"280\" y=\"110\">\n",
       "0.942\n",
       "</text>\n",
       "<text x=\"300\" y=\"40\" style=\"font-family: monospace\">\n",
       "Histogram(Regular(103, -1, 1),\n",
       "storage=Double()) # Sum: 68190.0\n",
       "(100000.0 with flow)\n",
       "</text>\n",
       "<rect x=\"6.0\" y=\"39.01081916537866\" width=\"14.400000000000011\" height=\"55.98918083462133\" style=\"fill:white;stroke:rgb(255,255,255);stroke-width:1\"/>\n",
       "<rect x=\"20.40000000000001\" y=\"32.751159196290494\" width=\"14.39999999999999\" height=\"62.248840803709506\" style=\"fill:white;stroke:rgb(255,255,255);stroke-width:1\"/>\n",
       "<rect x=\"34.800000000000004\" y=\"27.001545595054015\" width=\"14.399999999999997\" height=\"67.99845440494599\" style=\"fill:white;stroke:rgb(255,255,255);stroke-width:1\"/>\n",
       "<rect x=\"49.199999999999996\" y=\"21.761978361669165\" width=\"14.399999999999988\" height=\"73.23802163833084\" style=\"fill:white;stroke:rgb(255,255,255);stroke-width:1\"/>\n",
       "<rect x=\"63.59999999999998\" y=\"18.701700154559507\" width=\"14.400000000000013\" height=\"76.29829984544048\" style=\"fill:white;stroke:rgb(255,255,255);stroke-width:1\"/>\n",
       "<rect x=\"78.0\" y=\"14.11128284389484\" width=\"14.399999999999997\" height=\"80.88871715610516\" style=\"fill:white;stroke:rgb(255,255,255);stroke-width:1\"/>\n",
       "<rect x=\"92.4\" y=\"13.902627511591865\" width=\"14.399999999999997\" height=\"81.09737248840814\" style=\"fill:white;stroke:rgb(255,255,255);stroke-width:1\"/>\n",
       "<rect x=\"106.8\" y=\"8.964451313755786\" width=\"14.400000000000013\" height=\"86.03554868624421\" style=\"fill:white;stroke:rgb(255,255,255);stroke-width:1\"/>\n",
       "<rect x=\"121.2\" y=\"8.778979907264192\" width=\"14.399999999999997\" height=\"86.22102009273581\" style=\"fill:white;stroke:rgb(255,255,255);stroke-width:1\"/>\n",
       "<rect x=\"135.6\" y=\"6.066460587326068\" width=\"14.399999999999997\" height=\"88.93353941267394\" style=\"fill:white;stroke:rgb(255,255,255);stroke-width:1\"/>\n",
       "<rect x=\"150.0\" y=\"5.0\" width=\"14.399999999999979\" height=\"90.0\" style=\"fill:white;stroke:rgb(255,255,255);stroke-width:1\"/>\n",
       "<rect x=\"164.39999999999998\" y=\"5.904173106645845\" width=\"14.400000000000013\" height=\"89.09582689335416\" style=\"fill:white;stroke:rgb(255,255,255);stroke-width:1\"/>\n",
       "<rect x=\"178.79999999999998\" y=\"5.4404945904174165\" width=\"14.400000000000013\" height=\"89.55950540958258\" style=\"fill:white;stroke:rgb(255,255,255);stroke-width:1\"/>\n",
       "<rect x=\"193.20000000000002\" y=\"10.21638330757321\" width=\"14.399999999999979\" height=\"84.78361669242679\" style=\"fill:white;stroke:rgb(255,255,255);stroke-width:1\"/>\n",
       "<rect x=\"207.6\" y=\"9.312210200927357\" width=\"14.400000000000013\" height=\"85.68778979907265\" style=\"fill:white;stroke:rgb(255,255,255);stroke-width:1\"/>\n",
       "<rect x=\"222.0\" y=\"16.499227202472948\" width=\"14.400000000000013\" height=\"78.50077279752705\" style=\"fill:white;stroke:rgb(255,255,255);stroke-width:1\"/>\n",
       "<rect x=\"236.4\" y=\"21.25193199381745\" width=\"14.399999999999979\" height=\"73.74806800618255\" style=\"fill:white;stroke:rgb(255,255,255);stroke-width:1\"/>\n",
       "<rect x=\"250.79999999999998\" y=\"25.494590417310754\" width=\"14.400000000000013\" height=\"69.50540958268925\" style=\"fill:white;stroke:rgb(255,255,255);stroke-width:1\"/>\n",
       "<rect x=\"265.2\" y=\"31.22102009273555\" width=\"14.400000000000013\" height=\"63.77897990726446\" style=\"fill:white;stroke:rgb(255,255,255);stroke-width:1\"/>\n",
       "<rect x=\"279.6\" y=\"32.44976816074188\" width=\"14.399999999999979\" height=\"62.55023183925812\" style=\"fill:white;stroke:rgb(255,255,255);stroke-width:1\"/>\n",
       "</svg>"
      ],
      "text/plain": [
       "Histogram(Regular(103, -1, 1), storage=Double()) # Sum: 68190.0 (100000.0 with flow)"
      ]
     },
     "execution_count": 35,
     "metadata": {},
     "output_type": "execute_result"
    }
   ],
   "source": [
    "h.fill(np.random.normal(size=100_000))"
   ]
  },
  {
   "cell_type": "code",
   "execution_count": 266,
   "metadata": {},
   "outputs": [
    {
     "data": {
      "image/svg+xml": [
       "<svg width=\"600\" height=\"120\">\n",
       "<line x1=\"0\" y1=\"95.0\" x2=\"300\" y2=\"95.0\" style=\"fill:none;stroke-width:2;stroke:rgb(0,0,0)\"/>\n",
       "<text x=\"10\" y=\"110\">\n",
       "-1\n",
       "</text>\n",
       "<text x=\"280\" y=\"110\">\n",
       "0.942\n",
       "</text>\n",
       "<text x=\"300\" y=\"40\" style=\"font-family: monospace\">\n",
       "Histogram(Regular(103, -1, 1),\n",
       "storage=Double()) # Sum: 78385.0\n",
       "(110000.0 with flow)\n",
       "</text>\n",
       "<rect x=\"6.0\" y=\"65.51995163240636\" width=\"14.400000000000011\" height=\"29.480048367593646\" style=\"fill:black;stroke-width:1;stroke:rgb(255,255,255)\"/>\n",
       "<rect x=\"20.40000000000001\" y=\"62.823458282950476\" width=\"14.39999999999999\" height=\"32.17654171704954\" style=\"fill:black;stroke-width:1;stroke:rgb(255,255,255)\"/>\n",
       "<rect x=\"34.800000000000004\" y=\"60.96130592503029\" width=\"14.399999999999997\" height=\"34.03869407496973\" style=\"fill:black;stroke-width:1;stroke:rgb(255,255,255)\"/>\n",
       "<rect x=\"49.199999999999996\" y=\"56.08827085852484\" width=\"14.399999999999988\" height=\"38.91172914147516\" style=\"fill:black;stroke-width:1;stroke:rgb(255,255,255)\"/>\n",
       "<rect x=\"63.59999999999998\" y=\"54.98790810157204\" width=\"14.400000000000013\" height=\"40.01209189842796\" style=\"fill:black;stroke-width:1;stroke:rgb(255,255,255)\"/>\n",
       "<rect x=\"78.0\" y=\"51.78355501813792\" width=\"14.399999999999997\" height=\"43.21644498186208\" style=\"fill:black;stroke-width:1;stroke:rgb(255,255,255)\"/>\n",
       "<rect x=\"92.4\" y=\"50.925030229746135\" width=\"14.399999999999997\" height=\"44.07496977025387\" style=\"fill:black;stroke-width:1;stroke:rgb(255,255,255)\"/>\n",
       "<rect x=\"106.8\" y=\"49.921402660217765\" width=\"14.400000000000013\" height=\"45.07859733978224\" style=\"fill:black;stroke-width:1;stroke:rgb(255,255,255)\"/>\n",
       "<rect x=\"121.2\" y=\"49.22007255139062\" width=\"14.399999999999997\" height=\"45.77992744860938\" style=\"fill:black;stroke-width:1;stroke:rgb(255,255,255)\"/>\n",
       "<rect x=\"135.6\" y=\"47.69649334945594\" width=\"14.399999999999997\" height=\"47.30350665054406\" style=\"fill:black;stroke-width:1;stroke:rgb(255,255,255)\"/>\n",
       "<rect x=\"150.0\" y=\"46.99516324062889\" width=\"14.399999999999979\" height=\"48.00483675937111\" style=\"fill:black;stroke-width:1;stroke:rgb(255,255,255)\"/>\n",
       "<rect x=\"164.39999999999998\" y=\"39.57073760580411\" width=\"14.400000000000013\" height=\"55.42926239419589\" style=\"fill:black;stroke-width:1;stroke:rgb(255,255,255)\"/>\n",
       "<rect x=\"178.79999999999998\" y=\"17.889963724304973\" width=\"14.400000000000013\" height=\"77.11003627569502\" style=\"fill:black;stroke-width:1;stroke:rgb(255,255,255)\"/>\n",
       "<rect x=\"193.20000000000002\" y=\"5.0\" width=\"14.399999999999979\" height=\"90.0\" style=\"fill:black;stroke-width:1;stroke:rgb(255,255,255)\"/>\n",
       "<rect x=\"207.6\" y=\"25.02418379685627\" width=\"14.400000000000013\" height=\"69.97581620314372\" style=\"fill:black;stroke-width:1;stroke:rgb(255,255,255)\"/>\n",
       "<rect x=\"222.0\" y=\"48.55501813784775\" width=\"14.400000000000013\" height=\"46.444981862152254\" style=\"fill:black;stroke-width:1;stroke:rgb(255,255,255)\"/>\n",
       "<rect x=\"236.4\" y=\"55.229746070133025\" width=\"14.399999999999979\" height=\"39.77025392986699\" style=\"fill:black;stroke-width:1;stroke:rgb(255,255,255)\"/>\n",
       "<rect x=\"250.79999999999998\" y=\"57.59975816203157\" width=\"14.400000000000013\" height=\"37.40024183796844\" style=\"fill:black;stroke-width:1;stroke:rgb(255,255,255)\"/>\n",
       "<rect x=\"265.2\" y=\"60.465538089480056\" width=\"14.400000000000013\" height=\"34.53446191051995\" style=\"fill:black;stroke-width:1;stroke:rgb(255,255,255)\"/>\n",
       "<rect x=\"279.6\" y=\"63.74244256348255\" width=\"14.399999999999979\" height=\"31.257557436517462\" style=\"fill:black;stroke-width:1;stroke:rgb(255,255,255)\"/>\n",
       "</svg>"
      ],
      "text/plain": [
       "Histogram(Regular(103, -1, 1), storage=Double()) # Sum: 78385.0 (110000.0 with flow)"
      ]
     },
     "execution_count": 266,
     "metadata": {},
     "output_type": "execute_result"
    }
   ],
   "source": [
    "h.fill(np.random.normal(0.3, 0.1, size=10_000))"
   ]
  },
  {
   "cell_type": "code",
   "execution_count": 214,
   "metadata": {},
   "outputs": [
    {
     "name": "stdout",
     "output_type": "stream",
     "text": [
      "Histogram(Regular(103, -1, 1), storage=Double()) # Sum: 78071.0 (110000.0 with flow)\n"
     ]
    }
   ],
   "source": [
    "print(repr(h))"
   ]
  },
  {
   "cell_type": "code",
   "execution_count": 203,
   "metadata": {},
   "outputs": [],
   "source": [
    "def plot_hist_2d(hi):\n",
    "    assert hi.ndim == 2\n",
    "    assert not hi.axes[0].options.circular\n",
    "    assert not hi.axes[1].options.circular\n",
    "\n",
    "    if len(hi.axes[0]) > 40:\n",
    "        hi = hi[:: bh.rebin(len(hi.axes[0]) // 20), :]\n",
    "    \n",
    "    if len(hi.axes[1]) > 40:\n",
    "        hi = hi[:, :: bh.rebin(len(hi.axes[1]) // 20)]\n",
    "    \n",
    "    h = hi\n",
    "\n",
    "    edges = (h.axes[0].edges, h.axes[1].edges)\n",
    "    norm_edges = ((edges[0] - edges[0][0]) / (edges[0][-1] - edges[0][0]), \n",
    "                  (edges[1] - edges[1][0]) / (edges[1][-1] - edges[1][0]))\n",
    "    \n",
    "    norm_vals = h.view()\n",
    "    if not h.empty():\n",
    "        norm_vals /= functools.reduce(operator.mul, h.axes.widths) / h.sum()\n",
    "        norm_vals /= np.max(norm_vals)\n",
    "\n",
    "    boxes = []\n",
    "    for opacity, left_edge, right_edge in zip(\n",
    "        norm_vals, norm_edges[0][:-1], norm_edges[0][1:]\n",
    "    ):\n",
    "        boxes.append(rect.pad(350, 350, 1, left_edge, right_edge, 0.05, 0.05))\n",
    "        \n",
    "    for opacity, left_edge, right_edge in zip(\n",
    "        norm_vals, norm_edges[1][:-1], norm_edges[1][1:]\n",
    "    ):\n",
    "        boxes.append(rect.pad(350, 350, right_edge, 0, 1, 0.05, 0.05, opacity=opacity))\n",
    "            \n",
    "    texts = [\n",
    "        text(format(edges[0][0], \".3g\"), x=-10, y=30),\n",
    "        text(format(edges[0][-1], \".3g\"), x=350-10, y=30),\n",
    "        text(\n",
    "            \"\\n\".join(textwrap.wrap(repr(hi), 38)),\n",
    "            x=300,\n",
    "            y=40,\n",
    "            style=\"font-family: monospace\",\n",
    "        ),\n",
    "    ]\n",
    "\n",
    "    return svg(*texts, *boxes, width=400, height=400)"
   ]
  },
  {
   "cell_type": "code",
   "execution_count": 204,
   "metadata": {},
   "outputs": [
    {
     "data": {
      "image/svg+xml": [
       "<svg width=\"400\" height=\"400\">\n",
       "<text x=\"-10\" y=\"30\">\n",
       "-1\n",
       "</text>\n",
       "<text x=\"340\" y=\"30\">\n",
       "0.942\n",
       "</text>\n",
       "<text x=\"300\" y=\"40\" style=\"font-family: monospace\">\n",
       "Histogram(   Regular(20, -1,\n",
       "0.941748),   Regular(20, -2, 1.8835),\n",
       "storage=Double()) # Sum:\n",
       "1.9999999999999976\n",
       "</text>\n",
       "<rect x=\"17.5\" y=\"17.5\" width=\"15.750000000000012\" height=\"315.0\" style=\"fill:none;stroke-width:1;stroke:rgb(255,255,255);opacity:0\"/>\n",
       "<rect x=\"33.25000000000001\" y=\"17.5\" width=\"15.74999999999999\" height=\"315.0\" style=\"fill:none;stroke-width:1;stroke:rgb(255,255,255);opacity:0\"/>\n",
       "<rect x=\"49.00000000000001\" y=\"17.5\" width=\"15.749999999999996\" height=\"315.0\" style=\"fill:none;stroke-width:1;stroke:rgb(255,255,255);opacity:0\"/>\n",
       "<rect x=\"64.75\" y=\"17.5\" width=\"15.749999999999988\" height=\"315.0\" style=\"fill:none;stroke-width:1;stroke:rgb(255,255,255);opacity:0\"/>\n",
       "<rect x=\"80.5\" y=\"17.5\" width=\"15.750000000000014\" height=\"315.0\" style=\"fill:none;stroke-width:1;stroke:rgb(255,255,255);opacity:0\"/>\n",
       "<rect x=\"96.25000000000001\" y=\"17.5\" width=\"15.749999999999996\" height=\"315.0\" style=\"fill:none;stroke-width:1;stroke:rgb(255,255,255);opacity:0\"/>\n",
       "<rect x=\"112.0\" y=\"17.5\" width=\"15.749999999999996\" height=\"315.0\" style=\"fill:none;stroke-width:1;stroke:rgb(255,255,255);opacity:0\"/>\n",
       "<rect x=\"127.75\" y=\"17.5\" width=\"15.750000000000014\" height=\"315.0\" style=\"fill:none;stroke-width:1;stroke:rgb(255,255,255);opacity:0\"/>\n",
       "<rect x=\"143.5\" y=\"17.5\" width=\"15.749999999999996\" height=\"315.0\" style=\"fill:none;stroke-width:1;stroke:rgb(255,255,255);opacity:0\"/>\n",
       "<rect x=\"159.25\" y=\"17.5\" width=\"15.749999999999996\" height=\"315.0\" style=\"fill:none;stroke-width:1;stroke:rgb(255,255,255);opacity:0\"/>\n",
       "<rect x=\"175.0\" y=\"17.5\" width=\"15.74999999999998\" height=\"315.0\" style=\"fill:none;stroke-width:1;stroke:rgb(255,255,255);opacity:0\"/>\n",
       "<rect x=\"190.74999999999997\" y=\"17.5\" width=\"15.750000000000014\" height=\"315.0\" style=\"fill:none;stroke-width:1;stroke:rgb(255,255,255);opacity:0\"/>\n",
       "<rect x=\"206.50000000000003\" y=\"17.5\" width=\"15.750000000000014\" height=\"315.0\" style=\"fill:none;stroke-width:1;stroke:rgb(255,255,255);opacity:0\"/>\n",
       "<rect x=\"222.25000000000003\" y=\"17.5\" width=\"15.74999999999998\" height=\"315.0\" style=\"fill:none;stroke-width:1;stroke:rgb(255,255,255);opacity:0\"/>\n",
       "<rect x=\"238.00000000000003\" y=\"17.5\" width=\"15.750000000000014\" height=\"315.0\" style=\"fill:none;stroke-width:1;stroke:rgb(255,255,255);opacity:0\"/>\n",
       "<rect x=\"253.75000000000003\" y=\"17.5\" width=\"15.750000000000014\" height=\"315.0\" style=\"fill:none;stroke-width:1;stroke:rgb(255,255,255);opacity:0\"/>\n",
       "<rect x=\"269.50000000000006\" y=\"17.5\" width=\"15.74999999999998\" height=\"315.0\" style=\"fill:none;stroke-width:1;stroke:rgb(255,255,255);opacity:0\"/>\n",
       "<rect x=\"285.25\" y=\"17.5\" width=\"15.750000000000014\" height=\"315.0\" style=\"fill:none;stroke-width:1;stroke:rgb(255,255,255);opacity:0\"/>\n",
       "<rect x=\"301.00000000000006\" y=\"17.5\" width=\"15.750000000000014\" height=\"315.0\" style=\"fill:none;stroke-width:1;stroke:rgb(255,255,255);opacity:0\"/>\n",
       "<rect x=\"316.75000000000006\" y=\"17.5\" width=\"15.74999999999998\" height=\"315.0\" style=\"fill:none;stroke-width:1;stroke:rgb(255,255,255);opacity:0\"/>\n",
       "<rect x=\"17.5\" y=\"316.75\" width=\"315.0\" height=\"15.750000000000012\" style=\"fill:none;stroke-width:1;stroke:rgb(255,255,255);opacity:[0. 0. 0. 0. 0. 0. 0. 0. 0. 0. 0. 0. 0. 0. 0. 0. 0. 0. 0. 0.]\"/>\n",
       "<rect x=\"17.5\" y=\"301.00000000000006\" width=\"315.0\" height=\"31.500000000000004\" style=\"fill:none;stroke-width:1;stroke:rgb(255,255,255);opacity:[0. 0. 0. 0. 0. 0. 0. 0. 0. 0. 0. 0. 0. 0. 0. 0. 0. 0. 0. 0.]\"/>\n",
       "<rect x=\"17.5\" y=\"285.25\" width=\"315.0\" height=\"47.25\" style=\"fill:none;stroke-width:1;stroke:rgb(255,255,255);opacity:[0. 0. 0. 0. 0. 0. 0. 0. 0. 0. 0. 0. 0. 0. 0. 0. 0. 0. 0. 0.]\"/>\n",
       "<rect x=\"17.5\" y=\"269.50000000000006\" width=\"315.0\" height=\"62.999999999999986\" style=\"fill:none;stroke-width:1;stroke:rgb(255,255,255);opacity:[0. 0. 0. 0. 0. 0. 0. 0. 0. 0. 0. 0. 0. 0. 0. 0. 0. 0. 0. 0.]\"/>\n",
       "<rect x=\"17.5\" y=\"253.75000000000003\" width=\"315.0\" height=\"78.75\" style=\"fill:none;stroke-width:1;stroke:rgb(255,255,255);opacity:[0. 0. 0. 0. 0. 0. 0. 0. 0. 0. 0. 0. 0. 0. 0. 0. 0. 0. 0. 0.]\"/>\n",
       "<rect x=\"17.5\" y=\"238.00000000000003\" width=\"315.0\" height=\"94.5\" style=\"fill:none;stroke-width:1;stroke:rgb(255,255,255);opacity:[0. 0. 0. 0. 0. 0. 0. 0. 0. 0. 0. 0. 0. 0. 0. 0. 0. 0. 0. 0.]\"/>\n",
       "<rect x=\"17.5\" y=\"222.25000000000003\" width=\"315.0\" height=\"110.25\" style=\"fill:none;stroke-width:1;stroke:rgb(255,255,255);opacity:[0. 0. 0. 0. 0. 0. 0. 0. 0. 0. 0. 0. 0. 0. 0. 0. 0. 0. 0. 0.]\"/>\n",
       "<rect x=\"17.5\" y=\"206.50000000000003\" width=\"315.0\" height=\"126.00000000000001\" style=\"fill:none;stroke-width:1;stroke:rgb(255,255,255);opacity:[0. 0. 0. 0. 0. 0. 0. 0. 0. 0. 0. 0. 0. 0. 0. 0. 0. 0. 0. 0.]\"/>\n",
       "<rect x=\"17.5\" y=\"190.75\" width=\"315.0\" height=\"141.75\" style=\"fill:none;stroke-width:1;stroke:rgb(255,255,255);opacity:[0. 0. 0. 0. 0. 0. 0. 0. 0. 0. 0. 0. 0. 0. 0. 0. 0. 0. 0. 0.]\"/>\n",
       "<rect x=\"17.5\" y=\"175.0\" width=\"315.0\" height=\"157.5\" style=\"fill:none;stroke-width:1;stroke:rgb(255,255,255);opacity:[0. 0. 0. 0. 0. 0. 0. 0. 0. 0. 0. 0. 0. 0. 0. 0. 0. 0. 0. 0.]\"/>\n",
       "<rect x=\"17.5\" y=\"159.25000000000003\" width=\"315.0\" height=\"173.24999999999997\" style=\"fill:none;stroke-width:1;stroke:rgb(255,255,255);opacity:[0. 0. 0. 0. 0. 0. 0. 0. 0. 0. 0. 0. 0. 0. 0. 0. 0. 0. 0. 0.]\"/>\n",
       "<rect x=\"17.5\" y=\"143.5\" width=\"315.0\" height=\"189.0\" style=\"fill:none;stroke-width:1;stroke:rgb(255,255,255);opacity:[0. 0. 0. 0. 0. 0. 0. 0. 0. 0. 1. 1. 0. 0. 0. 0. 0. 0. 0. 0.]\"/>\n",
       "<rect x=\"17.5\" y=\"127.75\" width=\"315.0\" height=\"204.75000000000003\" style=\"fill:none;stroke-width:1;stroke:rgb(255,255,255);opacity:[0. 0. 0. 0. 0. 0. 0. 0. 0. 0. 0. 0. 0. 0. 0. 0. 0. 0. 0. 0.]\"/>\n",
       "<rect x=\"17.5\" y=\"112.00000000000003\" width=\"315.0\" height=\"220.5\" style=\"fill:none;stroke-width:1;stroke:rgb(255,255,255);opacity:[0. 0. 0. 0. 0. 0. 0. 0. 0. 0. 0. 0. 0. 0. 0. 0. 0. 0. 0. 0.]\"/>\n",
       "<rect x=\"17.5\" y=\"96.25000000000001\" width=\"315.0\" height=\"236.25000000000003\" style=\"fill:none;stroke-width:1;stroke:rgb(255,255,255);opacity:[0. 0. 0. 0. 0. 0. 0. 0. 0. 0. 0. 0. 0. 0. 0. 0. 0. 0. 0. 0.]\"/>\n",
       "<rect x=\"17.5\" y=\"80.5\" width=\"315.0\" height=\"252.00000000000003\" style=\"fill:none;stroke-width:1;stroke:rgb(255,255,255);opacity:[0. 0. 0. 0. 0. 0. 0. 0. 0. 0. 0. 0. 0. 0. 0. 0. 0. 0. 0. 0.]\"/>\n",
       "<rect x=\"17.5\" y=\"64.75000000000001\" width=\"315.0\" height=\"267.75\" style=\"fill:none;stroke-width:1;stroke:rgb(255,255,255);opacity:[0. 0. 0. 0. 0. 0. 0. 0. 0. 0. 0. 0. 0. 0. 0. 0. 0. 0. 0. 0.]\"/>\n",
       "<rect x=\"17.5\" y=\"48.99999999999999\" width=\"315.0\" height=\"283.5\" style=\"fill:none;stroke-width:1;stroke:rgb(255,255,255);opacity:[0. 0. 0. 0. 0. 0. 0. 0. 0. 0. 0. 0. 0. 0. 0. 0. 0. 0. 0. 0.]\"/>\n",
       "<rect x=\"17.5\" y=\"33.24999999999998\" width=\"315.0\" height=\"299.25000000000006\" style=\"fill:none;stroke-width:1;stroke:rgb(255,255,255);opacity:[0. 0. 0. 0. 0. 0. 0. 0. 0. 0. 0. 0. 0. 0. 0. 0. 0. 0. 0. 0.]\"/>\n",
       "<rect x=\"17.5\" y=\"17.5\" width=\"315.0\" height=\"315.0\" style=\"fill:none;stroke-width:1;stroke:rgb(255,255,255);opacity:[0. 0. 0. 0. 0. 0. 0. 0. 0. 0. 0. 0. 0. 0. 0. 0. 0. 0. 0. 0.]\"/>\n",
       "</svg>"
      ],
      "text/plain": [
       "Histogram(\n",
       "  Regular(103, -1, 1),\n",
       "  Regular(103, -2, 2),\n",
       "  storage=Double()) # Sum: 2.0"
      ]
     },
     "execution_count": 204,
     "metadata": {},
     "output_type": "execute_result"
    }
   ],
   "source": [
    "h = Histogram(bh.axis.Regular(103, -1, 1), bh.axis.Regular(103, -2, 2)).fill([.1, .1], [.1, .2])\n",
    "h"
   ]
  },
  {
   "cell_type": "code",
   "execution_count": null,
   "metadata": {},
   "outputs": [],
   "source": []
  },
  {
   "cell_type": "code",
   "execution_count": null,
   "metadata": {},
   "outputs": [],
   "source": []
  }
 ],
 "metadata": {
  "kernelspec": {
   "display_name": "Python 3",
   "language": "python",
   "name": "python3"
  },
  "language_info": {
   "codemirror_mode": {
    "name": "ipython",
    "version": 3
   },
   "file_extension": ".py",
   "mimetype": "text/x-python",
   "name": "python",
   "nbconvert_exporter": "python",
   "pygments_lexer": "ipython3",
   "version": "3.7.7"
  }
 },
 "nbformat": 4,
 "nbformat_minor": 4
}
