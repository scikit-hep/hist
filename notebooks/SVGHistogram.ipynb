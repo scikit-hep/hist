{
 "cells": [
  {
   "cell_type": "markdown",
   "metadata": {},
   "source": [
    "Let's add a little class to make producing XML (and therefor SVG) easy. Note that this originally targeted boost-histogram, so it's written in Python 2 compatible style and does not use any external libraries."
   ]
  },
  {
   "cell_type": "code",
   "execution_count": null,
   "metadata": {},
   "outputs": [],
   "source": [
    "class XML(object):\n",
    "    def __init__(self, *contents, **kargs):\n",
    "        self.properties = kargs\n",
    "        self.contents = contents\n",
    "\n",
    "    @property\n",
    "    def name(self):\n",
    "        return self.__class__.__name__\n",
    "\n",
    "    @property\n",
    "    def start(self):\n",
    "        if self.properties:\n",
    "            ending = \" \" + \" \".join(\n",
    "                '{a}=\"{b}\"'.format(a=a.replace(\"_\", \"-\"), b=b)\n",
    "                for a, b in self.properties.items()\n",
    "            )\n",
    "        else:\n",
    "            ending = \"\"\n",
    "        return self.name + ending\n",
    "\n",
    "    def __str__(self):\n",
    "        if self.contents:\n",
    "            return \"<{self.start}>\\n{contents}\\n</{self.name}>\".format(\n",
    "                self=self, contents=\"\\n\".join(str(s) for s in self.contents)\n",
    "            )\n",
    "        else:\n",
    "            return \"<{self.start}/>\".format(self=self)"
   ]
  },
  {
   "cell_type": "markdown",
   "metadata": {},
   "source": [
    "Now let's add classes that exactly correspond to the `XML` tags:"
   ]
  },
  {
   "cell_type": "code",
   "execution_count": null,
   "metadata": {},
   "outputs": [],
   "source": [
    "class svg(XML):\n",
    "    def _repr_svg_(self):\n",
    "        return str(self)\n",
    "\n",
    "\n",
    "class circle(XML):\n",
    "    pass\n",
    "\n",
    "\n",
    "class line(XML):\n",
    "    pass\n",
    "\n",
    "\n",
    "class rect(XML):\n",
    "    pass\n",
    "\n",
    "\n",
    "class ellipse(XML):\n",
    "    pass\n",
    "\n",
    "\n",
    "class polygon(XML):\n",
    "    pass\n",
    "\n",
    "\n",
    "class polyline(XML):\n",
    "    pass\n",
    "\n",
    "\n",
    "# path\n",
    "class text(XML):\n",
    "    pass\n",
    "\n",
    "\n",
    "class g(XML):\n",
    "    pass"
   ]
  },
  {
   "cell_type": "code",
   "execution_count": null,
   "metadata": {},
   "outputs": [],
   "source": [
    "class rect(XML):\n",
    "    @classmethod\n",
    "    def pad(cls, scale_x, scale_y, height, left_edge, right_edge, pad_x=0, pad_y=0):\n",
    "        width = right_edge - left_edge\n",
    "        center_y = height / 2.0\n",
    "        top_y = 1 - height\n",
    "\n",
    "        height = height * (1 - 2 * pad_y)\n",
    "        top_y = top_y * (1 - 2 * pad_y) + pad_y\n",
    "        left_edge = left_edge * (1 - 2 * pad_x) + pad_x\n",
    "        width = width * (1 - 2 * pad_x)\n",
    "\n",
    "        return cls(\n",
    "            x=left_edge * scale_x,\n",
    "            y=top_y * scale_y,\n",
    "            width=width * scale_x,\n",
    "            height=height * scale_y,\n",
    "            style=\"fill:none;stroke-width:1;stroke:rgb(0,0,0)\",\n",
    "        )"
   ]
  },
  {
   "cell_type": "markdown",
   "metadata": {},
   "source": [
    "Now let's make sure these work as expected:"
   ]
  },
  {
   "cell_type": "code",
   "execution_count": null,
   "metadata": {},
   "outputs": [],
   "source": [
    "c1 = circle(cx=50, cy=50, r=40, stroke=\"black\", stroke_width=3, fill=\"white\")\n",
    "s1 = svg(c1, height=100, width=300)\n",
    "s1"
   ]
  },
  {
   "cell_type": "code",
   "execution_count": null,
   "metadata": {},
   "outputs": [],
   "source": [
    "print(s1)"
   ]
  },
  {
   "cell_type": "code",
   "execution_count": 6,
   "metadata": {},
   "outputs": [],
   "source": [
    "import textwrap\n",
    "import numpy as np\n",
    "import boost_histogram as bh\n",
    "import functools\n",
    "import operator"
   ]
  },
  {
   "cell_type": "markdown",
   "metadata": {},
   "source": [
    "Now let's make a svg plotting function:\n",
    "\n",
    "This automatically but poorly scales if the axes is more than 40 bins wide. The issue is that it simply rebins, rather than making uneven width bins when necessary."
   ]
  },
  {
   "cell_type": "code",
   "execution_count": 7,
   "metadata": {},
   "outputs": [],
   "source": [
    "def plot_hist_1d(hi):\n",
    "    assert hi.ndim == 1\n",
    "    assert not hi.axes[0].options.circular\n",
    "\n",
    "    if len(hi.axes[0]) > 40:\n",
    "        h = hi[:: bh.rebin(len(hi.axes[0]) // 20)]\n",
    "    else:\n",
    "        h = hi\n",
    "\n",
    "    (edges,) = h.axes.edges\n",
    "    norm_edges = (edges - edges[0]) / (edges[-1] - edges[0])\n",
    "    norm_vals = h.view()\n",
    "    if not h.empty():\n",
    "        norm_vals /= functools.reduce(operator.mul, h.axes.widths) / h.sum()\n",
    "        norm_vals /= np.max(norm_vals)\n",
    "\n",
    "    boxes = []\n",
    "    for height, left_edge, right_edge in zip(\n",
    "        norm_vals, norm_edges[:-1], norm_edges[1:]\n",
    "    ):\n",
    "        boxes.append(rect.pad(300, 100, height, left_edge, right_edge, 0.02, 0.05))\n",
    "\n",
    "    # boxes.append(rect(x=0, y=0, width=600, height=120, style=\"fill:none;stroke-width:3;stroke:rgb(0,0,0)\"))\n",
    "    ax_line = line(\n",
    "        x1=0,\n",
    "        y1=100 * 0.95,\n",
    "        x2=300,\n",
    "        y2=100 * 0.95,\n",
    "        style=\"fill:none;stroke-width:2;stroke:rgb(0,0,0)\",\n",
    "    )\n",
    "    texts = [\n",
    "        text(format(edges[0], \".3g\"), x=10, y=110),\n",
    "        text(format(edges[-1], \".3g\"), x=300 - 20, y=110),\n",
    "        text(\n",
    "            \"\\n\".join(textwrap.wrap(repr(hi), 38)),\n",
    "            x=300,\n",
    "            y=40,\n",
    "            style=\"font-family: monospace\",\n",
    "        ),\n",
    "    ]\n",
    "\n",
    "    return svg(ax_line, *texts, *boxes, width=600, height=120)"
   ]
  },
  {
   "cell_type": "markdown",
   "metadata": {},
   "source": [
    "And let's add it inline. (In an actual library, this should just have been a method, really)"
   ]
  },
  {
   "cell_type": "code",
   "execution_count": 8,
   "metadata": {},
   "outputs": [],
   "source": [
    "class Histogram(bh.Histogram):\n",
    "    def _repr_svg_(self):\n",
    "        # This can be _repr_html_ instead, too - would make adding text easier/nicer\n",
    "        return plot_hist_1d(self)._repr_svg_()"
   ]
  },
  {
   "cell_type": "code",
   "execution_count": 9,
   "metadata": {},
   "outputs": [
    {
     "data": {
      "image/svg+xml": [
       "<svg width=\"600\" height=\"120\">\n",
       "<line x1=\"0\" y1=\"95.0\" x2=\"300\" y2=\"95.0\" style=\"fill:none;stroke-width:2;stroke:rgb(0,0,0)\"/>\n",
       "<text x=\"10\" y=\"110\">\n",
       "-1\n",
       "</text>\n",
       "<text x=\"280\" y=\"110\">\n",
       "0.942\n",
       "</text>\n",
       "<text x=\"300\" y=\"40\" style=\"font-family: monospace\">\n",
       "Histogram(Regular(103, -1, 1),\n",
       "storage=Double())\n",
       "</text>\n",
       "<rect x=\"6.0\" y=\"95.0\" width=\"14.400000000000011\" height=\"0.0\" style=\"fill:none;stroke-width:1;stroke:rgb(0,0,0)\"/>\n",
       "<rect x=\"20.40000000000001\" y=\"95.0\" width=\"14.39999999999999\" height=\"0.0\" style=\"fill:none;stroke-width:1;stroke:rgb(0,0,0)\"/>\n",
       "<rect x=\"34.800000000000004\" y=\"95.0\" width=\"14.399999999999997\" height=\"0.0\" style=\"fill:none;stroke-width:1;stroke:rgb(0,0,0)\"/>\n",
       "<rect x=\"49.199999999999996\" y=\"95.0\" width=\"14.399999999999988\" height=\"0.0\" style=\"fill:none;stroke-width:1;stroke:rgb(0,0,0)\"/>\n",
       "<rect x=\"63.59999999999998\" y=\"95.0\" width=\"14.400000000000013\" height=\"0.0\" style=\"fill:none;stroke-width:1;stroke:rgb(0,0,0)\"/>\n",
       "<rect x=\"78.0\" y=\"95.0\" width=\"14.399999999999997\" height=\"0.0\" style=\"fill:none;stroke-width:1;stroke:rgb(0,0,0)\"/>\n",
       "<rect x=\"92.4\" y=\"95.0\" width=\"14.399999999999997\" height=\"0.0\" style=\"fill:none;stroke-width:1;stroke:rgb(0,0,0)\"/>\n",
       "<rect x=\"106.8\" y=\"95.0\" width=\"14.400000000000013\" height=\"0.0\" style=\"fill:none;stroke-width:1;stroke:rgb(0,0,0)\"/>\n",
       "<rect x=\"121.2\" y=\"95.0\" width=\"14.399999999999997\" height=\"0.0\" style=\"fill:none;stroke-width:1;stroke:rgb(0,0,0)\"/>\n",
       "<rect x=\"135.6\" y=\"95.0\" width=\"14.399999999999997\" height=\"0.0\" style=\"fill:none;stroke-width:1;stroke:rgb(0,0,0)\"/>\n",
       "<rect x=\"150.0\" y=\"95.0\" width=\"14.399999999999979\" height=\"0.0\" style=\"fill:none;stroke-width:1;stroke:rgb(0,0,0)\"/>\n",
       "<rect x=\"164.39999999999998\" y=\"95.0\" width=\"14.400000000000013\" height=\"0.0\" style=\"fill:none;stroke-width:1;stroke:rgb(0,0,0)\"/>\n",
       "<rect x=\"178.79999999999998\" y=\"95.0\" width=\"14.400000000000013\" height=\"0.0\" style=\"fill:none;stroke-width:1;stroke:rgb(0,0,0)\"/>\n",
       "<rect x=\"193.20000000000002\" y=\"95.0\" width=\"14.399999999999979\" height=\"0.0\" style=\"fill:none;stroke-width:1;stroke:rgb(0,0,0)\"/>\n",
       "<rect x=\"207.6\" y=\"95.0\" width=\"14.400000000000013\" height=\"0.0\" style=\"fill:none;stroke-width:1;stroke:rgb(0,0,0)\"/>\n",
       "<rect x=\"222.0\" y=\"95.0\" width=\"14.400000000000013\" height=\"0.0\" style=\"fill:none;stroke-width:1;stroke:rgb(0,0,0)\"/>\n",
       "<rect x=\"236.4\" y=\"95.0\" width=\"14.399999999999979\" height=\"0.0\" style=\"fill:none;stroke-width:1;stroke:rgb(0,0,0)\"/>\n",
       "<rect x=\"250.79999999999998\" y=\"95.0\" width=\"14.400000000000013\" height=\"0.0\" style=\"fill:none;stroke-width:1;stroke:rgb(0,0,0)\"/>\n",
       "<rect x=\"265.2\" y=\"95.0\" width=\"14.400000000000013\" height=\"0.0\" style=\"fill:none;stroke-width:1;stroke:rgb(0,0,0)\"/>\n",
       "<rect x=\"279.6\" y=\"95.0\" width=\"14.399999999999979\" height=\"0.0\" style=\"fill:none;stroke-width:1;stroke:rgb(0,0,0)\"/>\n",
       "</svg>"
      ],
      "text/plain": [
       "Histogram(Regular(103, -1, 1), storage=Double())"
      ]
     },
     "execution_count": 9,
     "metadata": {},
     "output_type": "execute_result"
    }
   ],
   "source": [
    "h = Histogram(bh.axis.Regular(103, -1, 1))\n",
    "h"
   ]
  },
  {
   "cell_type": "code",
   "execution_count": 10,
   "metadata": {},
   "outputs": [
    {
     "data": {
      "image/svg+xml": [
       "<svg width=\"600\" height=\"120\">\n",
       "<line x1=\"0\" y1=\"95.0\" x2=\"300\" y2=\"95.0\" style=\"fill:none;stroke-width:2;stroke:rgb(0,0,0)\"/>\n",
       "<text x=\"10\" y=\"110\">\n",
       "-1\n",
       "</text>\n",
       "<text x=\"280\" y=\"110\">\n",
       "0.942\n",
       "</text>\n",
       "<text x=\"300\" y=\"40\" style=\"font-family: monospace\">\n",
       "Histogram(Regular(103, -1, 1),\n",
       "storage=Double()) # Sum: 68463.0\n",
       "(100000.0 with flow)\n",
       "</text>\n",
       "<rect x=\"6.0\" y=\"39.23814328960649\" width=\"14.400000000000011\" height=\"55.76185671039351\" style=\"fill:none;stroke-width:1;stroke:rgb(0,0,0)\"/>\n",
       "<rect x=\"20.40000000000001\" y=\"32.42684157416748\" width=\"14.39999999999999\" height=\"62.57315842583252\" style=\"fill:none;stroke-width:1;stroke:rgb(0,0,0)\"/>\n",
       "<rect x=\"34.800000000000004\" y=\"29.793138244197753\" width=\"14.399999999999997\" height=\"65.20686175580225\" style=\"fill:none;stroke-width:1;stroke:rgb(0,0,0)\"/>\n",
       "<rect x=\"49.199999999999996\" y=\"24.207870837537808\" width=\"14.399999999999988\" height=\"70.79212916246219\" style=\"fill:none;stroke-width:1;stroke:rgb(0,0,0)\"/>\n",
       "<rect x=\"63.59999999999998\" y=\"20.03027245206867\" width=\"14.400000000000013\" height=\"74.96972754793133\" style=\"fill:none;stroke-width:1;stroke:rgb(0,0,0)\"/>\n",
       "<rect x=\"78.0\" y=\"16.94248234106963\" width=\"14.399999999999997\" height=\"78.05751765893037\" style=\"fill:none;stroke-width:1;stroke:rgb(0,0,0)\"/>\n",
       "<rect x=\"92.4\" y=\"12.696770938445981\" width=\"14.399999999999997\" height=\"82.30322906155402\" style=\"fill:none;stroke-width:1;stroke:rgb(0,0,0)\"/>\n",
       "<rect x=\"106.8\" y=\"9.450050454086835\" width=\"14.400000000000013\" height=\"85.54994954591317\" style=\"fill:none;stroke-width:1;stroke:rgb(0,0,0)\"/>\n",
       "<rect x=\"121.2\" y=\"8.496468213925294\" width=\"14.399999999999997\" height=\"86.5035317860747\" style=\"fill:none;stroke-width:1;stroke:rgb(0,0,0)\"/>\n",
       "<rect x=\"135.6\" y=\"5.0\" width=\"14.399999999999997\" height=\"90.0\" style=\"fill:none;stroke-width:1;stroke:rgb(0,0,0)\"/>\n",
       "<rect x=\"150.0\" y=\"6.112512613521751\" width=\"14.399999999999979\" height=\"88.88748738647824\" style=\"fill:none;stroke-width:1;stroke:rgb(0,0,0)\"/>\n",
       "<rect x=\"164.39999999999998\" y=\"9.33652875882933\" width=\"14.400000000000013\" height=\"85.66347124117067\" style=\"fill:none;stroke-width:1;stroke:rgb(0,0,0)\"/>\n",
       "<rect x=\"178.79999999999998\" y=\"9.450050454086945\" width=\"14.400000000000013\" height=\"85.54994954591307\" style=\"fill:none;stroke-width:1;stroke:rgb(0,0,0)\"/>\n",
       "<rect x=\"193.20000000000002\" y=\"9.56357214934396\" width=\"14.399999999999979\" height=\"85.43642785065603\" style=\"fill:none;stroke-width:1;stroke:rgb(0,0,0)\"/>\n",
       "<rect x=\"207.6\" y=\"14.331483350151414\" width=\"14.400000000000013\" height=\"80.66851664984858\" style=\"fill:none;stroke-width:1;stroke:rgb(0,0,0)\"/>\n",
       "<rect x=\"222.0\" y=\"18.395560040363318\" width=\"14.400000000000013\" height=\"76.60443995963668\" style=\"fill:none;stroke-width:1;stroke:rgb(0,0,0)\"/>\n",
       "<rect x=\"236.4\" y=\"20.370837537840448\" width=\"14.399999999999979\" height=\"74.62916246215956\" style=\"fill:none;stroke-width:1;stroke:rgb(0,0,0)\"/>\n",
       "<rect x=\"250.79999999999998\" y=\"26.97780020181647\" width=\"14.400000000000013\" height=\"68.02219979818354\" style=\"fill:none;stroke-width:1;stroke:rgb(0,0,0)\"/>\n",
       "<rect x=\"265.2\" y=\"31.382441977800102\" width=\"14.400000000000013\" height=\"63.6175580221999\" style=\"fill:none;stroke-width:1;stroke:rgb(0,0,0)\"/>\n",
       "<rect x=\"279.6\" y=\"34.424823410696305\" width=\"14.399999999999979\" height=\"60.5751765893037\" style=\"fill:none;stroke-width:1;stroke:rgb(0,0,0)\"/>\n",
       "</svg>"
      ],
      "text/plain": [
       "Histogram(Regular(103, -1, 1), storage=Double()) # Sum: 68463.0 (100000.0 with flow)"
      ]
     },
     "execution_count": 10,
     "metadata": {},
     "output_type": "execute_result"
    }
   ],
   "source": [
    "h.fill(np.random.normal(size=100_000))"
   ]
  },
  {
   "cell_type": "code",
   "execution_count": 11,
   "metadata": {},
   "outputs": [
    {
     "data": {
      "image/svg+xml": [
       "<svg width=\"600\" height=\"120\">\n",
       "<line x1=\"0\" y1=\"95.0\" x2=\"300\" y2=\"95.0\" style=\"fill:none;stroke-width:2;stroke:rgb(0,0,0)\"/>\n",
       "<text x=\"10\" y=\"110\">\n",
       "-1\n",
       "</text>\n",
       "<text x=\"280\" y=\"110\">\n",
       "0.942\n",
       "</text>\n",
       "<text x=\"300\" y=\"40\" style=\"font-family: monospace\">\n",
       "Histogram(Regular(103, -1, 1),\n",
       "storage=Double()) # Sum: 78463.0\n",
       "(110000.0 with flow)\n",
       "</text>\n",
       "<rect x=\"6.0\" y=\"65.61419835150234\" width=\"14.400000000000011\" height=\"29.385801648497672\" style=\"fill:none;stroke-width:1;stroke:rgb(0,0,0)\"/>\n",
       "<rect x=\"20.40000000000001\" y=\"62.024727466099485\" width=\"14.39999999999999\" height=\"32.97527253390052\" style=\"fill:none;stroke-width:1;stroke:rgb(0,0,0)\"/>\n",
       "<rect x=\"34.800000000000004\" y=\"60.63679872374372\" width=\"14.399999999999997\" height=\"34.36320127625628\" style=\"fill:none;stroke-width:1;stroke:rgb(0,0,0)\"/>\n",
       "<rect x=\"49.199999999999996\" y=\"57.69343259771341\" width=\"14.399999999999988\" height=\"37.30656740228658\" style=\"fill:none;stroke-width:1;stroke:rgb(0,0,0)\"/>\n",
       "<rect x=\"63.59999999999998\" y=\"55.49189045466642\" width=\"14.400000000000013\" height=\"39.508109545333596\" style=\"fill:none;stroke-width:1;stroke:rgb(0,0,0)\"/>\n",
       "<rect x=\"78.0\" y=\"53.864663653283785\" width=\"14.399999999999997\" height=\"41.13533634671622\" style=\"fill:none;stroke-width:1;stroke:rgb(0,0,0)\"/>\n",
       "<rect x=\"92.4\" y=\"51.62722680138266\" width=\"14.399999999999997\" height=\"43.37277319861734\" style=\"fill:none;stroke-width:1;stroke:rgb(0,0,0)\"/>\n",
       "<rect x=\"106.8\" y=\"49.91624567934071\" width=\"14.400000000000013\" height=\"45.08375432065929\" style=\"fill:none;stroke-width:1;stroke:rgb(0,0,0)\"/>\n",
       "<rect x=\"121.2\" y=\"49.41371975538426\" width=\"14.399999999999997\" height=\"45.58628024461574\" style=\"fill:none;stroke-width:1;stroke:rgb(0,0,0)\"/>\n",
       "<rect x=\"135.6\" y=\"47.54719489497484\" width=\"14.399999999999997\" height=\"47.45280510502516\" style=\"fill:none;stroke-width:1;stroke:rgb(0,0,0)\"/>\n",
       "<rect x=\"150.0\" y=\"47.06859877692114\" width=\"14.399999999999979\" height=\"47.93140122307886\" style=\"fill:none;stroke-width:1;stroke:rgb(0,0,0)\"/>\n",
       "<rect x=\"164.39999999999998\" y=\"40.91863865993087\" width=\"14.400000000000013\" height=\"54.08136134006912\" style=\"fill:none;stroke-width:1;stroke:rgb(0,0,0)\"/>\n",
       "<rect x=\"178.79999999999998\" y=\"18.20925285828265\" width=\"14.400000000000013\" height=\"76.79074714171735\" style=\"fill:none;stroke-width:1;stroke:rgb(0,0,0)\"/>\n",
       "<rect x=\"193.20000000000002\" y=\"5.0\" width=\"14.399999999999979\" height=\"90.0\" style=\"fill:none;stroke-width:1;stroke:rgb(0,0,0)\"/>\n",
       "<rect x=\"207.6\" y=\"26.608614730125126\" width=\"14.400000000000013\" height=\"68.39138526987487\" style=\"fill:none;stroke-width:1;stroke:rgb(0,0,0)\"/>\n",
       "<rect x=\"222.0\" y=\"48.372773198617494\" width=\"14.400000000000013\" height=\"46.627226801382506\" style=\"fill:none;stroke-width:1;stroke:rgb(0,0,0)\"/>\n",
       "<rect x=\"236.4\" y=\"54.905610210050526\" width=\"14.399999999999979\" height=\"40.09438978994948\" style=\"fill:none;stroke-width:1;stroke:rgb(0,0,0)\"/>\n",
       "<rect x=\"250.79999999999998\" y=\"59.14118585482597\" width=\"14.400000000000013\" height=\"35.85881414517403\" style=\"fill:none;stroke-width:1;stroke:rgb(0,0,0)\"/>\n",
       "<rect x=\"265.2\" y=\"61.47434193033769\" width=\"14.400000000000013\" height=\"33.52565806966232\" style=\"fill:none;stroke-width:1;stroke:rgb(0,0,0)\"/>\n",
       "<rect x=\"279.6\" y=\"63.07763892581768\" width=\"14.399999999999979\" height=\"31.922361074182326\" style=\"fill:none;stroke-width:1;stroke:rgb(0,0,0)\"/>\n",
       "</svg>"
      ],
      "text/plain": [
       "Histogram(Regular(103, -1, 1), storage=Double()) # Sum: 78463.0 (110000.0 with flow)"
      ]
     },
     "execution_count": 11,
     "metadata": {},
     "output_type": "execute_result"
    }
   ],
   "source": [
    "h.fill(np.random.normal(0.3, 0.1, size=10_000))"
   ]
  },
  {
   "cell_type": "code",
   "execution_count": 12,
   "metadata": {},
   "outputs": [
    {
     "name": "stdout",
     "output_type": "stream",
     "text": [
      "Histogram(Regular(103, -1, 1), storage=Double()) # Sum: 78463.0 (110000.0 with flow)\n"
     ]
    }
   ],
   "source": [
    "print(repr(h))"
   ]
  }
 ],
 "metadata": {
  "kernelspec": {
   "display_name": "Python 3",
   "language": "python",
   "name": "python3"
  },
  "language_info": {
   "codemirror_mode": {
    "name": "ipython",
    "version": 3
   },
   "file_extension": ".py",
   "mimetype": "text/x-python",
   "name": "python",
   "nbconvert_exporter": "python",
   "pygments_lexer": "ipython3",
   "version": "3.8.3"
  }
 },
 "nbformat": 4,
 "nbformat_minor": 4
}
