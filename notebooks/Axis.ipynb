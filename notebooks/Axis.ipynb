{
 "cells": [
  {
   "cell_type": "markdown",
   "metadata": {},
   "source": [
    "# Axis\n",
    "\n",
    "```warning\n",
    "The hist package is still under active development, the usage and contents are in flux.\n",
    "```"
   ]
  },
  {
   "cell_type": "markdown",
   "metadata": {},
   "source": [
    "## Axis Types\n",
    "\n",
    "Based on [boost-histogram](https://github.com/scikit-hep/boost-histogram)'s Axis, hist support six types of axis, `Regular`, `Boolean`, `Variable`, `Integer`, `IntCategory` and `StrCategory` with additional names and titles. \n",
    "\n",
    "Names are pretty useful for some histogramming shortcuts, thus greatly facilitate HEP's studies. Note that the name is the identifier for an axis in a histogram, thus must be unique and follow the naming conventions of Python variables."
   ]
  },
  {
   "cell_type": "code",
   "execution_count": 1,
   "metadata": {},
   "outputs": [],
   "source": [
    "import hist"
   ]
  },
  {
   "cell_type": "code",
   "execution_count": 2,
   "metadata": {},
   "outputs": [],
   "source": [
    "axis0 = hist.axis.Regular(10, -5, 5, overflow=False, underflow=False, name=\"A\")\n",
    "axis1 = hist.axis.Boolean(name=\"B\")\n",
    "axis2 = hist.axis.Variable(range(10), name=\"C\")\n",
    "axis3 = hist.axis.Integer(-5, 5, overflow=False, underflow=False, name=\"D\")\n",
    "axis4 = hist.axis.IntCategory(range(10), name=\"E\")\n",
    "axis5 = hist.axis.StrCategory([\"T\", \"F\"], name=\"F\")"
   ]
  },
  {
   "cell_type": "markdown",
   "metadata": {},
   "source": [
    "## Histogram's Axis\n",
    "\n",
    "Histogram is consisted with various axes, there are two ways to create a histogram, currently. You can either fill a histogram object with axes or add axes to a histogram object. You cannot add axes to an existing histogram. *Note that to distinguish these two method, the second way has different axis type names (abbr.).*"
   ]
  },
  {
   "cell_type": "code",
   "execution_count": 3,
   "metadata": {},
   "outputs": [],
   "source": [
    "# add the axes\n",
    "h = hist.Hist.Reg(\n",
    "    10, -5, 5, overflow=False, underflow=False, name=\"A\"\n",
    ").Bool(\n",
    "    name=\"B\"\n",
    ").Var(\n",
    "    range(10), name=\"C\"\n",
    ").Int(\n",
    "    -5, 5, overflow=False, underflow=False, name=\"D\"\n",
    ").IntCat(\n",
    "    range(10), name=\"E\"\n",
    ").StrCat(\n",
    "    [\"T\", \"F\"], name=\"F\"\n",
    ")"
   ]
  },
  {
   "cell_type": "code",
   "execution_count": 4,
   "metadata": {},
   "outputs": [],
   "source": [
    "# fill the axes\n",
    "h = hist.Hist(axis0, axis1, axis2, axis3, axis4, axis5)"
   ]
  },
  {
   "cell_type": "markdown",
   "metadata": {},
   "source": [
    "AxisTuple is a new feature since boost-histogram 0.8.0, which provides you free access to axis properties in a histogram."
   ]
  },
  {
   "cell_type": "code",
   "execution_count": 5,
   "metadata": {},
   "outputs": [],
   "source": [
    "assert h.axes[0].name == axis0.name\n",
    "assert h.axes[1].title == axis1.name # title will be returned as name if not provided\n",
    "assert all(h.axes[2].widths == axis2.widths)\n",
    "assert all(h.axes[3].edges == axis3.edges)\n",
    "assert h.axes[4].metadata == axis4.metadata\n",
    "assert all(h.axes[5].centers == axis5.centers)"
   ]
  }
 ],
 "metadata": {
  "kernelspec": {
   "display_name": "hist",
   "language": "python",
   "name": "hist"
  },
  "language_info": {
   "codemirror_mode": {
    "name": "ipython",
    "version": 3
   },
   "file_extension": ".py",
   "mimetype": "text/x-python",
   "name": "python",
   "nbconvert_exporter": "python",
   "pygments_lexer": "ipython3",
   "version": "3.8.3"
  }
 },
 "nbformat": 4,
 "nbformat_minor": 4
}
