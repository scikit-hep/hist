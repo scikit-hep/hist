{
 "cells": [
  {
   "cell_type": "markdown",
   "id": "cd7d24b8-df06-42a2-8cbc-f66eaa59c439",
   "metadata": {},
   "source": [
    "# Set AxesTuple Attributes\n",
    "\n",
    "This is a small demo for \\#274, could be removed after finished."
   ]
  },
  {
   "cell_type": "code",
   "execution_count": 1,
   "id": "64ab1f7d-0a8d-4ffa-bff2-e9e5268995f7",
   "metadata": {},
   "outputs": [],
   "source": [
    "from hist import axis, Hist\n",
    "\n",
    "h = Hist.new.Reg(50, -3, 3, name=\"X\").Reg(50, -3, 3, name=\"Y\").Double()"
   ]
  },
  {
   "cell_type": "code",
   "execution_count": 2,
   "id": "a575426e-40f5-4b42-b795-9339ba9c1b8b",
   "metadata": {},
   "outputs": [
    {
     "data": {
      "text/plain": [
       "('name1', 'name2')"
      ]
     },
     "execution_count": 2,
     "metadata": {},
     "output_type": "execute_result"
    }
   ],
   "source": [
    "h.axes.name = (\"name1\", \"name2\")\n",
    "h.axes.name"
   ]
  },
  {
   "cell_type": "code",
   "execution_count": 3,
   "id": "8b4624af-40ca-4afd-a897-3279294febc4",
   "metadata": {},
   "outputs": [],
   "source": [
    "# some exceptions\n",
    "\n",
    "# h.axes.name = (\"name1\", \"name2\", \"name3\")\n",
    "# h.axes[0].name = \"hello\"\n",
    "# h.axes.name = (\"name1\", \"name1\")"
   ]
  }
 ],
 "metadata": {
  "kernelspec": {
   "display_name": "hist",
   "language": "python",
   "name": "hist"
  },
  "language_info": {
   "codemirror_mode": {
    "name": "ipython",
    "version": 3
   },
   "file_extension": ".py",
   "mimetype": "text/x-python",
   "name": "python",
   "nbconvert_exporter": "python",
   "pygments_lexer": "ipython3",
   "version": "3.9.4"
  }
 },
 "nbformat": 4,
 "nbformat_minor": 5
}
