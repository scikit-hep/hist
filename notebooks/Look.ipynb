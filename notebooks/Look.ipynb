{
 "cells": [
  {
   "cell_type": "markdown",
   "metadata": {},
   "source": [
    "# Look 👀"
   ]
  },
  {
   "cell_type": "code",
   "execution_count": 1,
   "metadata": {},
   "outputs": [],
   "source": [
    "from hist import NamedHist, axis\n",
    "import boost_histogram as bh\n",
    "import numpy as np"
   ]
  },
  {
   "cell_type": "code",
   "execution_count": 2,
   "metadata": {},
   "outputs": [],
   "source": [
    "h = NamedHist(\n",
    "        axis.Regular(10, -5, 5, name=\"Ones\"),\n",
    "        axis.Regular(10, -5, 5, name=\"Twos\"),\n",
    "        axis.StrCategory([\"hi\", \"hello\"], name=\"Greet\"),\n",
    "        axis.Boolean(name=\"Yes\"),\n",
    "        axis.Integer(0, 10, name=\"Int\"),\n",
    "    ).fill(\n",
    "        Ones=np.ones(10),\n",
    "        Twos=np.ones(10) * 2,\n",
    "        Greet=[\"hi\"] * 8 + [\"hello\"] * 2,\n",
    "        Yes=[True] * 6 + [False] * 4,\n",
    "        Int=np.ones(10),\n",
    "    )\n",
    "\n",
    "assert h[\n",
    "    {\n",
    "        \"Ones\": 6,\n",
    "        \"Twos\": 7,\n",
    "        \"Greet\": bh.loc(\"hi\"),\n",
    "        \"Yes\": bh.loc(True),\n",
    "        \"Int\": bh.loc(1),\n",
    "    }\n",
    "] == 6"
   ]
  }
 ],
 "metadata": {
  "kernelspec": {
   "display_name": "hist",
   "language": "python",
   "name": "hist"
  },
  "language_info": {
   "codemirror_mode": {
    "name": "ipython",
    "version": 3
   },
   "file_extension": ".py",
   "mimetype": "text/x-python",
   "name": "python",
   "nbconvert_exporter": "python",
   "pygments_lexer": "ipython3",
   "version": "3.8.3"
  }
 },
 "nbformat": 4,
 "nbformat_minor": 4
}
