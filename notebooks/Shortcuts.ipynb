{
 "cells": [
  {
   "cell_type": "markdown",
   "metadata": {},
   "source": [
    "# Shortcuts"
   ]
  },
  {
   "cell_type": "markdown",
   "metadata": {},
   "source": [
    "## Setup"
   ]
  },
  {
   "cell_type": "code",
   "execution_count": 1,
   "metadata": {},
   "outputs": [],
   "source": [
    "import hist\n",
    "import boost_histogram as bh\n",
    "\n",
    "import numpy as np\n",
    "import matplotlib.pyplot as plt"
   ]
  },
  {
   "cell_type": "markdown",
   "metadata": {},
   "source": [
    "## Indices with Complex Numbers"
   ]
  },
  {
   "cell_type": "code",
   "execution_count": 2,
   "metadata": {},
   "outputs": [
    {
     "name": "stdout",
     "output_type": "stream",
     "text": [
      "145.0\n",
      "145.0\n",
      "145.0\n",
      "145.0\n",
      "145.0\n",
      "145.0\n"
     ]
    }
   ],
   "source": [
    "h = hist.Hist(\n",
    "    hist.axis.Regular(10, -5, 5, name=\"X\", title=\"x [units]\")\n",
    ").fill(np.random.normal(size=1000))\n",
    "\n",
    "print(h[6])\n",
    "print(h[bh.loc(1)])\n",
    "print(h[1j])\n",
    "print(h[0j+1])\n",
    "print(h[-3j+4])\n",
    "print(h[bh.loc(1, 0)])"
   ]
  },
  {
   "cell_type": "code",
   "execution_count": 3,
   "metadata": {},
   "outputs": [
    {
     "name": "stdout",
     "output_type": "stream",
     "text": [
      "16.0\n",
      "0.0\n"
     ]
    }
   ],
   "source": [
    "h = hist.NamedHist(\n",
    "    hist.axis.Regular(50, -5, 5, name=\"Norm\", title=\"normal distribution\"),\n",
    "    hist.axis.Regular(50, -5, 5, name=\"Unif\", title=\"uniform distribution\"),\n",
    "    hist.axis.StrCategory([\"hi\", \"hello\"], name=\"Greet\"),\n",
    "    hist.axis.Bool(name=\"Yes\"),\n",
    "    hist.axis.Integer(0, 1000, name=\"Int\")\n",
    ")\n",
    "\n",
    "h.fill(Norm=np.random.normal(size=1000),\n",
    "        Unif=np.random.uniform(size=1000),\n",
    "        Greet=[\"hi\"]*800+[\"hello\"]*200,\n",
    "        Yes=[True]*600+[False]*400,\n",
    "        Int=np.ones(1000)\n",
    "      )\n",
    "\n",
    "print(h[0j, -0j+2, \"hi\", True, 1])\n",
    "h[0j, -0j+2, \"hi\", True, 1] = 0\n",
    "print(h[0j, -0j+2, \"hi\", True, 1])"
   ]
  },
  {
   "cell_type": "code",
   "execution_count": 4,
   "metadata": {},
   "outputs": [
    {
     "name": "stdout",
     "output_type": "stream",
     "text": [
      "              +--------------------------------------------------------------+\n",
      "[-inf,   0) 0 |                                                              |\n",
      "[   0, 0.4) 2 |============================================================= |\n",
      "[ 0.4, 0.8) 1 |===============================                               |\n",
      "[ 0.8, inf) 0 |                                                              |\n",
      "              +--------------------------------------------------------------+\n"
     ]
    }
   ],
   "source": [
    "from hist import axis, BaseHist\n",
    "\n",
    "h = BaseHist(axis.Regular(10, 0, 1, name=\"x\")).fill([0.35, 0.35, 0.45])\n",
    "\n",
    "for idx in range(10):\n",
    "    if idx == 3:\n",
    "        assert h[{0: idx}] == 2\n",
    "        \n",
    "print(h[0:40:4j])"
   ]
  }
 ],
 "metadata": {
  "kernelspec": {
   "display_name": "hist",
   "language": "python",
   "name": "hist"
  },
  "language_info": {
   "codemirror_mode": {
    "name": "ipython",
    "version": 3
   },
   "file_extension": ".py",
   "mimetype": "text/x-python",
   "name": "python",
   "nbconvert_exporter": "python",
   "pygments_lexer": "ipython3",
   "version": "3.8.3"
  }
 },
 "nbformat": 4,
 "nbformat_minor": 4
}
