{
 "cells": [
  {
   "cell_type": "markdown",
   "metadata": {},
   "source": [
    "# Shortcuts"
   ]
  },
  {
   "cell_type": "markdown",
   "metadata": {},
   "source": [
    "## Setup"
   ]
  },
  {
   "cell_type": "code",
   "execution_count": 1,
   "metadata": {},
   "outputs": [],
   "source": [
    "import hist\n",
    "import boost_histogram as bh\n",
    "\n",
    "import numpy as np\n",
    "import matplotlib.pyplot as plt"
   ]
  },
  {
   "cell_type": "markdown",
   "metadata": {},
   "source": [
    "## Indices with Complex Numbers"
   ]
  },
  {
   "cell_type": "code",
   "execution_count": 2,
   "metadata": {},
   "outputs": [
    {
     "name": "stdout",
     "output_type": "stream",
     "text": [
      "139.0\n",
      "139.0\n",
      "139.0\n",
      "139.0\n",
      "139.0\n",
      "139.0\n"
     ]
    }
   ],
   "source": [
    "h = hist.Hist(\n",
    "    hist.axis.Regular(10, -5, 5, name=\"X\", title=\"x [units]\")\n",
    ").fill(np.random.normal(size=1000))\n",
    "\n",
    "print(h[6])\n",
    "print(h[bh.loc(1)])\n",
    "print(h[1j])\n",
    "print(h[0j+1])\n",
    "print(h[-3j+4])\n",
    "print(h[bh.loc(1, 0)])"
   ]
  },
  {
   "cell_type": "code",
   "execution_count": 3,
   "metadata": {},
   "outputs": [
    {
     "name": "stdout",
     "output_type": "stream",
     "text": [
      "8.0\n",
      "0.0\n"
     ]
    }
   ],
   "source": [
    "h = hist.NamedHist(\n",
    "    hist.axis.Regular(50, -5, 5, name=\"Norm\", title=\"normal distribution\"),\n",
    "    hist.axis.Regular(50, -5, 5, name=\"Unif\", title=\"uniform distribution\"),\n",
    "    hist.axis.StrCategory([\"hi\", \"hello\"], name=\"Greet\"),\n",
    "    hist.axis.Boolean(name=\"Yes\"),\n",
    "    hist.axis.Integer(0, 1000, name=\"Int\")\n",
    ")\n",
    "\n",
    "h.fill(Norm=np.random.normal(size=1000),\n",
    "        Unif=np.random.uniform(size=1000),\n",
    "        Greet=[\"hi\"]*800+[\"hello\"]*200,\n",
    "        Yes=[True]*600+[False]*400,\n",
    "        Int=np.ones(1000)\n",
    "      )\n",
    "\n",
    "print(h[0j, -0j+2, \"hi\", True, 1])\n",
    "h[0j, -0j+2, \"hi\", True, 1] = 0\n",
    "print(h[0j, -0j+2, \"hi\", True, 1])"
   ]
  },
  {
   "cell_type": "code",
   "execution_count": 4,
   "metadata": {},
   "outputs": [
    {
     "name": "stdout",
     "output_type": "stream",
     "text": [
      "              +--------------------------------------------------------------+\n",
      "[-inf,   0) 0 |                                                              |\n",
      "[   0, 0.4) 2 |============================================================= |\n",
      "[ 0.4, 0.8) 1 |===============================                               |\n",
      "[ 0.8, inf) 0 |                                                              |\n",
      "              +--------------------------------------------------------------+\n"
     ]
    }
   ],
   "source": [
    "from hist import axis, BaseHist\n",
    "\n",
    "h = BaseHist(axis.Regular(10, 0, 1, name=\"x\")).fill([0.35, 0.35, 0.45])\n",
    "\n",
    "for idx in range(10):\n",
    "    if idx == 3:\n",
    "        assert h[{0: idx}] == 2\n",
    "        \n",
    "print(h[0:40:4j])"
   ]
  },
  {
   "cell_type": "markdown",
   "metadata": {},
   "source": [
    "## Density"
   ]
  },
  {
   "cell_type": "code",
   "execution_count": 5,
   "metadata": {},
   "outputs": [
    {
     "name": "stdout",
     "output_type": "stream",
     "text": [
      "                 +-----------------------------------------------------------+\n",
      "[-inf,   -3) 3   |=                                                          |\n",
      "[  -3, -2.4) 6   |==                                                         |\n",
      "[-2.4, -1.8) 33  |========                                                   |\n",
      "[-1.8, -1.2) 90  |=======================                                    |\n",
      "[-1.2, -0.6) 151 |======================================                     |\n",
      "[-0.6,    0) 231 |========================================================== |\n",
      "[   0,  0.6) 217 |======================================================     |\n",
      "[ 0.6,  1.2) 158 |========================================                   |\n",
      "[ 1.2,  1.8) 77  |===================                                        |\n",
      "[ 1.8,  2.4) 27  |=======                                                    |\n",
      "[ 2.4,    3) 5   |=                                                          |\n",
      "[   3,  inf) 2   |=                                                          |\n",
      "                 +-----------------------------------------------------------+\n",
      "[0.01005025 0.05527638 0.15075377 0.25293132 0.38693467 0.36348409\n",
      " 0.26465662 0.12897822 0.04522613 0.00837521]\n"
     ]
    }
   ],
   "source": [
    "h=hist.NamedHist(hist.axis.Regular(10, -3, 3, name=\"x\")).fill(x=np.random.randn(1_000))\n",
    "print(h)\n",
    "print(h.density())"
   ]
  },
  {
   "cell_type": "markdown",
   "metadata": {},
   "source": [
    "## Proxy"
   ]
  },
  {
   "cell_type": "code",
   "execution_count": 6,
   "metadata": {},
   "outputs": [
    {
     "data": {
      "text/plain": [
       "True"
      ]
     },
     "execution_count": 6,
     "metadata": {},
     "output_type": "execute_result"
    }
   ],
   "source": [
    "h = hist.Hist.Reg(\n",
    "    10, 0, 1\n",
    ").fill([0.5, 0.5])\n",
    "\n",
    "h[0.5j] == 2"
   ]
  },
  {
   "cell_type": "code",
   "execution_count": 7,
   "metadata": {},
   "outputs": [],
   "source": [
    "h = hist.Hist().Reg(\n",
    "    10, 0, 1, name=\"x\"\n",
    ").Reg(\n",
    "    10, 0, 1, name=\"y\"\n",
    ").Reg(\n",
    "    10, 0, 1, name=\"z\"\n",
    ").fill([0.5, 0.5], [0.5, 0.5], [0.5, 0.5])"
   ]
  },
  {
   "cell_type": "code",
   "execution_count": 8,
   "metadata": {},
   "outputs": [
    {
     "data": {
      "text/plain": [
       "True"
      ]
     },
     "execution_count": 8,
     "metadata": {},
     "output_type": "execute_result"
    }
   ],
   "source": [
    "h.project(\"x\", 1)[0.5j, bh.loc(0.5)] == 2"
   ]
  },
  {
   "cell_type": "code",
   "execution_count": 9,
   "metadata": {},
   "outputs": [
    {
     "ename": "RuntimeError",
     "evalue": "Cannot add an axis to an existing histogram",
     "output_type": "error",
     "traceback": [
      "\u001b[0;31m---------------------------------------------------------------------------\u001b[0m",
      "\u001b[0;31mRuntimeError\u001b[0m                              Traceback (most recent call last)",
      "\u001b[0;32m<ipython-input-9-6ca129d54661>\u001b[0m in \u001b[0;36m<module>\u001b[0;34m\u001b[0m\n\u001b[0;32m----> 1\u001b[0;31m \u001b[0mh\u001b[0m\u001b[0;34m.\u001b[0m\u001b[0mReg\u001b[0m\u001b[0;34m(\u001b[0m\u001b[0;36m10\u001b[0m\u001b[0;34m,\u001b[0m \u001b[0;36m0\u001b[0m\u001b[0;34m,\u001b[0m \u001b[0;36m1\u001b[0m\u001b[0;34m)\u001b[0m\u001b[0;34m\u001b[0m\u001b[0;34m\u001b[0m\u001b[0m\n\u001b[0m",
      "\u001b[0;32m~/Documents/GitHub/hist/src/hist/basehist.py\u001b[0m in \u001b[0;36m__call__\u001b[0;34m(self, *args, **kwargs)\u001b[0m\n\u001b[1;32m     42\u001b[0m \u001b[0;34m\u001b[0m\u001b[0m\n\u001b[1;32m     43\u001b[0m     \u001b[0;32mdef\u001b[0m \u001b[0m__call__\u001b[0m\u001b[0;34m(\u001b[0m\u001b[0mself\u001b[0m\u001b[0;34m,\u001b[0m \u001b[0;34m*\u001b[0m\u001b[0margs\u001b[0m\u001b[0;34m,\u001b[0m \u001b[0;34m**\u001b[0m\u001b[0mkwargs\u001b[0m\u001b[0;34m)\u001b[0m\u001b[0;34m:\u001b[0m\u001b[0;34m\u001b[0m\u001b[0;34m\u001b[0m\u001b[0m\n\u001b[0;32m---> 44\u001b[0;31m         \u001b[0;32mreturn\u001b[0m \u001b[0mself\u001b[0m\u001b[0;34m.\u001b[0m\u001b[0mmethod\u001b[0m\u001b[0;34m(\u001b[0m\u001b[0mself\u001b[0m\u001b[0;34m.\u001b[0m\u001b[0minstance\u001b[0m\u001b[0;34m,\u001b[0m \u001b[0;34m*\u001b[0m\u001b[0margs\u001b[0m\u001b[0;34m,\u001b[0m \u001b[0;34m**\u001b[0m\u001b[0mkwargs\u001b[0m\u001b[0;34m)\u001b[0m\u001b[0;34m\u001b[0m\u001b[0;34m\u001b[0m\u001b[0m\n\u001b[0m\u001b[1;32m     45\u001b[0m \u001b[0;34m\u001b[0m\u001b[0m\n\u001b[1;32m     46\u001b[0m \u001b[0;34m\u001b[0m\u001b[0m\n",
      "\u001b[0;32m~/Documents/GitHub/hist/src/hist/basehist.py\u001b[0m in \u001b[0;36mReg\u001b[0;34m(self, *args, **kwargs)\u001b[0m\n\u001b[1;32m     84\u001b[0m     \u001b[0;32mdef\u001b[0m \u001b[0mReg\u001b[0m\u001b[0;34m(\u001b[0m\u001b[0mself\u001b[0m\u001b[0;34m,\u001b[0m \u001b[0;34m*\u001b[0m\u001b[0margs\u001b[0m\u001b[0;34m,\u001b[0m \u001b[0;34m**\u001b[0m\u001b[0mkwargs\u001b[0m\u001b[0;34m)\u001b[0m\u001b[0;34m:\u001b[0m\u001b[0;34m\u001b[0m\u001b[0;34m\u001b[0m\u001b[0m\n\u001b[1;32m     85\u001b[0m         \u001b[0;32mif\u001b[0m \u001b[0mself\u001b[0m\u001b[0;34m.\u001b[0m\u001b[0m_hist\u001b[0m\u001b[0;34m:\u001b[0m\u001b[0;34m\u001b[0m\u001b[0;34m\u001b[0m\u001b[0m\n\u001b[0;32m---> 86\u001b[0;31m             \u001b[0;32mraise\u001b[0m \u001b[0mRuntimeError\u001b[0m\u001b[0;34m(\u001b[0m\u001b[0;34m\"Cannot add an axis to an existing histogram\"\u001b[0m\u001b[0;34m)\u001b[0m\u001b[0;34m\u001b[0m\u001b[0;34m\u001b[0m\u001b[0m\n\u001b[0m\u001b[1;32m     87\u001b[0m         \u001b[0mself\u001b[0m\u001b[0;34m.\u001b[0m\u001b[0m_ax\u001b[0m\u001b[0;34m.\u001b[0m\u001b[0mappend\u001b[0m\u001b[0;34m(\u001b[0m\u001b[0mRegular\u001b[0m\u001b[0;34m(\u001b[0m\u001b[0;34m*\u001b[0m\u001b[0margs\u001b[0m\u001b[0;34m,\u001b[0m \u001b[0;34m**\u001b[0m\u001b[0mkwargs\u001b[0m\u001b[0;34m)\u001b[0m\u001b[0;34m)\u001b[0m\u001b[0;34m\u001b[0m\u001b[0;34m\u001b[0m\u001b[0m\n\u001b[1;32m     88\u001b[0m         \u001b[0;32mreturn\u001b[0m \u001b[0mself\u001b[0m\u001b[0;34m\u001b[0m\u001b[0;34m\u001b[0m\u001b[0m\n",
      "\u001b[0;31mRuntimeError\u001b[0m: Cannot add an axis to an existing histogram"
     ]
    }
   ],
   "source": [
    "h.Reg(10, 0, 1)"
   ]
  }
 ],
 "metadata": {
  "kernelspec": {
   "display_name": "hist",
   "language": "python",
   "name": "hist"
  },
  "language_info": {
   "codemirror_mode": {
    "name": "ipython",
    "version": 3
   },
   "file_extension": ".py",
   "mimetype": "text/x-python",
   "name": "python",
   "nbconvert_exporter": "python",
   "pygments_lexer": "ipython3",
   "version": "3.8.3"
  }
 },
 "nbformat": 4,
 "nbformat_minor": 4
}
