{
 "cells": [
  {
   "cell_type": "markdown",
   "metadata": {},
   "source": [
    "# Shortcuts"
   ]
  },
  {
   "cell_type": "markdown",
   "metadata": {},
   "source": [
    "## Setup"
   ]
  },
  {
   "cell_type": "code",
   "execution_count": 1,
   "metadata": {},
   "outputs": [],
   "source": [
    "import hist\n",
    "import boost_histogram as bh\n",
    "import numpy as np\n",
    "import matplotlib.pyplot as plt"
   ]
  },
  {
   "cell_type": "markdown",
   "metadata": {},
   "source": [
    "## Indice with Complex Numbers"
   ]
  },
  {
   "cell_type": "code",
   "execution_count": 2,
   "metadata": {},
   "outputs": [
    {
     "name": "stdout",
     "output_type": "stream",
     "text": [
      "87.0\n",
      "87.0\n",
      "87.0\n",
      "87.0\n",
      "87.0\n"
     ]
    }
   ],
   "source": [
    "h = hist.Hist(\n",
    "    hist.axis.Regular(50, -5, 5, name=\"X\", title=\"x [units]\")\n",
    ").fill(np.random.normal(size=1000))\n",
    "\n",
    "print(h[24])\n",
    "print(h[bh.loc(-0.2)])\n",
    "print(h[-0.2j])\n",
    "print(h[-0.4j+1])\n",
    "print(h[-0.8j+3])"
   ]
  },
  {
   "cell_type": "code",
   "execution_count": 3,
   "metadata": {},
   "outputs": [
    {
     "name": "stdout",
     "output_type": "stream",
     "text": [
      "9.0\n"
     ]
    }
   ],
   "source": [
    "h = hist.NamedHist(\n",
    "    hist.axis.Regular(50, -5, 5, name=\"Norm\", title=\"normal distribution\"),\n",
    "    hist.axis.Regular(50, -5, 5, name=\"Unif\", title=\"uniform distribution\"),\n",
    "    hist.axis.StrCategory([\"hi\", \"hello\"], name=\"Greet\"),\n",
    "    hist.axis.Bool(name=\"Yes\"),\n",
    "    hist.axis.Integer(0, 1000, name=\"Int\")\n",
    ")\n",
    "\n",
    "h.fill(Norm=np.random.normal(size=1000),\n",
    "        Unif=np.random.uniform(size=1000),\n",
    "        Greet=[\"hi\"]*800+[\"hello\"]*200,\n",
    "        Yes=[True]*600+[False]*400,\n",
    "        Int=np.ones(1000)\n",
    "      )\n",
    "\n",
    "print(h[0j, 0j, bh.loc(\"hi\"), True, 1])"
   ]
  }
 ],
 "metadata": {
  "kernelspec": {
   "display_name": "hist",
   "language": "python",
   "name": "hist"
  },
  "language_info": {
   "codemirror_mode": {
    "name": "ipython",
    "version": 3
   },
   "file_extension": ".py",
   "mimetype": "text/x-python",
   "name": "python",
   "nbconvert_exporter": "python",
   "pygments_lexer": "ipython3",
   "version": "3.8.3"
  }
 },
 "nbformat": 4,
 "nbformat_minor": 4
}
