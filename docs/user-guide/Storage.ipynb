{
 "cells": [
  {
   "cell_type": "markdown",
   "metadata": {},
   "source": [
    "# Storage\n",
    "\n",
    "```warning\n",
    "The hist package is still under active development, the usage and contents are in flux.\n",
    "```"
   ]
  },
  {
   "cell_type": "markdown",
   "metadata": {},
   "source": [
    "Based on [boost-histogram](https://github.com/scikit-hep/boost-histogram)'s Storage, hist support seven storage types, `Double`, `Int64`, `AutomicInt64`, `Weight`, `Mean`, `WeightedMean` and `Unlimited`."
   ]
  },
  {
   "cell_type": "markdown",
   "metadata": {},
   "source": [
    "## Histogram's Storage\n",
    "\n",
    "You can use boost-histogram's Storage in hist. For example,"
   ]
  },
  {
   "cell_type": "code",
   "execution_count": 1,
   "metadata": {},
   "outputs": [],
   "source": [
    "import hist\n",
    "import boost_histogram as bh"
   ]
  },
  {
   "cell_type": "code",
   "execution_count": 2,
   "metadata": {},
   "outputs": [
    {
     "name": "stdout",
     "output_type": "stream",
     "text": [
      "1\n",
      "3\n"
     ]
    }
   ],
   "source": [
    "# Int64 Storage\n",
    "h = hist.Hist(hist.axis.Regular(10, -5, 5, name=\"x\"), storage=bh.storage.Int64())\n",
    "h.fill([1.5, 2.5, 2.5, 2.5])\n",
    "\n",
    "print(h[1.5j])\n",
    "print(h[bh.loc(2.5)])"
   ]
  },
  {
   "cell_type": "code",
   "execution_count": 3,
   "metadata": {},
   "outputs": [
    {
     "name": "stdout",
     "output_type": "stream",
     "text": [
      "0.5\n",
      "1.5\n"
     ]
    }
   ],
   "source": [
    "# Double Storage\n",
    "h = hist.Hist(hist.axis.Regular(10, -5, 5, name=\"x\"), storage=bh.storage.Double())\n",
    "h.fill([1.5, 2.5], weight=[0.5, 1.5])\n",
    "\n",
    "print(h[1.5j])\n",
    "print(h[bh.loc(2.5)])"
   ]
  },
  {
   "cell_type": "markdown",
   "metadata": {},
   "source": [
    "Keeping the original features of boost-histogram's Storage, hist gives dynamic shortcuts of Storage Proxy. You can add Storage types after adding the axes."
   ]
  },
  {
   "cell_type": "code",
   "execution_count": 4,
   "metadata": {},
   "outputs": [
    {
     "name": "stdout",
     "output_type": "stream",
     "text": [
      "2\n"
     ]
    }
   ],
   "source": [
    "# Int64 Storage\n",
    "h = hist.Hist.Reg(10, 0, 1, name=\"x\").Int64().fill([0.5, 0.5])\n",
    "\n",
    "print(h[0.5j])"
   ]
  },
  {
   "cell_type": "code",
   "execution_count": 5,
   "metadata": {},
   "outputs": [
    {
     "name": "stdout",
     "output_type": "stream",
     "text": [
      "1.0\n",
      "1.0\n"
     ]
    }
   ],
   "source": [
    "# Double Storage\n",
    "h = (\n",
    "        hist.Hist\n",
    "        .Reg(10, 0, 1, name=\"x\")\n",
    "        .Reg(10, 0, 1, name=\"y\")\n",
    "        .Double()\n",
    "        .fill(x=[0.5, 0.5], y=[0.2, 0.6])\n",
    "    )\n",
    "\n",
    "print(h[0.5j, 0.2j])\n",
    "print(h[bh.loc(0.5), bh.loc(0.6)])"
   ]
  }
 ],
 "metadata": {
  "kernelspec": {
   "display_name": "hist",
   "language": "python",
   "name": "hist"
  },
  "language_info": {
   "codemirror_mode": {
    "name": "ipython",
    "version": 3
   },
   "file_extension": ".py",
   "mimetype": "text/x-python",
   "name": "python",
   "nbconvert_exporter": "python",
   "pygments_lexer": "ipython3",
   "version": "3.8.3"
  }
 },
 "nbformat": 4,
 "nbformat_minor": 4
}
