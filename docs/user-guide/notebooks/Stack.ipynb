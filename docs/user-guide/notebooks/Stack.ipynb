{
 "cells": [
  {
   "cell_type": "markdown",
   "source": [
    "# Stack\n",
    "\n",
    "## Build via Axes\n",
    "\n",
    "A histogram stack holds multiple 1-D histograms into a stack, whose axes are required to match."
   ],
   "metadata": {}
  },
  {
   "cell_type": "code",
   "execution_count": null,
   "source": [
    "from hist import Hist, Stack, axis, NamedHist, BaseHist\n",
    "import numpy as np\n",
    "import matplotlib.pyplot as plt\n",
    "\n",
    "ax = axis.Regular(50, -5, 5, underflow=False, overflow=False, name=\"X\")\n",
    "\n",
    "h1 = Hist(ax).fill(2 * np.random.normal(size=500) + 2 * np.ones((500,)))\n",
    "\n",
    "h2 = Hist(ax).fill(2 * np.random.normal(size=500) - 2 * np.ones((500,)))\n",
    "\n",
    "h3 = Hist(ax).fill(np.random.normal(size=600))\n",
    "\n",
    "s = Stack(h1, h2, h3)"
   ],
   "outputs": [],
   "metadata": {}
  },
  {
   "cell_type": "markdown",
   "source": [
    "HistStack has `.plot()` method which calls mplhep and plots the histograms in the stack:"
   ],
   "metadata": {}
  },
  {
   "cell_type": "code",
   "execution_count": null,
   "source": [
    "s.plot()\n",
    "plt.show()"
   ],
   "outputs": [],
   "metadata": {}
  },
  {
   "cell_type": "markdown",
   "source": [
    "We can use `.show()` to access `histoprint` and print the stacked histograms to the console.\n",
    "\n",
    "Note: Histoprint currently supports only non-discrete axes. Hence, it supports only regular and variable axes at the moment."
   ],
   "metadata": {}
  },
  {
   "cell_type": "code",
   "execution_count": null,
   "source": [
    "s.show(columns=50)"
   ],
   "outputs": [],
   "metadata": {}
  },
  {
   "cell_type": "markdown",
   "source": [
    "## Build via A Category Axis"
   ],
   "metadata": {}
  },
  {
   "cell_type": "markdown",
   "source": [
    "You can also build a histogram stack from a 2-D histogram's Category axis (`IntCat`, `StrCat`), for example,"
   ],
   "metadata": {}
  },
  {
   "cell_type": "code",
   "execution_count": null,
   "source": [
    "h = (\n",
    "    Hist.new.Reg(50, -5, 5, name=\"x\")\n",
    "    .StrCat([\"good\", \"bad\"], name=\"quality\")\n",
    "    .Double()\n",
    "    .fill(x=np.random.randn(100), quality=[\"good\", \"good\", \"good\", \"good\", \"bad\"] * 20)\n",
    ")\n",
    "\n",
    "# Turn an existin axis into a stack\n",
    "s = h.stack(\"quality\")\n",
    "s[::-1].plot(stack=True, histtype=\"fill\", color=[\"indianred\", \"steelblue\"], alpha=0.8)\n",
    "plt.show()"
   ],
   "outputs": [],
   "metadata": {}
  },
  {
   "cell_type": "markdown",
   "source": [
    "The histograms in this kind of stack can have names. The names of histograms are the categories, which are corresponding profiled histograms:"
   ],
   "metadata": {}
  },
  {
   "cell_type": "code",
   "execution_count": null,
   "source": [
    "print(s[0].name)\n",
    "s[0]"
   ],
   "outputs": [],
   "metadata": {}
  },
  {
   "cell_type": "code",
   "execution_count": null,
   "source": [
    "print(s[1].name)\n",
    "s[1]"
   ],
   "outputs": [],
   "metadata": {}
  }
 ],
 "metadata": {
  "kernelspec": {
   "display_name": "hist",
   "language": "python",
   "name": "hist"
  },
  "language_info": {
   "codemirror_mode": {
    "name": "ipython",
    "version": 3
   },
   "file_extension": ".py",
   "mimetype": "text/x-python",
   "name": "python",
   "nbconvert_exporter": "python",
   "pygments_lexer": "ipython3",
   "version": "3.9.6"
  }
 },
 "nbformat": 4,
 "nbformat_minor": 5
}
