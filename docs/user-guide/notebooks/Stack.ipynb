{
 "cells": [
  {
   "cell_type": "markdown",
   "id": "0ada0219-170a-418a-a6a5-b241b9b9fe42",
   "metadata": {},
   "source": [
    "# Stack\n",
    "\n",
    "## Build via Axes\n",
    "\n",
    "A histogram stack holds multiple 1-D histograms into a stack, whose axes are required to match."
   ]
  },
  {
   "cell_type": "code",
   "execution_count": 1,
   "id": "6ed3ec2c-9d11-4c69-b7ce-0365079b22ff",
   "metadata": {},
   "outputs": [],
   "source": [
    "from hist import Hist, Stack, axis, NamedHist, BaseHist\n",
    "import numpy as np\n",
    "import matplotlib.pyplot as plt\n",
    "\n",
    "ax = axis.Regular(50, -5, 5, underflow=False, overflow=False, name=\"X\")\n",
    "\n",
    "h1 = Hist(ax).fill(2 * np.random.normal(size=500) + 2 * np.ones((500,)))\n",
    "\n",
    "h2 = Hist(ax).fill(2 * np.random.normal(size=500) - 2 * np.ones((500,)))\n",
    "\n",
    "h3 = Hist(ax).fill(np.random.normal(size=600))\n",
    "\n",
    "s = Stack(h1, h2, h3)"
   ]
  },
  {
   "cell_type": "markdown",
   "id": "d5da14f4-c02c-493c-a3a6-d4eaa88ffbec",
   "metadata": {},
   "source": [
    "HistStack has `.plot()` method which calls mplhep and plots the histograms in the stack:"
   ]
  },
  {
   "cell_type": "code",
   "execution_count": 2,
   "id": "de684262-0c07-43c8-ba0b-a7a8d5e9f0c5",
   "metadata": {},
   "outputs": [
    {
     "data": {
      "image/png": "[encoded data removed]",
      "text/plain": [
       "<Figure size 432x288 with 1 Axes>"
      ]
     },
     "metadata": {
      "needs_background": "light"
     },
     "output_type": "display_data"
    }
   ],
   "source": [
    "s.plot()\n",
    "plt.show()"
   ]
  },
  {
   "cell_type": "markdown",
   "id": "be7a7b2a-4c88-4bb6-bc3f-4c0add90c981",
   "metadata": {},
   "source": [
    "## Build via A Category Axis"
   ]
  },
  {
   "cell_type": "markdown",
   "id": "22661219-2599-4bcc-9dce-7082d331ea4f",
   "metadata": {},
   "source": [
    "You can also build a histogram stack from a 2-D histogram's Category axis (`IntCat`, `StrCat`), for example,"
   ]
  },
  {
   "cell_type": "code",
   "execution_count": 6,
   "id": "4004cc28-b712-46d9-baa4-7168b08527d3",
   "metadata": {},
   "outputs": [
    {
     "data": {
      "image/png": "[encoded data removed]",
      "text/plain": [
       "<Figure size 432x288 with 1 Axes>"
      ]
     },
     "metadata": {
      "needs_background": "light"
     },
     "output_type": "display_data"
    }
   ],
   "source": [
    "h = (\n",
    "    Hist.new.Reg(50, -5, 5, name=\"x\")\n",
    "    .StrCat([\"good\", \"bad\"], name=\"quality\")\n",
    "    .Double()\n",
    "    .fill(x=np.random.randn(100), quality=[\"good\", \"good\", \"good\", \"good\", \"bad\"] * 20)\n",
    ")\n",
    "\n",
    "# Turn an existin axis into a stack\n",
    "s = h.stack(\"quality\")\n",
    "s[::-1].plot(stack=True, histtype=\"fill\", color=[\"indianred\", \"steelblue\"], alpha=0.8)\n",
    "plt.legend()\n",
    "plt.show()"
   ]
  },
  {
   "cell_type": "markdown",
   "id": "5e392951-033f-44eb-bf18-5928afcae370",
   "metadata": {},
   "source": [
    "The histograms in this kind of stack can have names. The names of histograms are the categories, which are corresponding profiled histograms:"
   ]
  },
  {
   "cell_type": "code",
   "execution_count": 7,
   "id": "d5a0e342-7d73-4c04-b5ce-5faf87166e73",
   "metadata": {},
   "outputs": [
    {
     "name": "stdout",
     "output_type": "stream",
     "text": [
      "good\n"
     ]
    },
    {
     "data": {
      "text/html": [
       "<html>\n",
       "<div style=\"display:flex; align-items:center;\">\n",
       "<div style=\"width:290px;\">\n",
       "<svg xmlns=\"http://www.w3.org/2000/svg\" viewBox=\"-10 -105 270 120\">\n",
       "<line x1=\"-5\" y1=\"0\" x2=\"255\" y2=\"0\" style=\"fill:none;stroke-width:2;stroke:currentColor\"/>\n",
       "<text text-anchor=\"middle\" x=\"0\" y=\"15\" style=\"fill:currentColor;\">\n",
       "-5\n",
       "</text>\n",
       "<text text-anchor=\"middle\" x=\"250\" y=\"15\" style=\"fill:currentColor;\">\n",
       "5\n",
       "</text>\n",
       "<text text-anchor=\"middle\" x=\"125.0\" y=\"15\" style=\"fill:currentColor;\">\n",
       "x\n",
       "</text>\n",
       "<polyline points=\"  0,0   0,-0   5,-0   5,-0  10,-0  10,-0  15,-0  15,-0  20,-0  20,-0  25,-0  25,-0  30,-0  30,-0  35,-0  35,-0  40,-0  40,-9.09  45,-9.09  45,-0  50,-0  50,-0  55,-0  55,-0  60,-0  60,-9.09  65,-9.09  65,-0  70,-0  70,-0  75,-0  75,-0  80,-0  80,-27.3  85,-27.3  85,-9.09  90,-9.09  90,-36.4  95,-36.4  95,-18.2 100,-18.2 100,-45.5 105,-45.5 105,-54.5 110,-54.5 110,-18.2 115,-18.2 115,-36.4 120,-36.4 120,-100 125,-100 125,-54.5 130,-54.5 130,-36.4 135,-36.4 135,-18.2 140,-18.2 140,-45.5 145,-45.5 145,-18.2 150,-18.2 150,-36.4 155,-36.4 155,-27.3 160,-27.3 160,-63.6 165,-63.6 165,-0 170,-0 170,-18.2 175,-18.2 175,-9.09 180,-9.09 180,-0 185,-0 185,-18.2 190,-18.2 190,-9.09 195,-9.09 195,-9.09 200,-9.09 200,-0 205,-0 205,-0 210,-0 210,-0 215,-0 215,-0 220,-0 220,-0 225,-0 225,-0 230,-0 230,-0 235,-0 235,-0 240,-0 240,-0 245,-0 245,-0 250,-0 250,0\" style=\"fill:none; stroke:currentColor;\"/>\n",
       "</svg>\n",
       "</div>\n",
       "<div style=\"flex=grow:1;\">\n",
       "Regular(50, -5, 5, name='x', label='x')<br/>\n",
       "<hr style=\"margin-top:.2em; margin-bottom:.2em;\"/>\n",
       "Double() Σ=80.0\n",
       "\n",
       "</div>\n",
       "</div>\n",
       "</html>"
      ],
      "text/plain": [
       "Hist(Regular(50, -5, 5, name='x', label='x'), storage=Double()) # Sum: 80.0"
      ]
     },
     "execution_count": 7,
     "metadata": {},
     "output_type": "execute_result"
    }
   ],
   "source": [
    "print(s[0].name)\n",
    "s[0]"
   ]
  },
  {
   "cell_type": "code",
   "execution_count": 9,
   "id": "c3f81b2c-9bb9-4e98-acb2-5238960e9812",
   "metadata": {},
   "outputs": [
    {
     "name": "stdout",
     "output_type": "stream",
     "text": [
      "bad\n"
     ]
    },
    {
     "data": {
      "text/html": [
       "<html>\n",
       "<div style=\"display:flex; align-items:center;\">\n",
       "<div style=\"width:290px;\">\n",
       "<svg xmlns=\"http://www.w3.org/2000/svg\" viewBox=\"-10 -105 270 120\">\n",
       "<line x1=\"-5\" y1=\"0\" x2=\"255\" y2=\"0\" style=\"fill:none;stroke-width:2;stroke:currentColor\"/>\n",
       "<text text-anchor=\"middle\" x=\"0\" y=\"15\" style=\"fill:currentColor;\">\n",
       "-5\n",
       "</text>\n",
       "<text text-anchor=\"middle\" x=\"250\" y=\"15\" style=\"fill:currentColor;\">\n",
       "5\n",
       "</text>\n",
       "<text text-anchor=\"middle\" x=\"125.0\" y=\"15\" style=\"fill:currentColor;\">\n",
       "x\n",
       "</text>\n",
       "<polyline points=\"  0,0   0,-0   5,-0   5,-0  10,-0  10,-0  15,-0  15,-0  20,-0  20,-0  25,-0  25,-0  30,-0  30,-0  35,-0  35,-0  40,-0  40,-0  45,-0  45,-0  50,-0  50,-0  55,-0  55,-0  60,-0  60,-20  65,-20  65,-0  70,-0  70,-0  75,-0  75,-20  80,-20  80,-20  85,-20  85,-0  90,-0  90,-20  95,-20  95,-20 100,-20 100,-20 105,-20 105,-40 110,-40 110,-100 115,-100 115,-40 120,-40 120,-20 125,-20 125,-0 130,-0 130,-40 135,-40 135,-0 140,-0 140,-20 145,-20 145,-20 150,-20 150,-0 155,-0 155,-0 160,-0 160,-0 165,-0 165,-0 170,-0 170,-0 175,-0 175,-0 180,-0 180,-0 185,-0 185,-0 190,-0 190,-0 195,-0 195,-0 200,-0 200,-0 205,-0 205,-0 210,-0 210,-0 215,-0 215,-0 220,-0 220,-0 225,-0 225,-0 230,-0 230,-0 235,-0 235,-0 240,-0 240,-0 245,-0 245,-0 250,-0 250,0\" style=\"fill:none; stroke:currentColor;\"/>\n",
       "</svg>\n",
       "</div>\n",
       "<div style=\"flex=grow:1;\">\n",
       "Regular(50, -5, 5, name='x', label='x')<br/>\n",
       "<hr style=\"margin-top:.2em; margin-bottom:.2em;\"/>\n",
       "Double() Σ=20.0\n",
       "\n",
       "</div>\n",
       "</div>\n",
       "</html>"
      ],
      "text/plain": [
       "Hist(Regular(50, -5, 5, name='x', label='x'), storage=Double()) # Sum: 20.0"
      ]
     },
     "execution_count": 9,
     "metadata": {},
     "output_type": "execute_result"
    }
   ],
   "source": [
    "print(s[1].name)\n",
    "s[1]"
   ]
  }
 ],
 "metadata": {
  "kernelspec": {
   "display_name": "hist",
   "language": "python",
   "name": "hist"
  },
  "language_info": {
   "codemirror_mode": {
    "name": "ipython",
    "version": 3
   },
   "file_extension": ".py",
   "mimetype": "text/x-python",
   "name": "python",
   "nbconvert_exporter": "python",
   "pygments_lexer": "ipython3",
   "version": "3.9.4"
  }
 },
 "nbformat": 4,
 "nbformat_minor": 5
}
