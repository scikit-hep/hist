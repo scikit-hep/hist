{
 "cells": [
  {
   "cell_type": "markdown",
   "id": "81b0d84d",
   "metadata": {},
   "source": [
    "# Stack\n",
    "\n",
    "## Build via Axes\n",
    "\n",
    "A histogram stack holds multiple 1-D histograms into a stack, whose axes are required to match. The most common way to create one is with a categorical axes:"
   ]
  },
  {
   "cell_type": "code",
   "execution_count": null,
   "id": "2ce95976",
   "metadata": {},
   "outputs": [],
   "source": [
    "from hist import Hist\n",
    "import hist\n",
    "import numpy as np\n",
    "import matplotlib.pyplot as plt\n",
    "\n",
    "ax = hist.axis.Regular(25, -5, 5, flow=False, name=\"x\")\n",
    "cax = hist.axis.StrCategory([\"signal\", \"upper\", \"lower\"], name=\"c\")\n",
    "full_hist = Hist(ax, cax)\n",
    "\n",
    "full_hist.fill(x=np.random.normal(size=600), c=\"signal\")\n",
    "full_hist.fill(x=2 * np.random.normal(size=500) + 2, c=\"upper\")\n",
    "full_hist.fill(x=2 * np.random.normal(size=500) - 2, c=\"lower\")\n",
    "\n",
    "\n",
    "s = full_hist.stack(\"c\")"
   ]
  },
  {
   "cell_type": "markdown",
   "id": "e82b1260-6ad8-4aa0-91c3-3409ebd99e1c",
   "metadata": {},
   "source": [
    "You can build this directly with `hist.Stack(h1, h2, h3)`, `hist.Stack.from_iter([h1, h2, h3])`, or `hist.Stack.from_dict({\"signal\": h1, \"lower\": h2, \"upper\": h3})` as well."
   ]
  },
  {
   "cell_type": "markdown",
   "id": "29867532",
   "metadata": {},
   "source": [
    "HistStack has `.plot()` method which calls mplhep and plots the histograms in the stack:"
   ]
  },
  {
   "cell_type": "code",
   "execution_count": null,
   "id": "7dcd8cd7",
   "metadata": {},
   "outputs": [],
   "source": [
    "s.plot()\n",
    "plt.legend()\n",
    "plt.show()"
   ]
  },
  {
   "cell_type": "markdown",
   "id": "e9e020d9-a61c-453f-b416-c842bd509821",
   "metadata": {},
   "source": [
    "For the \"stacked\" style of plot, you can pass arguments through to mplhep. For some reason, this reverses the graphical order, but we can easily undo that by applying a slicing operation to the stack:"
   ]
  },
  {
   "cell_type": "code",
   "execution_count": null,
   "id": "9ac0c59b-a2aa-4d80-bafb-3f538c130939",
   "metadata": {},
   "outputs": [],
   "source": [
    "s[::-1].plot(stack=True, histtype=\"fill\")\n",
    "plt.legend()\n",
    "plt.show()"
   ]
  },
  {
   "cell_type": "markdown",
   "id": "db79bdba",
   "metadata": {},
   "source": [
    "We can use `.show()` to access `histoprint` and print the stacked histograms to the console.\n",
    "\n",
    "Note: Histoprint currently supports only non-discrete axes. Hence, it supports only regular and variable axes at the moment."
   ]
  },
  {
   "cell_type": "code",
   "execution_count": null,
   "id": "497fdb75",
   "metadata": {},
   "outputs": [],
   "source": [
    "s.show(columns=120)"
   ]
  },
  {
   "cell_type": "markdown",
   "id": "b98abcec",
   "metadata": {},
   "source": [
    "## Manipulations on a Stack"
   ]
  },
  {
   "cell_type": "code",
   "execution_count": null,
   "id": "ccdd776e",
   "metadata": {},
   "outputs": [],
   "source": [
    "h = Hist.new.Reg(50, -5, 5, name=\"x\").StrCat([\"good\", \"bad\"], name=\"quality\").Double()\n",
    "\n",
    "h.fill(x=np.random.randn(100), quality=[\"good\", \"good\", \"good\", \"good\", \"bad\"] * 20)\n",
    "\n",
    "# Turn an existing axis into a stack\n",
    "s = h.stack(\"quality\")\n",
    "s[::-1].plot(stack=True, histtype=\"fill\")\n",
    "plt.legend()\n",
    "plt.show()"
   ]
  },
  {
   "cell_type": "markdown",
   "id": "0fbd03c1",
   "metadata": {},
   "source": [
    "Histograms in a stack can have names. The names of histograms are the categories, which are corresponding profiled histograms:"
   ]
  },
  {
   "cell_type": "code",
   "execution_count": null,
   "id": "14f3aeb9",
   "metadata": {},
   "outputs": [],
   "source": [
    "print(s[0].name)\n",
    "s[0]"
   ]
  },
  {
   "cell_type": "markdown",
   "id": "046b3dae-cf63-4f05-8abc-fa9460b87067",
   "metadata": {},
   "source": [
    "You can use those names in indexing, just like for axes (only when using string names):"
   ]
  },
  {
   "cell_type": "code",
   "execution_count": null,
   "id": "f83a40b9",
   "metadata": {},
   "outputs": [],
   "source": [
    "print(s[\"bad\"].name)\n",
    "s[\"bad\"]"
   ]
  },
  {
   "cell_type": "markdown",
   "id": "56900b3c-2e93-4427-9f8f-6377eaca2d75",
   "metadata": {},
   "source": [
    "You can scale a stack:"
   ]
  },
  {
   "cell_type": "code",
   "execution_count": null,
   "id": "db8d83a2-1be2-473a-b7e4-8974ed58abab",
   "metadata": {},
   "outputs": [],
   "source": [
    "(s * 5).plot()\n",
    "plt.legend()\n",
    "plt.show()"
   ]
  },
  {
   "cell_type": "markdown",
   "id": "c54e4822-9048-4957-88a4-3adb58e34155",
   "metadata": {},
   "source": [
    "Or an item in the stack inplace:"
   ]
  },
  {
   "cell_type": "code",
   "execution_count": null,
   "id": "1c1d4ffb-31cf-49be-bb03-93664dadff08",
   "metadata": {},
   "outputs": [],
   "source": [
    "s[\"good\"] *= 3\n",
    "s.plot()\n",
    "plt.legend()\n",
    "plt.show()"
   ]
  },
  {
   "cell_type": "markdown",
   "id": "51ccf37a-93c6-4c84-b323-8688e7e0dd4f",
   "metadata": {},
   "source": [
    "You can project on a stack, as well, if the histograms are at least two dimensional. `h.stack(\"x\").project(\"y\")` is identical to `h.project(\"y\").stack(\"x\")`."
   ]
  }
 ],
 "metadata": {
  "kernelspec": {
   "display_name": "hist",
   "language": "python",
   "name": "hist"
  },
  "language_info": {
   "codemirror_mode": {
    "name": "ipython",
    "version": 3
   },
   "file_extension": ".py",
   "mimetype": "text/x-python",
   "name": "python",
   "nbconvert_exporter": "python",
   "pygments_lexer": "ipython3",
   "version": "3.9.7"
  }
 },
 "nbformat": 4,
 "nbformat_minor": 5
}
