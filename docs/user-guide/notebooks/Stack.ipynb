{
 "cells": [
  {
   "cell_type": "markdown",
   "id": "0ada0219-170a-418a-a6a5-b241b9b9fe42",
   "metadata": {},
   "source": [
    "# Stack\n",
    "\n",
    "## Build via Axes\n",
    "\n",
    "A histogram stack holds multiple 1-D histograms into a stack, whose axes are required to match."
   ]
  },
  {
   "cell_type": "code",
   "execution_count": 1,
   "id": "6ed3ec2c-9d11-4c69-b7ce-0365079b22ff",
   "metadata": {},
   "outputs": [],
   "source": [
    "from hist import Hist, Stack, axis, NamedHist, BaseHist\n",
    "import numpy as np\n",
    "import matplotlib.pyplot as plt\n",
    "\n",
    "ax = axis.Regular(50, -5, 5, underflow=False, overflow=False, name=\"X\")\n",
    "\n",
    "h1 = Hist(ax).fill(2 * np.random.normal(size=500) + 2 * np.ones((500,)))\n",
    "\n",
    "h2 = Hist(ax).fill(2 * np.random.normal(size=500) - 2 * np.ones((500,)))\n",
    "\n",
    "h3 = Hist(ax).fill(np.random.normal(size=600))\n",
    "\n",
    "s = Stack(h1, h2, h3)"
   ]
  },
  {
   "cell_type": "markdown",
   "id": "d5da14f4-c02c-493c-a3a6-d4eaa88ffbec",
   "metadata": {},
   "source": [
    "HistStack has `.plot()` method which calls mplhep and plots the histograms in the stack:"
   ]
  },
  {
   "cell_type": "code",
   "execution_count": 2,
   "id": "de684262-0c07-43c8-ba0b-a7a8d5e9f0c5",
   "metadata": {},
   "outputs": [
    {
     "data": {
      "image/png": "[encoded data removed]",
      "text/plain": [
       "<Figure size 432x288 with 1 Axes>"
      ]
     },
     "metadata": {
      "needs_background": "light"
     },
     "output_type": "display_data"
    }
   ],
   "source": [
    "s.plot()\n",
    "plt.show()"
   ]
  },
  {
   "cell_type": "markdown",
   "id": "be7a7b2a-4c88-4bb6-bc3f-4c0add90c981",
   "metadata": {},
   "source": [
    "## Build via A Category Axis"
   ]
  },
  {
   "cell_type": "markdown",
   "id": "22661219-2599-4bcc-9dce-7082d331ea4f",
   "metadata": {},
   "source": [
    "You can also build a histogram stack from a 2-D histogram's Category axis (`IntCat`, `StrCat`), for example,"
   ]
  },
  {
   "cell_type": "code",
   "execution_count": 3,
   "id": "4004cc28-b712-46d9-baa4-7168b08527d3",
   "metadata": {},
   "outputs": [
    {
     "data": {
      "image/png": "[encoded data removed]",
      "text/plain": [
       "<Figure size 432x288 with 1 Axes>"
      ]
     },
     "metadata": {
      "needs_background": "light"
     },
     "output_type": "display_data"
    }
   ],
   "source": [
    "h = (\n",
    "    Hist.new.Reg(50, -5, 5, name=\"x\")\n",
    "    .StrCat([\"good\", \"bad\"], name=\"quality\")\n",
    "    .Double()\n",
    "    .fill(x=np.random.randn(100), quality=[\"good\", \"good\", \"good\", \"good\", \"bad\"] * 20)\n",
    ")\n",
    "\n",
    "# Turn an existin axis into a stack\n",
    "s = h.stack(\"quality\")\n",
    "s[::-1].plot(stack=True, histtype=\"fill\", color=[\"indianred\", \"steelblue\"], alpha=0.8)\n",
    "plt.show()"
   ]
  },
  {
   "cell_type": "markdown",
   "id": "5e392951-033f-44eb-bf18-5928afcae370",
   "metadata": {},
   "source": [
    "The histograms in this kind of stack can have names. The names of histograms are the categories, which are corresponding profiled histograms:"
   ]
  },
  {
   "cell_type": "code",
   "execution_count": 4,
   "id": "d5a0e342-7d73-4c04-b5ce-5faf87166e73",
   "metadata": {},
   "outputs": [
    {
     "name": "stdout",
     "output_type": "stream",
     "text": [
      "good\n"
     ]
    },
    {
     "data": {
      "text/html": [
       "<html>\n",
       "<div style=\"display:flex; align-items:center;\">\n",
       "<div style=\"width:290px;\">\n",
       "<svg xmlns=\"http://www.w3.org/2000/svg\" viewBox=\"-10 -105 270 120\">\n",
       "<line x1=\"-5\" y1=\"0\" x2=\"255\" y2=\"0\" style=\"fill:none;stroke-width:2;stroke:currentColor\"/>\n",
       "<text text-anchor=\"middle\" x=\"0\" y=\"15\" style=\"fill:currentColor;\">\n",
       "-5\n",
       "</text>\n",
       "<text text-anchor=\"middle\" x=\"250\" y=\"15\" style=\"fill:currentColor;\">\n",
       "5\n",
       "</text>\n",
       "<text text-anchor=\"middle\" x=\"125.0\" y=\"15\" style=\"fill:currentColor;\">\n",
       "x\n",
       "</text>\n",
       "<polyline points=\"  0,0   0,-0   5,-0   5,-0  10,-0  10,-0  15,-0  15,-0  20,-0  20,-0  25,-0  25,-0  30,-0  30,-0  35,-0  35,-0  40,-0  40,-0  45,-0  45,-12.5  50,-12.5  50,-0  55,-0  55,-12.5  60,-12.5  60,-0  65,-0  65,-0  70,-0  70,-0  75,-0  75,-37.5  80,-37.5  80,-12.5  85,-12.5  85,-0  90,-0  90,-12.5  95,-12.5  95,-75 100,-75 100,-37.5 105,-37.5 105,-87.5 110,-87.5 110,-50 115,-50 115,-50 120,-50 120,-75 125,-75 125,-62.5 130,-62.5 130,-75 135,-75 135,-100 140,-100 140,-50 145,-50 145,-0 150,-0 150,-62.5 155,-62.5 155,-62.5 160,-62.5 160,-37.5 165,-37.5 165,-75 170,-75 170,-0 175,-0 175,-12.5 180,-12.5 180,-0 185,-0 185,-0 190,-0 190,-0 195,-0 195,-0 200,-0 200,-0 205,-0 205,-0 210,-0 210,-0 215,-0 215,-0 220,-0 220,-0 225,-0 225,-0 230,-0 230,-0 235,-0 235,-0 240,-0 240,-0 245,-0 245,-0 250,-0 250,0\" style=\"fill:none; stroke:currentColor;\"/>\n",
       "</svg>\n",
       "</div>\n",
       "<div style=\"flex=grow:1;\">\n",
       "Regular(50, -5, 5, name='x', label='x')<br/>\n",
       "<hr style=\"margin-top:.2em; margin-bottom:.2em;\"/>\n",
       "Double() Σ=80.0\n",
       "\n",
       "</div>\n",
       "</div>\n",
       "</html>"
      ],
      "text/plain": [
       "Hist(Regular(50, -5, 5, name='x', label='x'), storage=Double()) # Sum: 80.0"
      ]
     },
     "execution_count": 4,
     "metadata": {},
     "output_type": "execute_result"
    }
   ],
   "source": [
    "print(s[0].name)\n",
    "s[0]"
   ]
  },
  {
   "cell_type": "code",
   "execution_count": 5,
   "id": "c3f81b2c-9bb9-4e98-acb2-5238960e9812",
   "metadata": {},
   "outputs": [
    {
     "name": "stdout",
     "output_type": "stream",
     "text": [
      "bad\n"
     ]
    },
    {
     "data": {
      "text/html": [
       "<html>\n",
       "<div style=\"display:flex; align-items:center;\">\n",
       "<div style=\"width:290px;\">\n",
       "<svg xmlns=\"http://www.w3.org/2000/svg\" viewBox=\"-10 -105 270 120\">\n",
       "<line x1=\"-5\" y1=\"0\" x2=\"255\" y2=\"0\" style=\"fill:none;stroke-width:2;stroke:currentColor\"/>\n",
       "<text text-anchor=\"middle\" x=\"0\" y=\"15\" style=\"fill:currentColor;\">\n",
       "-5\n",
       "</text>\n",
       "<text text-anchor=\"middle\" x=\"250\" y=\"15\" style=\"fill:currentColor;\">\n",
       "5\n",
       "</text>\n",
       "<text text-anchor=\"middle\" x=\"125.0\" y=\"15\" style=\"fill:currentColor;\">\n",
       "x\n",
       "</text>\n",
       "<polyline points=\"  0,0   0,-0   5,-0   5,-0  10,-0  10,-0  15,-0  15,-0  20,-0  20,-0  25,-0  25,-0  30,-0  30,-0  35,-0  35,-0  40,-0  40,-0  45,-0  45,-0  50,-0  50,-0  55,-0  55,-0  60,-0  60,-0  65,-0  65,-0  70,-0  70,-0  75,-0  75,-0  80,-0  80,-25  85,-25  85,-25  90,-25  90,-50  95,-50  95,-0 100,-0 100,-75 105,-75 105,-100 110,-100 110,-25 115,-25 115,-0 120,-0 120,-50 125,-50 125,-25 130,-25 130,-50 135,-50 135,-50 140,-50 140,-0 145,-0 145,-0 150,-0 150,-0 155,-0 155,-0 160,-0 160,-0 165,-0 165,-0 170,-0 170,-25 175,-25 175,-0 180,-0 180,-0 185,-0 185,-0 190,-0 190,-0 195,-0 195,-0 200,-0 200,-0 205,-0 205,-0 210,-0 210,-0 215,-0 215,-0 220,-0 220,-0 225,-0 225,-0 230,-0 230,-0 235,-0 235,-0 240,-0 240,-0 245,-0 245,-0 250,-0 250,0\" style=\"fill:none; stroke:currentColor;\"/>\n",
       "</svg>\n",
       "</div>\n",
       "<div style=\"flex=grow:1;\">\n",
       "Regular(50, -5, 5, name='x', label='x')<br/>\n",
       "<hr style=\"margin-top:.2em; margin-bottom:.2em;\"/>\n",
       "Double() Σ=20.0\n",
       "\n",
       "</div>\n",
       "</div>\n",
       "</html>"
      ],
      "text/plain": [
       "Hist(Regular(50, -5, 5, name='x', label='x'), storage=Double()) # Sum: 20.0"
      ]
     },
     "execution_count": 5,
     "metadata": {},
     "output_type": "execute_result"
    }
   ],
   "source": [
    "print(s[1].name)\n",
    "s[1]"
   ]
  }
 ],
 "metadata": {
  "kernelspec": {
   "display_name": "hist",
   "language": "python",
   "name": "hist"
  },
  "language_info": {
   "codemirror_mode": {
    "name": "ipython",
    "version": 3
   },
   "file_extension": ".py",
   "mimetype": "text/x-python",
   "name": "python",
   "nbconvert_exporter": "python",
   "pygments_lexer": "ipython3",
   "version": "3.9.4"
  }
 },
 "nbformat": 4,
 "nbformat_minor": 5
}
