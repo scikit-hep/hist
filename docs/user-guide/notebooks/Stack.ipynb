{
 "cells": [
  {
   "cell_type": "markdown",
   "id": "0ada0219-170a-418a-a6a5-b241b9b9fe42",
   "metadata": {},
   "source": [
    "# Stack\n",
    "\n",
    "## Build via Axes\n",
    "\n",
    "A histogram stack holds multiple 1-D histograms into a stack, whose axes are required to match."
   ]
  },
  {
   "cell_type": "code",
   "execution_count": 1,
   "id": "6ed3ec2c-9d11-4c69-b7ce-0365079b22ff",
   "metadata": {},
   "outputs": [],
   "source": [
    "from hist import Hist, Stack, axis, NamedHist, BaseHist\n",
    "import numpy as np\n",
    "import matplotlib.pyplot as plt\n",
    "\n",
    "ax = axis.Regular(50, -5, 5, underflow=False, overflow=False, name=\"X\")\n",
    "\n",
    "h1 = Hist(ax).fill(2 * np.random.normal(size=500) + 2 * np.ones((500,)))\n",
    "\n",
    "h2 = Hist(ax).fill(2 * np.random.normal(size=500) - 2 * np.ones((500,)))\n",
    "\n",
    "h3 = Hist(ax).fill(np.random.normal(size=600))\n",
    "\n",
    "s = Stack(h1, h2, h3)"
   ]
  },
  {
   "cell_type": "markdown",
   "id": "d5da14f4-c02c-493c-a3a6-d4eaa88ffbec",
   "metadata": {},
   "source": [
    "HistStack has `.plot()` method which calls mplhep and plots the histograms in the stack:"
   ]
  },
  {
   "cell_type": "code",
   "execution_count": 2,
   "id": "de684262-0c07-43c8-ba0b-a7a8d5e9f0c5",
   "metadata": {},
   "outputs": [
    {
     "data": {
      "image/png": "[encoded data removed]",
      "text/plain": [
       "<Figure size 432x288 with 1 Axes>"
      ]
     },
     "metadata": {
      "needs_background": "light"
     },
     "output_type": "display_data"
    }
   ],
   "source": [
    "s.plot()\n",
    "plt.show()"
   ]
  },
  {
   "cell_type": "markdown",
   "id": "2ba5476b-310c-40b9-a0aa-a1484a5861c0",
   "metadata": {},
   "source": [
    "We can use `.show()` to access `histoprint` and print the stacked histograms to the console.\n",
    "\n",
    "Note: Histoprint currently supports only non-discrete axes. Hence, it supports only regular and variable axes at the moment."
   ]
  },
  {
   "cell_type": "code",
   "execution_count": 3,
   "id": "a1b6e4bf-8b4d-4713-80e1-8c175b01477d",
   "metadata": {},
   "outputs": [
    {
     "name": "stdout",
     "output_type": "stream",
     "text": [
      "-5.00e+00 _                             7.80e+01 ╷\n",
      "-4.80e+00 _\u001b[97;49m│\u001b[39;49m\u001b[97;49m│\u001b[39;49m\n",
      "-4.60e+00 _\u001b[97;49m│\u001b[39;49m\u001b[97;49m│\u001b[39;49m\n",
      "-4.40e+00 _\u001b[97;49m│\u001b[39;49m\u001b[97;49m│\u001b[39;49m\u001b[97;49m│\u001b[39;49m\u001b[97;49m│\u001b[39;49m\u001b[97;49m│\u001b[39;49m\n",
      "-4.20e+00 _\u001b[97;49m│\u001b[39;49m\u001b[97;49m│\u001b[39;49m\u001b[97;49m│\u001b[39;49m\u001b[97;49m│\u001b[39;49m\n",
      "-4.00e+00 _\u001b[97;49m│\u001b[39;49m\u001b[97;49m│\u001b[39;49m\u001b[97;49m│\u001b[39;49m\u001b[97;49m│\u001b[39;49m\u001b[97;49m│\u001b[39;49m\u001b[97;49m│\u001b[39;49m\n",
      "-3.80e+00 _\u001b[97;49m│\u001b[39;49m\u001b[97;49m│\u001b[39;49m\u001b[97;49m│\u001b[39;49m\u001b[97;49m│\u001b[39;49m\u001b[97;49m│\u001b[39;49m\u001b[97;49m│\u001b[39;49m\n",
      "-3.60e+00 _\u001b[97;49m│\u001b[39;49m\u001b[97;49m│\u001b[39;49m\u001b[97;49m│\u001b[39;49m\u001b[97;49m│\u001b[39;49m\u001b[97;49m│\u001b[39;49m\n",
      "-3.40e+00 _\u001b[97;49m│\u001b[39;49m\u001b[97;49m│\u001b[39;49m\u001b[97;49m│\u001b[39;49m\u001b[97;49m│\u001b[39;49m\u001b[97;49m│\u001b[39;49m\u001b[97;49m│\u001b[39;49m\n",
      "-3.20e+00 _\u001b[97;49m│\u001b[39;49m\u001b[97;49m│\u001b[39;49m\u001b[97;49m│\u001b[39;49m\u001b[97;49m│\u001b[39;49m\u001b[97;49m│\u001b[39;49m\u001b[97;49m│\u001b[39;49m\u001b[97;49m│\u001b[39;49m\u001b[97;49m│\u001b[39;49m\u001b[97;49m│\u001b[39;49m\u001b[97;49m│\u001b[39;49m\n",
      "-3.00e+00 _\u001b[90;40m█\u001b[39;49m\u001b[97;49m│\u001b[39;49m\u001b[97;49m│\u001b[39;49m\u001b[97;49m│\u001b[39;49m\u001b[97;49m│\u001b[39;49m\u001b[97;49m│\u001b[39;49m\u001b[97;49m│\u001b[39;49m\u001b[97;49m│\u001b[39;49m\u001b[97;49m│\u001b[39;49m\u001b[97;49m│\u001b[39;49m\n",
      "-2.80e+00 _\u001b[90;40m█\u001b[39;49m\u001b[97;49m│\u001b[39;49m\u001b[97;49m│\u001b[39;49m\u001b[97;49m│\u001b[39;49m\u001b[97;49m│\u001b[39;49m\u001b[97;49m│\u001b[39;49m\u001b[97;49m│\u001b[39;49m\u001b[97;49m│\u001b[39;49m\u001b[97;49m│\u001b[39;49m\u001b[97;49m│\u001b[39;49m\u001b[97;49m│\u001b[39;49m\n",
      "-2.60e+00 _\u001b[97;49m│\u001b[39;49m\u001b[97;49m│\u001b[39;49m\u001b[97;49m│\u001b[39;49m\u001b[97;49m│\u001b[39;49m\u001b[97;49m│\u001b[39;49m\u001b[97;49m│\u001b[39;49m\u001b[97;49m│\u001b[39;49m\u001b[97;49m│\u001b[39;49m\u001b[97;49m═\u001b[39;49m\n",
      "-2.40e+00 _\u001b[90;40m█\u001b[39;49m\u001b[97;49m│\u001b[39;49m\u001b[97;49m│\u001b[39;49m\u001b[97;49m│\u001b[39;49m\u001b[97;49m│\u001b[39;49m\u001b[97;49m│\u001b[39;49m\u001b[97;49m│\u001b[39;49m\n",
      "-2.20e+00 _\u001b[97;49m│\u001b[39;49m\u001b[97;49m│\u001b[39;49m\u001b[97;49m│\u001b[39;49m\u001b[97;49m│\u001b[39;49m\u001b[97;49m│\u001b[39;49m\u001b[97;49m│\u001b[39;49m\n",
      "-2.00e+00 _\u001b[90;40m█\u001b[39;49m\u001b[90;40m█\u001b[39;49m\u001b[97;49m│\u001b[39;49m\u001b[97;49m│\u001b[39;49m\u001b[97;49m│\u001b[39;49m\u001b[97;49m│\u001b[39;49m\u001b[97;49m│\u001b[39;49m\u001b[97;49m│\u001b[39;49m\u001b[97;49m│\u001b[39;49m\u001b[97;49m│\u001b[39;49m\u001b[97;49m│\u001b[39;49m\u001b[97;49m│\u001b[39;49m\u001b[97;49m│\u001b[39;49m\u001b[97;49m═\u001b[39;49m\u001b[97;49m═\u001b[39;49m\u001b[97;49m═\u001b[39;49m\u001b[97;49m═\u001b[39;49m\u001b[97;49m═\u001b[39;49m\n",
      "-1.80e+00 _\u001b[90;40m█\u001b[39;49m\u001b[97;49m│\u001b[39;49m\u001b[97;49m│\u001b[39;49m\u001b[97;49m│\u001b[39;49m\u001b[97;49m│\u001b[39;49m\u001b[97;49m│\u001b[39;49m\u001b[97;49m│\u001b[39;49m\u001b[97;49m│\u001b[39;49m\u001b[97;49m│\u001b[39;49m\u001b[97;49m═\u001b[39;49m\u001b[97;49m═\u001b[39;49m\u001b[97;49m═\u001b[39;49m\u001b[97;49m═\u001b[39;49m\n",
      "-1.60e+00 _\u001b[97;49m│\u001b[39;49m\u001b[97;49m│\u001b[39;49m\u001b[97;49m│\u001b[39;49m\u001b[97;49m│\u001b[39;49m\u001b[97;49m│\u001b[39;49m\u001b[97;49m│\u001b[39;49m\u001b[97;49m│\u001b[39;49m\u001b[97;49m│\u001b[39;49m\u001b[97;49m│\u001b[39;49m\u001b[97;49m│\u001b[39;49m\u001b[97;49m═\u001b[39;49m\u001b[97;49m═\u001b[39;49m\n",
      "-1.40e+00 _\u001b[90;40m█\u001b[39;49m\u001b[90;40m█\u001b[39;49m\u001b[90;40m█\u001b[39;49m\u001b[90;40m█\u001b[39;49m\u001b[97;49m│\u001b[39;49m\u001b[97;49m│\u001b[39;49m\u001b[97;49m│\u001b[39;49m\u001b[97;49m│\u001b[39;49m\u001b[97;49m│\u001b[39;49m\u001b[97;49m│\u001b[39;49m\u001b[97;49m│\u001b[39;49m\u001b[97;49m│\u001b[39;49m\u001b[97;49m═\u001b[39;49m\u001b[97;49m═\u001b[39;49m\u001b[97;49m═\u001b[39;49m\u001b[97;49m═\u001b[39;49m\u001b[97;49m═\u001b[39;49m\u001b[97;49m═\u001b[39;49m\u001b[97;49m═\u001b[39;49m\n",
      "-1.20e+00 _\u001b[90;40m█\u001b[39;49m\u001b[90;40m█\u001b[39;49m\u001b[90;40m█\u001b[39;49m\u001b[97;49m│\u001b[39;49m\u001b[97;49m│\u001b[39;49m\u001b[97;49m│\u001b[39;49m\u001b[97;49m│\u001b[39;49m\u001b[97;49m│\u001b[39;49m\u001b[97;49m│\u001b[39;49m\u001b[97;49m│\u001b[39;49m\u001b[97;49m│\u001b[39;49m\u001b[97;49m│\u001b[39;49m\u001b[97;49m│\u001b[39;49m\u001b[97;49m═\u001b[39;49m\u001b[97;49m═\u001b[39;49m\u001b[97;49m═\u001b[39;49m\u001b[97;49m═\u001b[39;49m\u001b[97;49m═\u001b[39;49m\u001b[97;49m═\u001b[39;49m\u001b[97;49m═\u001b[39;49m\u001b[97;49m═\u001b[39;49m\u001b[97;49m═\u001b[39;49m\u001b[97;49m═\u001b[39;49m\u001b[97;49m═\u001b[39;49m\n",
      "-1.00e+00 _\u001b[90;40m█\u001b[39;49m\u001b[90;40m█\u001b[39;49m\u001b[97;49m│\u001b[39;49m\u001b[97;49m│\u001b[39;49m\u001b[97;49m│\u001b[39;49m\u001b[97;49m│\u001b[39;49m\u001b[97;49m│\u001b[39;49m\u001b[97;49m│\u001b[39;49m\u001b[97;49m│\u001b[39;49m\u001b[97;49m│\u001b[39;49m\u001b[97;49m│\u001b[39;49m\u001b[97;49m│\u001b[39;49m\u001b[97;49m═\u001b[39;49m\u001b[97;49m═\u001b[39;49m\u001b[97;49m═\u001b[39;49m\u001b[97;49m═\u001b[39;49m\u001b[97;49m═\u001b[39;49m\u001b[97;49m═\u001b[39;49m\u001b[97;49m═\u001b[39;49m\u001b[97;49m═\u001b[39;49m\u001b[97;49m═\u001b[39;49m\n",
      "-8.00e-01 _\u001b[90;40m█\u001b[39;49m\u001b[90;40m█\u001b[39;49m\u001b[90;40m█\u001b[39;49m\u001b[97;49m│\u001b[39;49m\u001b[97;49m│\u001b[39;49m\u001b[97;49m│\u001b[39;49m\u001b[97;49m│\u001b[39;49m\u001b[97;49m│\u001b[39;49m\u001b[97;49m│\u001b[39;49m\u001b[97;49m│\u001b[39;49m\u001b[97;49m│\u001b[39;49m\u001b[97;49m│\u001b[39;49m\u001b[97;49m│\u001b[39;49m\u001b[97;49m═\u001b[39;49m\u001b[97;49m═\u001b[39;49m\u001b[97;49m═\u001b[39;49m\u001b[97;49m═\u001b[39;49m\u001b[97;49m═\u001b[39;49m\u001b[97;49m═\u001b[39;49m\u001b[97;49m═\u001b[39;49m\u001b[97;49m═\u001b[39;49m\u001b[97;49m═\u001b[39;49m\u001b[97;49m═\u001b[39;49m\u001b[97;49m═\u001b[39;49m\u001b[97;49m═\u001b[39;49m\u001b[97;49m═\u001b[39;49m\u001b[97;49m═\u001b[39;49m\u001b[97;49m═\u001b[39;49m\u001b[97;49m═\u001b[39;49m\u001b[97;49m═\u001b[39;49m\u001b[97;49m═\u001b[39;49m\u001b[97;49m═\u001b[39;49m\n",
      "-6.00e-01 _\u001b[90;40m█\u001b[39;49m\u001b[90;40m█\u001b[39;49m\u001b[90;40m█\u001b[39;49m\u001b[90;40m█\u001b[39;49m\u001b[97;49m│\u001b[39;49m\u001b[97;49m│\u001b[39;49m\u001b[97;49m│\u001b[39;49m\u001b[97;49m│\u001b[39;49m\u001b[97;49m│\u001b[39;49m\u001b[97;49m│\u001b[39;49m\u001b[97;49m│\u001b[39;49m\u001b[97;49m│\u001b[39;49m\u001b[97;49m│\u001b[39;49m\u001b[97;49m═\u001b[39;49m\u001b[97;49m═\u001b[39;49m\u001b[97;49m═\u001b[39;49m\u001b[97;49m═\u001b[39;49m\u001b[97;49m═\u001b[39;49m\u001b[97;49m═\u001b[39;49m\u001b[97;49m═\u001b[39;49m\u001b[97;49m═\u001b[39;49m\u001b[97;49m═\u001b[39;49m\u001b[97;49m═\u001b[39;49m\u001b[97;49m═\u001b[39;49m\u001b[97;49m═\u001b[39;49m\u001b[97;49m═\u001b[39;49m\u001b[97;49m═\u001b[39;49m\u001b[97;49m═\u001b[39;49m\u001b[97;49m═\u001b[39;49m\u001b[97;49m═\u001b[39;49m\n",
      "-4.00e-01 _\u001b[90;40m█\u001b[39;49m\u001b[90;40m█\u001b[39;49m\u001b[90;40m█\u001b[39;49m\u001b[90;40m█\u001b[39;49m\u001b[90;40m█\u001b[39;49m\u001b[97;49m│\u001b[39;49m\u001b[97;49m│\u001b[39;49m\u001b[97;49m│\u001b[39;49m\u001b[97;49m│\u001b[39;49m\u001b[97;49m│\u001b[39;49m\u001b[97;49m═\u001b[39;49m\u001b[97;49m═\u001b[39;49m\u001b[97;49m═\u001b[39;49m\u001b[97;49m═\u001b[39;49m\u001b[97;49m═\u001b[39;49m\u001b[97;49m═\u001b[39;49m\u001b[97;49m═\u001b[39;49m\u001b[97;49m═\u001b[39;49m\u001b[97;49m═\u001b[39;49m\u001b[97;49m═\u001b[39;49m\u001b[97;49m═\u001b[39;49m\u001b[97;49m═\u001b[39;49m\u001b[97;49m═\u001b[39;49m\u001b[97;49m═\u001b[39;49m\u001b[97;49m═\u001b[39;49m\n",
      "-2.00e-01 _\u001b[90;40m█\u001b[39;49m\u001b[90;40m█\u001b[39;49m\u001b[90;40m█\u001b[39;49m\u001b[90;40m█\u001b[39;49m\u001b[90;40m█\u001b[39;49m\u001b[97;49m│\u001b[39;49m\u001b[97;49m│\u001b[39;49m\u001b[97;49m│\u001b[39;49m\u001b[97;49m│\u001b[39;49m\u001b[97;49m│\u001b[39;49m\u001b[97;49m│\u001b[39;49m\u001b[97;49m│\u001b[39;49m\u001b[97;49m│\u001b[39;49m\u001b[97;49m═\u001b[39;49m\u001b[97;49m═\u001b[39;49m\u001b[97;49m═\u001b[39;49m\u001b[97;49m═\u001b[39;49m\u001b[97;49m═\u001b[39;49m\u001b[97;49m═\u001b[39;49m\u001b[97;49m═\u001b[39;49m\u001b[97;49m═\u001b[39;49m\u001b[97;49m═\u001b[39;49m\u001b[97;49m═\u001b[39;49m\u001b[97;49m═\u001b[39;49m\u001b[97;49m═\u001b[39;49m\u001b[97;49m═\u001b[39;49m\u001b[97;49m═\u001b[39;49m\u001b[97;49m═\u001b[39;49m\u001b[97;49m═\u001b[39;49m\u001b[97;49m═\u001b[39;49m\u001b[97;49m═\u001b[39;49m\u001b[97;49m═\u001b[39;49m\u001b[97;49m═\u001b[39;49m\u001b[97;49m═\u001b[39;49m\u001b[97;49m═\u001b[39;49m\u001b[97;49m═\u001b[39;49m\u001b[97;49m═\u001b[39;49m\u001b[97;49m═\u001b[39;49m\n",
      " 0.00e+00 _\u001b[90;40m█\u001b[39;49m\u001b[90;40m█\u001b[39;49m\u001b[90;40m█\u001b[39;49m\u001b[90;40m█\u001b[39;49m\u001b[90;40m█\u001b[39;49m\u001b[90;40m█\u001b[39;49m\u001b[90;40m█\u001b[39;49m\u001b[90;40m█\u001b[39;49m\u001b[97;49m│\u001b[39;49m\u001b[97;49m│\u001b[39;49m\u001b[97;49m│\u001b[39;49m\u001b[97;49m│\u001b[39;49m\u001b[97;49m│\u001b[39;49m\u001b[97;49m═\u001b[39;49m\u001b[97;49m═\u001b[39;49m\u001b[97;49m═\u001b[39;49m\u001b[97;49m═\u001b[39;49m\u001b[97;49m═\u001b[39;49m\u001b[97;49m═\u001b[39;49m\u001b[97;49m═\u001b[39;49m\u001b[97;49m═\u001b[39;49m\u001b[97;49m═\u001b[39;49m\u001b[97;49m═\u001b[39;49m\u001b[97;49m═\u001b[39;49m\u001b[97;49m═\u001b[39;49m\u001b[97;49m═\u001b[39;49m\u001b[97;49m═\u001b[39;49m\u001b[97;49m═\u001b[39;49m\u001b[97;49m═\u001b[39;49m\u001b[97;49m═\u001b[39;49m\u001b[97;49m═\u001b[39;49m\u001b[97;49m═\u001b[39;49m\u001b[97;49m═\u001b[39;49m\u001b[97;49m═\u001b[39;49m\u001b[97;49m═\u001b[39;49m\u001b[97;49m═\u001b[39;49m\u001b[97;49m═\u001b[39;49m\u001b[97;49m═\u001b[39;49m\n",
      " 2.00e-01 _\u001b[90;40m█\u001b[39;49m\u001b[90;40m█\u001b[39;49m\u001b[90;40m█\u001b[39;49m\u001b[90;40m█\u001b[39;49m\u001b[97;49m│\u001b[39;49m\u001b[97;49m│\u001b[39;49m\u001b[97;49m│\u001b[39;49m\u001b[97;49m│\u001b[39;49m\u001b[97;49m│\u001b[39;49m\u001b[97;49m│\u001b[39;49m\u001b[97;49m│\u001b[39;49m\u001b[97;49m│\u001b[39;49m\u001b[97;49m═\u001b[39;49m\u001b[97;49m═\u001b[39;49m\u001b[97;49m═\u001b[39;49m\u001b[97;49m═\u001b[39;49m\u001b[97;49m═\u001b[39;49m\u001b[97;49m═\u001b[39;49m\u001b[97;49m═\u001b[39;49m\u001b[97;49m═\u001b[39;49m\u001b[97;49m═\u001b[39;49m\u001b[97;49m═\u001b[39;49m\u001b[97;49m═\u001b[39;49m\u001b[97;49m═\u001b[39;49m\u001b[97;49m═\u001b[39;49m\u001b[97;49m═\u001b[39;49m\u001b[97;49m═\u001b[39;49m\u001b[97;49m═\u001b[39;49m\u001b[97;49m═\u001b[39;49m\u001b[97;49m═\u001b[39;49m\u001b[97;49m═\u001b[39;49m\u001b[97;49m═\u001b[39;49m\u001b[97;49m═\u001b[39;49m\u001b[97;49m═\u001b[39;49m\u001b[97;49m═\u001b[39;49m\u001b[97;49m═\u001b[39;49m\n",
      " 4.00e-01 _\u001b[90;40m█\u001b[39;49m\u001b[90;40m█\u001b[39;49m\u001b[90;40m█\u001b[39;49m\u001b[90;40m█\u001b[39;49m\u001b[90;40m█\u001b[39;49m\u001b[90;40m█\u001b[39;49m\u001b[90;40m█\u001b[39;49m\u001b[97;49m│\u001b[39;49m\u001b[97;49m│\u001b[39;49m\u001b[97;49m│\u001b[39;49m\u001b[97;49m│\u001b[39;49m\u001b[97;49m│\u001b[39;49m\u001b[97;49m│\u001b[39;49m\u001b[97;49m│\u001b[39;49m\u001b[97;49m═\u001b[39;49m\u001b[97;49m═\u001b[39;49m\u001b[97;49m═\u001b[39;49m\u001b[97;49m═\u001b[39;49m\u001b[97;49m═\u001b[39;49m\u001b[97;49m═\u001b[39;49m\u001b[97;49m═\u001b[39;49m\u001b[97;49m═\u001b[39;49m\u001b[97;49m═\u001b[39;49m\u001b[97;49m═\u001b[39;49m\u001b[97;49m═\u001b[39;49m\u001b[97;49m═\u001b[39;49m\u001b[97;49m═\u001b[39;49m\u001b[97;49m═\u001b[39;49m\u001b[97;49m═\u001b[39;49m\u001b[97;49m═\u001b[39;49m\u001b[97;49m═\u001b[39;49m\u001b[97;49m═\u001b[39;49m\u001b[97;49m═\u001b[39;49m\u001b[97;49m═\u001b[39;49m\u001b[97;49m═\u001b[39;49m\u001b[97;49m═\u001b[39;49m\u001b[97;49m═\u001b[39;49m\u001b[97;49m═\u001b[39;49m\u001b[97;49m═\u001b[39;49m\n",
      " 6.00e-01 _\u001b[90;40m█\u001b[39;49m\u001b[90;40m█\u001b[39;49m\u001b[90;40m█\u001b[39;49m\u001b[90;40m█\u001b[39;49m\u001b[90;40m█\u001b[39;49m\u001b[90;40m█\u001b[39;49m\u001b[90;40m█\u001b[39;49m\u001b[90;40m█\u001b[39;49m\u001b[90;40m█\u001b[39;49m\u001b[97;49m│\u001b[39;49m\u001b[97;49m│\u001b[39;49m\u001b[97;49m│\u001b[39;49m\u001b[97;49m═\u001b[39;49m\u001b[97;49m═\u001b[39;49m\u001b[97;49m═\u001b[39;49m\u001b[97;49m═\u001b[39;49m\u001b[97;49m═\u001b[39;49m\u001b[97;49m═\u001b[39;49m\u001b[97;49m═\u001b[39;49m\u001b[97;49m═\u001b[39;49m\u001b[97;49m═\u001b[39;49m\u001b[97;49m═\u001b[39;49m\u001b[97;49m═\u001b[39;49m\u001b[97;49m═\u001b[39;49m\u001b[97;49m═\u001b[39;49m\u001b[97;49m═\u001b[39;49m\u001b[97;49m═\u001b[39;49m\u001b[97;49m═\u001b[39;49m\u001b[97;49m═\u001b[39;49m\u001b[97;49m═\u001b[39;49m\u001b[97;49m═\u001b[39;49m\u001b[97;49m═\u001b[39;49m\u001b[97;49m═\u001b[39;49m\u001b[97;49m═\u001b[39;49m\u001b[97;49m═\u001b[39;49m\n",
      " 8.00e-01 _\u001b[90;40m█\u001b[39;49m\u001b[90;40m█\u001b[39;49m\u001b[90;40m█\u001b[39;49m\u001b[90;40m█\u001b[39;49m\u001b[90;40m█\u001b[39;49m\u001b[90;40m█\u001b[39;49m\u001b[90;40m█\u001b[39;49m\u001b[90;40m█\u001b[39;49m\u001b[97;49m│\u001b[39;49m\u001b[97;49m│\u001b[39;49m\u001b[97;49m│\u001b[39;49m\u001b[97;49m│\u001b[39;49m\u001b[97;49m═\u001b[39;49m\u001b[97;49m═\u001b[39;49m\u001b[97;49m═\u001b[39;49m\u001b[97;49m═\u001b[39;49m\u001b[97;49m═\u001b[39;49m\u001b[97;49m═\u001b[39;49m\u001b[97;49m═\u001b[39;49m\u001b[97;49m═\u001b[39;49m\u001b[97;49m═\u001b[39;49m\u001b[97;49m═\u001b[39;49m\u001b[97;49m═\u001b[39;49m\u001b[97;49m═\u001b[39;49m\u001b[97;49m═\u001b[39;49m\u001b[97;49m═\u001b[39;49m\u001b[97;49m═\u001b[39;49m\u001b[97;49m═\u001b[39;49m\u001b[97;49m═\u001b[39;49m\u001b[97;49m═\u001b[39;49m\u001b[97;49m═\u001b[39;49m\u001b[97;49m═\u001b[39;49m\u001b[97;49m═\u001b[39;49m\u001b[97;49m═\u001b[39;49m\n",
      " 1.00e+00 _\u001b[90;40m█\u001b[39;49m\u001b[90;40m█\u001b[39;49m\u001b[90;40m█\u001b[39;49m\u001b[90;40m█\u001b[39;49m\u001b[97;49m│\u001b[39;49m\u001b[97;49m│\u001b[39;49m\u001b[97;49m│\u001b[39;49m\u001b[97;49m│\u001b[39;49m\u001b[97;49m│\u001b[39;49m\u001b[97;49m│\u001b[39;49m\u001b[97;49m│\u001b[39;49m\u001b[97;49m═\u001b[39;49m\u001b[97;49m═\u001b[39;49m\u001b[97;49m═\u001b[39;49m\u001b[97;49m═\u001b[39;49m\u001b[97;49m═\u001b[39;49m\u001b[97;49m═\u001b[39;49m\u001b[97;49m═\u001b[39;49m\u001b[97;49m═\u001b[39;49m\u001b[97;49m═\u001b[39;49m\u001b[97;49m═\u001b[39;49m\u001b[97;49m═\u001b[39;49m\n",
      " 1.20e+00 _\u001b[90;40m█\u001b[39;49m\u001b[90;40m█\u001b[39;49m\u001b[90;40m█\u001b[39;49m\u001b[90;40m█\u001b[39;49m\u001b[90;40m█\u001b[39;49m\u001b[90;40m█\u001b[39;49m\u001b[97;49m│\u001b[39;49m\u001b[97;49m│\u001b[39;49m\u001b[97;49m│\u001b[39;49m\u001b[97;49m│\u001b[39;49m\u001b[97;49m│\u001b[39;49m\u001b[97;49m═\u001b[39;49m\u001b[97;49m═\u001b[39;49m\u001b[97;49m═\u001b[39;49m\u001b[97;49m═\u001b[39;49m\u001b[97;49m═\u001b[39;49m\u001b[97;49m═\u001b[39;49m\u001b[97;49m═\u001b[39;49m\u001b[97;49m═\u001b[39;49m\u001b[97;49m═\u001b[39;49m\u001b[97;49m═\u001b[39;49m\u001b[97;49m═\u001b[39;49m\u001b[97;49m═\u001b[39;49m\u001b[97;49m═\u001b[39;49m\u001b[97;49m═\u001b[39;49m\u001b[97;49m═\u001b[39;49m\u001b[97;49m═\u001b[39;49m\n",
      " 1.40e+00 _\u001b[90;40m█\u001b[39;49m\u001b[90;40m█\u001b[39;49m\u001b[90;40m█\u001b[39;49m\u001b[90;40m█\u001b[39;49m\u001b[90;40m█\u001b[39;49m\u001b[90;40m█\u001b[39;49m\u001b[97;49m│\u001b[39;49m\u001b[97;49m│\u001b[39;49m\u001b[97;49m═\u001b[39;49m\u001b[97;49m═\u001b[39;49m\u001b[97;49m═\u001b[39;49m\u001b[97;49m═\u001b[39;49m\u001b[97;49m═\u001b[39;49m\u001b[97;49m═\u001b[39;49m\u001b[97;49m═\u001b[39;49m\u001b[97;49m═\u001b[39;49m\n",
      " 1.60e+00 _\u001b[90;40m█\u001b[39;49m\u001b[90;40m█\u001b[39;49m\u001b[90;40m█\u001b[39;49m\u001b[90;40m█\u001b[39;49m\u001b[90;40m█\u001b[39;49m\u001b[90;40m█\u001b[39;49m\u001b[90;40m█\u001b[39;49m\u001b[90;40m█\u001b[39;49m\u001b[97;49m│\u001b[39;49m\u001b[97;49m│\u001b[39;49m\u001b[97;49m═\u001b[39;49m\u001b[97;49m═\u001b[39;49m\u001b[97;49m═\u001b[39;49m\u001b[97;49m═\u001b[39;49m\u001b[97;49m═\u001b[39;49m\u001b[97;49m═\u001b[39;49m\u001b[97;49m═\u001b[39;49m\u001b[97;49m═\u001b[39;49m\n",
      " 1.80e+00 _\u001b[90;40m█\u001b[39;49m\u001b[90;40m█\u001b[39;49m\u001b[90;40m█\u001b[39;49m\u001b[90;40m█\u001b[39;49m\u001b[90;40m█\u001b[39;49m\u001b[90;40m█\u001b[39;49m\u001b[90;40m█\u001b[39;49m\u001b[90;40m█\u001b[39;49m\u001b[90;40m█\u001b[39;49m\u001b[90;40m█\u001b[39;49m\u001b[97;49m═\u001b[39;49m\u001b[97;49m═\u001b[39;49m\u001b[97;49m═\u001b[39;49m\u001b[97;49m═\u001b[39;49m\u001b[97;49m═\u001b[39;49m\u001b[97;49m═\u001b[39;49m\n",
      " 2.00e+00 _\u001b[90;40m█\u001b[39;49m\u001b[90;40m█\u001b[39;49m\u001b[90;40m█\u001b[39;49m\u001b[90;40m█\u001b[39;49m\u001b[90;40m█\u001b[39;49m\u001b[90;40m█\u001b[39;49m\u001b[90;40m█\u001b[39;49m\u001b[90;40m█\u001b[39;49m\u001b[97;49m═\u001b[39;49m\u001b[97;49m═\u001b[39;49m\u001b[97;49m═\u001b[39;49m\u001b[97;49m═\u001b[39;49m\u001b[97;49m═\u001b[39;49m\u001b[97;49m═\u001b[39;49m\u001b[97;49m═\u001b[39;49m\n",
      " 2.20e+00 _\u001b[90;40m█\u001b[39;49m\u001b[90;40m█\u001b[39;49m\u001b[90;40m█\u001b[39;49m\u001b[90;40m█\u001b[39;49m\u001b[90;40m█\u001b[39;49m\u001b[90;40m█\u001b[39;49m\u001b[90;40m█\u001b[39;49m\u001b[90;40m█\u001b[39;49m\u001b[90;40m█\u001b[39;49m\u001b[90;40m█\u001b[39;49m\u001b[90;40m█\u001b[39;49m\u001b[97;49m│\u001b[39;49m\u001b[97;49m═\u001b[39;49m\u001b[97;49m═\u001b[39;49m\u001b[97;49m═\u001b[39;49m\u001b[97;49m═\u001b[39;49m\n",
      " 2.40e+00 _\u001b[90;40m█\u001b[39;49m\u001b[90;40m█\u001b[39;49m\u001b[90;40m█\u001b[39;49m\u001b[90;40m█\u001b[39;49m\u001b[90;40m█\u001b[39;49m\u001b[90;40m█\u001b[39;49m\u001b[90;40m█\u001b[39;49m\u001b[90;40m█\u001b[39;49m\u001b[90;40m█\u001b[39;49m\u001b[97;49m│\u001b[39;49m\n",
      " 2.60e+00 _\u001b[90;40m█\u001b[39;49m\u001b[90;40m█\u001b[39;49m\u001b[90;40m█\u001b[39;49m\u001b[90;40m█\u001b[39;49m\u001b[90;40m█\u001b[39;49m\u001b[90;40m█\u001b[39;49m\u001b[90;40m█\u001b[39;49m\u001b[90;40m█\u001b[39;49m\u001b[90;40m█\u001b[39;49m\u001b[97;49m│\u001b[39;49m\n",
      " 2.80e+00 _\u001b[90;40m█\u001b[39;49m\u001b[90;40m█\u001b[39;49m\u001b[90;40m█\u001b[39;49m\u001b[90;40m█\u001b[39;49m\u001b[90;40m█\u001b[39;49m\u001b[90;40m█\u001b[39;49m\u001b[90;40m█\u001b[39;49m\u001b[97;49m│\u001b[39;49m\n",
      " 3.00e+00 _\u001b[90;40m█\u001b[39;49m\u001b[90;40m█\u001b[39;49m\u001b[90;40m█\u001b[39;49m\u001b[90;40m█\u001b[39;49m\u001b[90;40m█\u001b[39;49m\u001b[90;40m█\u001b[39;49m\n",
      " 3.20e+00 _\u001b[90;40m█\u001b[39;49m\u001b[90;40m█\u001b[39;49m\u001b[90;40m█\u001b[39;49m\u001b[90;40m█\u001b[39;49m\u001b[90;40m█\u001b[39;49m\u001b[90;40m█\u001b[39;49m\u001b[90;40m█\u001b[39;49m\u001b[90;40m█\u001b[39;49m\u001b[90;40m█\u001b[39;49m\n",
      " 3.40e+00 _\u001b[90;40m█\u001b[39;49m\u001b[90;40m█\u001b[39;49m\u001b[90;40m█\u001b[39;49m\u001b[90;40m█\u001b[39;49m\u001b[90;40m█\u001b[39;49m\u001b[90;40m█\u001b[39;49m\u001b[90;40m█\u001b[39;49m\u001b[90;40m█\u001b[39;49m\u001b[90;40m█\u001b[39;49m\u001b[90;40m█\u001b[39;49m\u001b[90;40m█\u001b[39;49m\u001b[90;40m█\u001b[39;49m\u001b[90;40m█\u001b[39;49m\n",
      " 3.60e+00 _\u001b[90;40m█\u001b[39;49m\u001b[90;40m█\u001b[39;49m\u001b[90;40m█\u001b[39;49m\u001b[90;40m█\u001b[39;49m\u001b[90;40m█\u001b[39;49m\u001b[90;40m█\u001b[39;49m\u001b[90;40m█\u001b[39;49m\u001b[90;40m█\u001b[39;49m\u001b[90;40m█\u001b[39;49m\u001b[90;40m█\u001b[39;49m\n",
      " 3.80e+00 _\u001b[90;40m█\u001b[39;49m\u001b[90;40m█\u001b[39;49m\u001b[90;40m█\u001b[39;49m\u001b[90;40m█\u001b[39;49m\u001b[90;40m█\u001b[39;49m\u001b[90;40m█\u001b[39;49m\u001b[90;40m█\u001b[39;49m\u001b[90;40m█\u001b[39;49m\n",
      " 4.00e+00 _\u001b[90;40m█\u001b[39;49m\u001b[90;40m█\u001b[39;49m\u001b[90;40m█\u001b[39;49m\u001b[90;40m█\u001b[39;49m\u001b[90;40m█\u001b[39;49m\u001b[90;40m█\u001b[39;49m\n",
      " 4.20e+00 _\u001b[90;40m█\u001b[39;49m\u001b[90;40m█\u001b[39;49m\u001b[90;40m█\u001b[39;49m\u001b[90;40m█\u001b[39;49m\u001b[90;40m█\u001b[39;49m\u001b[90;40m█\u001b[39;49m\u001b[90;40m█\u001b[39;49m\n",
      " 4.40e+00 _\u001b[90;40m█\u001b[39;49m\u001b[90;40m█\u001b[39;49m\u001b[90;40m█\u001b[39;49m\u001b[90;40m█\u001b[39;49m\u001b[90;40m█\u001b[39;49m\u001b[90;40m█\u001b[39;49m\u001b[90;40m█\u001b[39;49m\u001b[90;40m█\u001b[39;49m\u001b[90;40m█\u001b[39;49m\n",
      " 4.60e+00 _\u001b[90;40m█\u001b[39;49m\u001b[90;40m█\u001b[39;49m\u001b[90;40m█\u001b[39;49m\u001b[90;40m█\u001b[39;49m\u001b[90;40m█\u001b[39;49m\n",
      " 4.80e+00 _\u001b[90;40m█\u001b[39;49m\u001b[90;40m█\u001b[39;49m\u001b[90;40m█\u001b[39;49m\n",
      " 5.00e+00 _\u001b[90;40m█\u001b[39;49m\u001b[90;40m█\u001b[39;49m\n"
     ]
    }
   ],
   "source": [
    "s.show(columns=50)"
   ]
  },
  {
   "cell_type": "markdown",
   "id": "be7a7b2a-4c88-4bb6-bc3f-4c0add90c981",
   "metadata": {},
   "source": [
    "## Build via A Category Axis"
   ]
  },
  {
   "cell_type": "markdown",
   "id": "22661219-2599-4bcc-9dce-7082d331ea4f",
   "metadata": {},
   "source": [
    "You can also build a histogram stack from a 2-D histogram's Category axis (`IntCat`, `StrCat`), for example,"
   ]
  },
  {
   "cell_type": "code",
   "execution_count": 4,
   "id": "4004cc28-b712-46d9-baa4-7168b08527d3",
   "metadata": {},
   "outputs": [
    {
     "data": {
      "image/png": "[encoded data removed]",
      "text/plain": [
       "<Figure size 432x288 with 1 Axes>"
      ]
     },
     "metadata": {
      "needs_background": "light"
     },
     "output_type": "display_data"
    }
   ],
   "source": [
    "h = (\n",
    "    Hist.new.Reg(50, -5, 5, name=\"x\")\n",
    "    .StrCat([\"good\", \"bad\"], name=\"quality\")\n",
    "    .Double()\n",
    "    .fill(x=np.random.randn(100), quality=[\"good\", \"good\", \"good\", \"good\", \"bad\"] * 20)\n",
    ")\n",
    "\n",
    "# Turn an existin axis into a stack\n",
    "s = h.stack(\"quality\")\n",
    "s[::-1].plot(stack=True, histtype=\"fill\", color=[\"indianred\", \"steelblue\"], alpha=0.8)\n",
    "plt.show()"
   ]
  },
  {
   "cell_type": "markdown",
   "id": "5e392951-033f-44eb-bf18-5928afcae370",
   "metadata": {},
   "source": [
    "The histograms in this kind of stack can have names. The names of histograms are the categories, which are corresponding profiled histograms:"
   ]
  },
  {
   "cell_type": "code",
   "execution_count": 5,
   "id": "d5a0e342-7d73-4c04-b5ce-5faf87166e73",
   "metadata": {},
   "outputs": [
    {
     "name": "stdout",
     "output_type": "stream",
     "text": [
      "good\n"
     ]
    },
    {
     "data": {
      "text/html": [
       "<html>\n",
       "<div style=\"display:flex; align-items:center;\">\n",
       "<div style=\"width:290px;\">\n",
       "<svg xmlns=\"http://www.w3.org/2000/svg\" viewBox=\"-10 -105 270 120\">\n",
       "<line x1=\"-5\" y1=\"0\" x2=\"255\" y2=\"0\" style=\"fill:none;stroke-width:2;stroke:currentColor\"/>\n",
       "<text text-anchor=\"middle\" x=\"0\" y=\"15\" style=\"fill:currentColor;\">\n",
       "-5\n",
       "</text>\n",
       "<text text-anchor=\"middle\" x=\"250\" y=\"15\" style=\"fill:currentColor;\">\n",
       "5\n",
       "</text>\n",
       "<text text-anchor=\"middle\" x=\"125.0\" y=\"15\" style=\"fill:currentColor;\">\n",
       "x\n",
       "</text>\n",
       "<polyline points=\"  0,0   0,-0   5,-0   5,-0  10,-0  10,-0  15,-0  15,-0  20,-0  20,-0  25,-0  25,-0  30,-0  30,-0  35,-0  35,-0  40,-0  40,-0  45,-0  45,-0  50,-0  50,-0  55,-0  55,-0  60,-0  60,-0  65,-0  65,-10  70,-10  70,-0  75,-0  75,-10  80,-10  80,-10  85,-10  85,-20  90,-20  90,-40  95,-40  95,-40 100,-40 100,-30 105,-30 105,-30 110,-30 110,-70 115,-70 115,-80 120,-80 120,-50 125,-50 125,-60 130,-60 130,-100 135,-100 135,-50 140,-50 140,-40 145,-40 145,-60 150,-60 150,-50 155,-50 155,-10 160,-10 160,-0 165,-0 165,-20 170,-20 170,-20 175,-20 175,-0 180,-0 180,-0 185,-0 185,-0 190,-0 190,-0 195,-0 195,-0 200,-0 200,-0 205,-0 205,-0 210,-0 210,-0 215,-0 215,-0 220,-0 220,-0 225,-0 225,-0 230,-0 230,-0 235,-0 235,-0 240,-0 240,-0 245,-0 245,-0 250,-0 250,0\" style=\"fill:none; stroke:currentColor;\"/>\n",
       "</svg>\n",
       "</div>\n",
       "<div style=\"flex=grow:1;\">\n",
       "Regular(50, -5, 5, name='x', label='x')<br/>\n",
       "<hr style=\"margin-top:.2em; margin-bottom:.2em;\"/>\n",
       "Double() Σ=80.0\n",
       "\n",
       "</div>\n",
       "</div>\n",
       "</html>"
      ],
      "text/plain": [
       "Hist(Regular(50, -5, 5, name='x', label='x'), storage=Double()) # Sum: 80.0"
      ]
     },
     "execution_count": 5,
     "metadata": {},
     "output_type": "execute_result"
    }
   ],
   "source": [
    "print(s[0].name)\n",
    "s[0]"
   ]
  },
  {
   "cell_type": "code",
   "execution_count": 6,
   "id": "c3f81b2c-9bb9-4e98-acb2-5238960e9812",
   "metadata": {},
   "outputs": [
    {
     "name": "stdout",
     "output_type": "stream",
     "text": [
      "bad\n"
     ]
    },
    {
     "data": {
      "text/html": [
       "<html>\n",
       "<div style=\"display:flex; align-items:center;\">\n",
       "<div style=\"width:290px;\">\n",
       "<svg xmlns=\"http://www.w3.org/2000/svg\" viewBox=\"-10 -105 270 120\">\n",
       "<line x1=\"-5\" y1=\"0\" x2=\"255\" y2=\"0\" style=\"fill:none;stroke-width:2;stroke:currentColor\"/>\n",
       "<text text-anchor=\"middle\" x=\"0\" y=\"15\" style=\"fill:currentColor;\">\n",
       "-5\n",
       "</text>\n",
       "<text text-anchor=\"middle\" x=\"250\" y=\"15\" style=\"fill:currentColor;\">\n",
       "5\n",
       "</text>\n",
       "<text text-anchor=\"middle\" x=\"125.0\" y=\"15\" style=\"fill:currentColor;\">\n",
       "x\n",
       "</text>\n",
       "<polyline points=\"  0,0   0,-0   5,-0   5,-0  10,-0  10,-0  15,-0  15,-0  20,-0  20,-0  25,-0  25,-0  30,-0  30,-0  35,-0  35,-0  40,-0  40,-0  45,-0  45,-0  50,-0  50,-0  55,-0  55,-0  60,-0  60,-0  65,-0  65,-0  70,-0  70,-0  75,-0  75,-50  80,-50  80,-0  85,-0  85,-0  90,-0  90,-50  95,-50  95,-0 100,-0 100,-50 105,-50 105,-25 110,-25 110,-0 115,-0 115,-25 120,-25 120,-50 125,-50 125,-25 130,-25 130,-75 135,-75 135,-0 140,-0 140,-100 145,-100 145,-25 150,-25 150,-25 155,-25 155,-0 160,-0 160,-0 165,-0 165,-0 170,-0 170,-0 175,-0 175,-0 180,-0 180,-0 185,-0 185,-0 190,-0 190,-0 195,-0 195,-0 200,-0 200,-0 205,-0 205,-0 210,-0 210,-0 215,-0 215,-0 220,-0 220,-0 225,-0 225,-0 230,-0 230,-0 235,-0 235,-0 240,-0 240,-0 245,-0 245,-0 250,-0 250,0\" style=\"fill:none; stroke:currentColor;\"/>\n",
       "</svg>\n",
       "</div>\n",
       "<div style=\"flex=grow:1;\">\n",
       "Regular(50, -5, 5, name='x', label='x')<br/>\n",
       "<hr style=\"margin-top:.2em; margin-bottom:.2em;\"/>\n",
       "Double() Σ=20.0\n",
       "\n",
       "</div>\n",
       "</div>\n",
       "</html>"
      ],
      "text/plain": [
       "Hist(Regular(50, -5, 5, name='x', label='x'), storage=Double()) # Sum: 20.0"
      ]
     },
     "execution_count": 6,
     "metadata": {},
     "output_type": "execute_result"
    }
   ],
   "source": [
    "print(s[1].name)\n",
    "s[1]"
   ]
  }
 ],
 "metadata": {
  "kernelspec": {
   "display_name": "hist",
   "language": "python",
   "name": "hist"
  },
  "language_info": {
   "codemirror_mode": {
    "name": "ipython",
    "version": 3
   },
   "file_extension": ".py",
   "mimetype": "text/x-python",
   "name": "python",
   "nbconvert_exporter": "python",
   "pygments_lexer": "ipython3",
   "version": "3.9.6"
  }
 },
 "nbformat": 4,
 "nbformat_minor": 5
}
