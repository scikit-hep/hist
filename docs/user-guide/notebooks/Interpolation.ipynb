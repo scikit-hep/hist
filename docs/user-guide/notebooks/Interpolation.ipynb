{
 "cells": [
  {
   "cell_type": "markdown",
   "source": [
    "# Interpolation\n",
    "\n",
    "## Via SciPy\n",
    "\n",
    "We can perform interpolation in Hist using SciPy."
   ],
   "metadata": {}
  },
  {
   "cell_type": "code",
   "execution_count": null,
   "source": [
    "# Make the necessary imports.\n",
    "\n",
    "from scipy import interpolate\n",
    "from hist import Hist, axis\n",
    "import matplotlib.pyplot as plt\n",
    "import numpy as np"
   ],
   "outputs": [],
   "metadata": {}
  },
  {
   "cell_type": "code",
   "execution_count": null,
   "source": [
    "# We obtain evenly spaced numbers over the specified interval.\n",
    "x = np.linspace(-27, 27, num=41, endpoint=True)\n",
    "\n",
    "# Define a Histo object and fill it.\n",
    "h = Hist.new.Reg(10, -30, 30).Double()\n",
    "centers = h.axes[0].centers\n",
    "weights = np.cos(-(centers ** 2) / 9.0) ** 2\n",
    "h.fill(centers, weight=weights)"
   ],
   "outputs": [],
   "metadata": {}
  },
  {
   "cell_type": "markdown",
   "source": [
    "### Linear 1-D\n",
    "\n",
    "We can obtain a linear interpolation by passion the `kind=\"linear\"` argument in [interpolate.interp1d()](https://docs.scipy.org/doc/scipy/reference/generated/scipy.interpolate.interp1d.html)."
   ],
   "metadata": {}
  },
  {
   "cell_type": "code",
   "execution_count": null,
   "source": [
    "linear_interp = interpolate.interp1d(h.axes[0].centers, h.values(), kind=\"linear\")"
   ],
   "outputs": [],
   "metadata": {}
  },
  {
   "cell_type": "code",
   "execution_count": null,
   "source": [
    "h.plot()\n",
    "plt.plot(h.axes[0].centers, h.values(), \"o\", x, linear_interp(x), \"-.\")\n",
    "plt.show()"
   ],
   "outputs": [],
   "metadata": {}
  },
  {
   "cell_type": "markdown",
   "source": [
    "### Cubic 1-D\n",
    "\n",
    "We can obtain a cubic interpolation by passion the `kind=\"cubic\"` argument in [interpolate.interp1d()](https://docs.scipy.org/doc/scipy/reference/generated/scipy.interpolate.interp1d.html)."
   ],
   "metadata": {}
  },
  {
   "cell_type": "code",
   "execution_count": null,
   "source": [
    "cubic_interp = interpolate.interp1d(h.axes[0].centers, h.values(), kind=\"cubic\")"
   ],
   "outputs": [],
   "metadata": {}
  },
  {
   "cell_type": "code",
   "execution_count": null,
   "source": [
    "h.plot()\n",
    "plt.plot(h.axes[0].centers, h.values(), \"o\", x, cubic_interp(x), \"--\")\n",
    "plt.show()"
   ],
   "outputs": [],
   "metadata": {}
  },
  {
   "cell_type": "markdown",
   "source": [
    "We can also plot them both together to compare the interpolations."
   ],
   "metadata": {}
  },
  {
   "cell_type": "code",
   "execution_count": null,
   "source": [
    "h.plot()\n",
    "plt.plot(\n",
    "    h.axes[0].centers,\n",
    "    h.values(),\n",
    "    \"o\",\n",
    "    x,\n",
    "    linear_interp(x),\n",
    "    \"-.\",\n",
    "    x,\n",
    "    cubic_interp(x),\n",
    "    \"--\",\n",
    ")\n",
    "plt.show()"
   ],
   "outputs": [],
   "metadata": {}
  }
 ],
 "metadata": {
  "kernelspec": {
   "display_name": "hist",
   "language": "python",
   "name": "hist"
  },
  "language_info": {
   "codemirror_mode": {
    "name": "ipython",
    "version": 3
   },
   "file_extension": ".py",
   "mimetype": "text/x-python",
   "name": "python",
   "nbconvert_exporter": "python",
   "pygments_lexer": "ipython3",
   "version": "3.9.6"
  }
 },
 "nbformat": 4,
 "nbformat_minor": 5
}
