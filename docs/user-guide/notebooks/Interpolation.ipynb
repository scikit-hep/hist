{
 "cells": [
  {
   "cell_type": "markdown",
   "id": "d201a666",
   "metadata": {},
   "source": [
    "# Interpolation\n",
    "\n",
    "## Via SciPy\n",
    "\n",
    "We can perform interpolation in Hist using SciPy."
   ]
  },
  {
   "cell_type": "code",
   "execution_count": null,
   "id": "6d3cc20c",
   "metadata": {},
   "outputs": [],
   "source": [
    "# Make the necessary imports.\n",
    "import matplotlib.pyplot as plt\n",
    "import numpy as np\n",
    "from scipy import interpolate\n",
    "\n",
    "from hist import Hist"
   ]
  },
  {
   "cell_type": "code",
   "execution_count": null,
   "id": "c960dff2",
   "metadata": {},
   "outputs": [],
   "source": [
    "# We obtain evenly spaced numbers over the specified interval.\n",
    "x = np.linspace(-27, 27, num=250, endpoint=True)\n",
    "\n",
    "# Define a Hist object and fill it.\n",
    "h = Hist.new.Reg(10, -30, 30).Double()\n",
    "centers = h.axes[0].centers\n",
    "weights = np.cos(-(centers**2) / 9.0) ** 2\n",
    "h.fill(centers, weight=weights)"
   ]
  },
  {
   "cell_type": "markdown",
   "id": "361f0b75",
   "metadata": {},
   "source": [
    "### Linear 1-D\n",
    "\n",
    "We can obtain a linear interpolation by passion the `kind=\"linear\"` argument in [interpolate.interp1d()](https://docs.scipy.org/doc/scipy/reference/generated/scipy.interpolate.interp1d.html)."
   ]
  },
  {
   "cell_type": "code",
   "execution_count": null,
   "id": "92d7ddb0",
   "metadata": {},
   "outputs": [],
   "source": [
    "linear_interp = interpolate.interp1d(h.axes[0].centers, h.values(), kind=\"linear\")"
   ]
  },
  {
   "cell_type": "code",
   "execution_count": null,
   "id": "6d13794c",
   "metadata": {},
   "outputs": [],
   "source": [
    "h.plot()  # Plot the histogram\n",
    "plt.plot(h.axes[0].centers, h.values(), \"o\")  # Mark the bin centers\n",
    "plt.plot(x, linear_interp(x), \"-.\")  # Plot the Linear interpolation\n",
    "plt.show()"
   ]
  },
  {
   "cell_type": "markdown",
   "id": "bf7ee09c",
   "metadata": {},
   "source": [
    "### Cubic 1-D\n",
    "\n",
    "We can obtain a cubic interpolation by passion the `kind=\"cubic\"` argument in [interpolate.interp1d()](https://docs.scipy.org/doc/scipy/reference/generated/scipy.interpolate.interp1d.html)."
   ]
  },
  {
   "cell_type": "code",
   "execution_count": null,
   "id": "b0626c6f",
   "metadata": {},
   "outputs": [],
   "source": [
    "cubic_interp = interpolate.interp1d(h.axes[0].centers, h.values(), kind=\"cubic\")"
   ]
  },
  {
   "cell_type": "code",
   "execution_count": null,
   "id": "4c982244",
   "metadata": {},
   "outputs": [],
   "source": [
    "h.plot()  # Plot the histogram\n",
    "plt.plot(h.axes[0].centers, h.values(), \"o\")  # Mark the bin centers\n",
    "plt.plot(x, cubic_interp(x), \"--\")  # Plot the Cubic interpolation\n",
    "plt.show()"
   ]
  },
  {
   "cell_type": "markdown",
   "id": "2cdadbae",
   "metadata": {},
   "source": [
    "We can also plot them both together to compare the interpolations."
   ]
  },
  {
   "cell_type": "code",
   "execution_count": null,
   "id": "d7fd69f6",
   "metadata": {},
   "outputs": [],
   "source": [
    "h.plot()  # Plot the histogram\n",
    "plt.plot(h.axes[0].centers, h.values(), \"o\")  # Mark the bin centers\n",
    "plt.plot(x, linear_interp(x), \"-.\")  # Plot the Linear interpolation\n",
    "plt.plot(x, cubic_interp(x), \"--\")  # Plot the Cubic interpolation\n",
    "plt.show()"
   ]
  }
 ],
 "metadata": {
  "kernelspec": {
   "display_name": "hist",
   "language": "python",
   "name": "hist"
  },
  "language_info": {
   "codemirror_mode": {
    "name": "ipython",
    "version": 3
   },
   "file_extension": ".py",
   "mimetype": "text/x-python",
   "name": "python",
   "nbconvert_exporter": "python",
   "pygments_lexer": "ipython3",
   "version": "3.9.6"
  }
 },
 "nbformat": 4,
 "nbformat_minor": 5
}
