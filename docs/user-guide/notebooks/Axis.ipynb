{
 "cells": [
  {
   "cell_type": "markdown",
   "metadata": {},
   "source": [
    "# Axis\n"
   ]
  },
  {
   "cell_type": "markdown",
   "metadata": {},
   "source": [
    "## Axis Types\n",
    "\n",
    "Based on [boost-histogram](https://github.com/scikit-hep/boost-histogram)'s Axis, hist support six types of axis, `Regular`, `Boolean`, `Variable`, `Integer`, `IntCategory` and `StrCategory` with additional names and labels. \n",
    "\n",
    "Names are pretty useful for some histogramming shortcuts, thus greatly facilitate HEP's studies. Note that the name is the identifier for an axis in a histogram and must be unique."
   ]
  },
  {
   "cell_type": "code",
   "execution_count": null,
   "metadata": {},
   "outputs": [],
   "source": [
    "import hist\n",
    "from hist import Hist"
   ]
  },
  {
   "cell_type": "code",
   "execution_count": null,
   "metadata": {},
   "outputs": [],
   "source": [
    "axis0 = hist.axis.Regular(10, -5, 5, overflow=False, underflow=False, name=\"A\")\n",
    "axis1 = hist.axis.Boolean(name=\"B\")\n",
    "axis2 = hist.axis.Variable(range(10), name=\"C\")\n",
    "axis3 = hist.axis.Integer(-5, 5, overflow=False, underflow=False, name=\"D\")\n",
    "axis4 = hist.axis.IntCategory(range(10), name=\"E\")\n",
    "axis5 = hist.axis.StrCategory([\"T\", \"F\"], name=\"F\")"
   ]
  },
  {
   "cell_type": "markdown",
   "metadata": {},
   "source": [
    "## Histogram's Axis\n",
    "\n",
    "Histogram is consisted with various axes, there are two ways to create a histogram, currently. You can either fill a histogram object with axes or add axes to a histogram object. You cannot add axes to an existing histogram. *Note that to distinguish these two method, the second way has different axis type names (abbr.).*"
   ]
  },
  {
   "cell_type": "code",
   "execution_count": null,
   "metadata": {},
   "outputs": [],
   "source": [
    "# fill the axes\n",
    "h = Hist(axis0, axis1, axis2, axis3, axis4, axis5)"
   ]
  },
  {
   "cell_type": "code",
   "execution_count": null,
   "metadata": {},
   "outputs": [],
   "source": [
    "# add the axes using the shortcut method\n",
    "h = (\n",
    "    Hist.new.Reg(10, -5, 5, overflow=False, underflow=False, name=\"A\")\n",
    "    .Bool(name=\"B\")\n",
    "    .Var(range(10), name=\"C\")\n",
    "    .Int(-5, 5, overflow=False, underflow=False, name=\"D\")\n",
    "    .IntCat(range(10), name=\"E\")\n",
    "    .StrCat([\"T\", \"F\"], name=\"F\")\n",
    "    .Double()\n",
    ")"
   ]
  },
  {
   "cell_type": "markdown",
   "metadata": {},
   "source": [
    "Hist adds a new `flow=False` shortcut to axes that take `underflow` and `overflow`."
   ]
  },
  {
   "cell_type": "markdown",
   "metadata": {},
   "source": [
    "AxesTuple is a new feature since boost-histogram 0.8.0, which provides you free access to axis properties in a histogram."
   ]
  },
  {
   "cell_type": "code",
   "execution_count": null,
   "metadata": {},
   "outputs": [],
   "source": [
    "assert h.axes[0].name == axis0.name\n",
    "assert h.axes[1].label == axis1.name  # label will be returned as name if not provided\n",
    "assert all(h.axes[2].widths == axis2.widths)\n",
    "assert all(h.axes[3].edges == axis3.edges)\n",
    "assert h.axes[4].metadata == axis4.metadata\n",
    "assert all(h.axes[5].centers == axis5.centers)"
   ]
  }
 ],
 "metadata": {
  "kernelspec": {
   "display_name": "hist",
   "language": "python",
   "name": "hist"
  },
  "language_info": {
   "codemirror_mode": {
    "name": "ipython",
    "version": 3
   },
   "file_extension": ".py",
   "mimetype": "text/x-python",
   "name": "python",
   "nbconvert_exporter": "python",
   "pygments_lexer": "ipython3",
   "version": "3.9.4"
  }
 },
 "nbformat": 4,
 "nbformat_minor": 4
}
