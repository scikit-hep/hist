{
 "cells": [
  {
   "cell_type": "markdown",
   "metadata": {},
   "source": [
    "# Storage\n",
    "\n",
    "```warning\n",
    "The hist package is still under active development, the usage and contents are in flux.\n",
    "```"
   ]
  },
  {
   "cell_type": "markdown",
   "metadata": {},
   "source": [
    "Based on [boost-histogram](https://github.com/scikit-hep/boost-histogram)'s Storage, hist supports seven storage types, `Double`, `Int64`, `AutomicInt64`, `Weight`, `Mean`, `WeightedMean` and `Unlimited`."
   ]
  },
  {
   "cell_type": "markdown",
   "metadata": {},
   "source": [
    "## Histogram's Storage\n",
    "\n",
    "You can use boost-histogram's Storage in hist. For example,"
   ]
  },
  {
   "cell_type": "code",
   "execution_count": null,
   "metadata": {},
   "outputs": [],
   "source": [
    "from hist import Hist\n",
    "import hist"
   ]
  },
  {
   "cell_type": "code",
   "execution_count": null,
   "metadata": {},
   "outputs": [],
   "source": [
    "# Int64 Storage\n",
    "h = Hist(hist.axis.Regular(10, -5, 5, name=\"x\"), storage=hist.storage.Int64())\n",
    "h.fill([1.5, 2.5, 2.5, 2.5])\n",
    "\n",
    "print(h[1.5j])\n",
    "print(h[2.5j])"
   ]
  },
  {
   "cell_type": "code",
   "execution_count": null,
   "metadata": {},
   "outputs": [],
   "source": [
    "# Double Storage\n",
    "h = Hist(hist.axis.Regular(10, -5, 5, name=\"x\"), storage=hist.storage.Double())\n",
    "h.fill([1.5, 2.5], weight=[0.5, 1.5])\n",
    "\n",
    "print(h[1.5j])\n",
    "print(h[2.5j])"
   ]
  },
  {
   "cell_type": "markdown",
   "metadata": {},
   "source": [
    "Keeping the original features of boost-histogram's Storage, hist gives dynamic shortcuts of Storage Proxy. You can add Storage types after adding the axes."
   ]
  },
  {
   "cell_type": "code",
   "execution_count": null,
   "metadata": {},
   "outputs": [],
   "source": [
    "# Int64 Storage\n",
    "h = Hist.new.Reg(10, 0, 1, name=\"x\").Int64().fill([0.5, 0.5])\n",
    "\n",
    "print(h[0.5j])"
   ]
  },
  {
   "cell_type": "code",
   "execution_count": null,
   "metadata": {},
   "outputs": [],
   "source": [
    "# Double Storage\n",
    "h = (\n",
    "    Hist.new.Reg(10, 0, 1, name=\"x\")\n",
    "    .Reg(10, 0, 1, name=\"y\")\n",
    "    .Double()\n",
    "    .fill(x=[0.5, 0.5], y=[0.2, 0.6])\n",
    ")\n",
    "\n",
    "print(h[0.5j, 0.2j])\n",
    "print(h[0.5j, 0.6j])"
   ]
  }
 ],
 "metadata": {
  "kernelspec": {
   "display_name": "hist",
   "language": "python",
   "name": "hist"
  },
  "language_info": {
   "codemirror_mode": {
    "name": "ipython",
    "version": 3
   },
   "file_extension": ".py",
   "mimetype": "text/x-python",
   "name": "python",
   "nbconvert_exporter": "python",
   "pygments_lexer": "ipython3",
   "version": "3.9.4"
  }
 },
 "nbformat": 4,
 "nbformat_minor": 4
}
