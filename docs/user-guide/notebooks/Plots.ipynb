{
 "cells": [
  {
   "cell_type": "markdown",
   "metadata": {},
   "source": [
    "# Plots"
   ]
  },
  {
   "cell_type": "markdown",
   "metadata": {},
   "source": [
    "One of the most amazing feature of hist is it's powerful plotting family. Here you can see how to plot Hist."
   ]
  },
  {
   "cell_type": "code",
   "execution_count": null,
   "metadata": {},
   "outputs": [],
   "source": [
    "from hist import Hist\n",
    "import hist"
   ]
  },
  {
   "cell_type": "code",
   "execution_count": null,
   "metadata": {},
   "outputs": [],
   "source": [
    "h = Hist(\n",
    "    hist.axis.Regular(50, -5, 5, name=\"S\", label=\"s [units]\", flow=False),\n",
    "    hist.axis.Regular(50, -5, 5, name=\"W\", label=\"w [units]\", flow=False),\n",
    ")"
   ]
  },
  {
   "cell_type": "code",
   "execution_count": null,
   "metadata": {},
   "outputs": [],
   "source": [
    "import numpy as np\n",
    "\n",
    "s_data = np.random.normal(size=100_000) + np.ones(100_000)\n",
    "w_data = np.random.normal(size=100_000)\n",
    "\n",
    "# normal fill\n",
    "h.fill(s_data, w_data)"
   ]
  },
  {
   "cell_type": "markdown",
   "metadata": {},
   "source": [
    "## Via Matplotlib\n",
    "\n",
    "hist allows you to plot via [Matplotlib](https://matplotlib.org/) like this:"
   ]
  },
  {
   "cell_type": "code",
   "execution_count": null,
   "metadata": {},
   "outputs": [],
   "source": [
    "import matplotlib.pyplot as plt"
   ]
  },
  {
   "cell_type": "code",
   "execution_count": null,
   "metadata": {},
   "outputs": [],
   "source": [
    "fig, ax = plt.subplots(figsize=(8, 5))\n",
    "w, x, y = h.to_numpy()\n",
    "mesh = ax.pcolormesh(x, y, w.T, cmap=\"RdYlBu\")\n",
    "ax.set_xlabel(\"s\")\n",
    "ax.set_ylabel(\"w\")\n",
    "fig.colorbar(mesh)\n",
    "plt.show()"
   ]
  },
  {
   "cell_type": "markdown",
   "metadata": {},
   "source": [
    "## Via Mplhep\n",
    "\n",
    "[mplhep](https://github.com/scikit-hep/mplhep) is an important visualization tools in Scikit-Hep ecosystem. hist has integrate with mplhep and you can also plot using it. If you want more info about mplhep please visit the official repo to see it."
   ]
  },
  {
   "cell_type": "code",
   "execution_count": null,
   "metadata": {},
   "outputs": [],
   "source": [
    "import mplhep\n",
    "\n",
    "fig, axs = plt.subplots(1, 2, figsize=(9, 4))\n",
    "mplhep.histplot(h.project(\"S\"), ax=axs[0])\n",
    "\n",
    "mplhep.hist2dplot(h, ax=axs[1])\n",
    "\n",
    "plt.show()"
   ]
  },
  {
   "cell_type": "markdown",
   "metadata": {},
   "source": [
    "## Via Plot\n",
    "\n",
    "Hist has plotting methods for 1-D and 2-D histograms, `.plot1d()` and `.plot2d()` respectively. It also provides `.plot()` for plotting according to the its dimension. Moreover, to show the projection of each axis, you can use `.plot2d_full()`. If you have a Hist with higher dimension, you can use `.project()` to extract two dimensions to see it with our plotting suite.\n",
    "\n",
    "Our plotting methods are all based on Matplotlib, so you can pass Matplotlib's `ax` into it, and hist will draw on it. We will create it for you if you do not pass them in."
   ]
  },
  {
   "cell_type": "code",
   "execution_count": null,
   "metadata": {},
   "outputs": [],
   "source": [
    "# plot1d\n",
    "fig, ax = plt.subplots(figsize=(6, 4))\n",
    "\n",
    "\n",
    "h.project(\"S\").plot1d(ax=ax, ls=\"--\", color=\"teal\", lw=3)\n",
    "plt.show()"
   ]
  },
  {
   "cell_type": "code",
   "execution_count": null,
   "metadata": {},
   "outputs": [],
   "source": [
    "# plot2d\n",
    "fig, ax = plt.subplots(figsize=(6, 6))\n",
    "\n",
    "h.plot2d(ax=ax, cmap=\"plasma\")\n",
    "plt.show()"
   ]
  },
  {
   "cell_type": "code",
   "execution_count": null,
   "metadata": {},
   "outputs": [],
   "source": [
    "# plot2d_full\n",
    "plt.figure(figsize=(8, 8))\n",
    "\n",
    "h.plot2d_full(\n",
    "    main_cmap=\"coolwarm\",\n",
    "    top_ls=\"--\",\n",
    "    top_color=\"orange\",\n",
    "    top_lw=2,\n",
    "    side_ls=\":\",\n",
    "    side_lw=2,\n",
    "    side_color=\"steelblue\",\n",
    ")\n",
    "\n",
    "plt.show()"
   ]
  },
  {
   "cell_type": "code",
   "execution_count": null,
   "metadata": {},
   "outputs": [],
   "source": [
    "# auto-plot\n",
    "fig, axs = plt.subplots(1, 2, figsize=(9, 4), gridspec_kw={\"width_ratios\": [5, 4]})\n",
    "\n",
    "\n",
    "h.project(\"W\").plot(ax=axs[0], color=\"darkviolet\", lw=2, ls=\"-.\")\n",
    "h.project(\"W\", \"S\").plot(ax=axs[1], cmap=\"cividis\")\n",
    "\n",
    "plt.show()"
   ]
  },
  {
   "cell_type": "markdown",
   "metadata": {},
   "source": [
    "## Via Plot Pull\n",
    "\n",
    "Pull plots are commonly used in HEP studies, and we provide a method for them with `.plot_pull()`, which accepts a `Callable` object, like the below `pdf` function, which is then fit to the histogram and the fit and pulls are shown on the plot. As Normal distributions are the generally desired function to fit the histogram data, the `str` aliases `\"normal\"`, `\"gauss\"`, and `\"gaus\"` are supported as well."
   ]
  },
  {
   "cell_type": "code",
   "execution_count": null,
   "metadata": {},
   "outputs": [],
   "source": [
    "def pdf(x, a=1 / np.sqrt(2 * np.pi), x0=0, sigma=1, offset=0):\n",
    "    return a * np.exp(-((x - x0) ** 2) / (2 * sigma ** 2)) + offset"
   ]
  },
  {
   "cell_type": "code",
   "execution_count": null,
   "metadata": {},
   "outputs": [],
   "source": [
    "np.random.seed(0)\n",
    "\n",
    "hist_1 = hist.Hist(\n",
    "    hist.axis.Regular(\n",
    "        50, -5, 5, name=\"X\", label=\"x [units]\", underflow=False, overflow=False\n",
    "    )\n",
    ").fill(np.random.normal(size=1000))\n",
    "\n",
    "fig = plt.figure(figsize=(10, 8))\n",
    "main_ax_artists, sublot_ax_arists = hist_1.plot_pull(\n",
    "    \"normal\",\n",
    "    eb_ecolor=\"steelblue\",\n",
    "    eb_mfc=\"steelblue\",\n",
    "    eb_mec=\"steelblue\",\n",
    "    eb_fmt=\"o\",\n",
    "    eb_ms=6,\n",
    "    eb_capsize=1,\n",
    "    eb_capthick=2,\n",
    "    eb_alpha=0.8,\n",
    "    fp_c=\"hotpink\",\n",
    "    fp_ls=\"-\",\n",
    "    fp_lw=2,\n",
    "    fp_alpha=0.8,\n",
    "    bar_fc=\"royalblue\",\n",
    "    pp_num=3,\n",
    "    pp_fc=\"royalblue\",\n",
    "    pp_alpha=0.618,\n",
    "    pp_ec=None,\n",
    "    ub_alpha=0.2,\n",
    ")"
   ]
  },
  {
   "cell_type": "markdown",
   "metadata": {},
   "source": [
    "## Via Plot Ratio\n",
    "\n",
    "You can also make an arbitrary ratio plot using the `.plot_ratio` API:"
   ]
  },
  {
   "cell_type": "code",
   "execution_count": null,
   "metadata": {},
   "outputs": [],
   "source": [
    "hist_2 = hist.Hist(\n",
    "    hist.axis.Regular(\n",
    "        50, -5, 5, name=\"X\", label=\"x [units]\", underflow=False, overflow=False\n",
    "    )\n",
    ").fill(np.random.normal(size=1700))\n",
    "\n",
    "fig = plt.figure(figsize=(10, 8))\n",
    "main_ax_artists, sublot_ax_arists = hist_1.plot_ratio(\n",
    "    hist_2,\n",
    "    rp_ylabel=r\"Ratio\",\n",
    "    rp_num_label=\"hist1\",\n",
    "    rp_denom_label=\"hist2\",\n",
    "    rp_uncert_draw_type=\"bar\",  # line or bar\n",
    ")"
   ]
  },
  {
   "cell_type": "markdown",
   "metadata": {},
   "source": [
    "Ratios between the histogram and a callable, or `str` alias, are supported as well"
   ]
  },
  {
   "cell_type": "code",
   "execution_count": null,
   "metadata": {},
   "outputs": [],
   "source": [
    "fig = plt.figure(figsize=(10, 8))\n",
    "main_ax_artists, sublot_ax_arists = hist_1.plot_ratio(pdf)"
   ]
  }
 ],
 "metadata": {
  "kernelspec": {
   "display_name": "hist",
   "language": "python",
   "name": "hist"
  },
  "language_info": {
   "codemirror_mode": {
    "name": "ipython",
    "version": 3
   },
   "file_extension": ".py",
   "mimetype": "text/x-python",
   "name": "python",
   "nbconvert_exporter": "python",
   "pygments_lexer": "ipython3",
   "version": "3.9.4"
  }
 },
 "nbformat": 4,
 "nbformat_minor": 4
}
