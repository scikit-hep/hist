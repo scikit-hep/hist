{
 "cells": [
  {
   "cell_type": "markdown",
   "source": [
    "# Histogram"
   ],
   "metadata": {}
  },
  {
   "cell_type": "markdown",
   "source": [
    "hist provides two types of histograms, in which Hist is the general class, NamedHist is a forced-name class. hist supports the whole workflow for a histogram's lifecycle, including some plotting tools and shortcuts which are pretty useful for HEP studies. Here, you can see how to serialize/deserialize (will be achieved), construct, use, and visualize histograms.\n",
    "\n",
    "![histogram's lifecycle](https://tva1.sinaimg.cn/large/007S8ZIlgy1ggrgi6xk7fj30y108qjsf.jpg)"
   ],
   "metadata": {}
  },
  {
   "cell_type": "markdown",
   "source": [
    "## Hist\n",
    "\n",
    "Hist is the general class in the hist package based on [boost-histogram](https://github.com/scikit-hep/boost-histogram)'s Histogram. Here is how to serialize/deserialize (will be achieved), construct, use, and visualize histograms via Hist."
   ],
   "metadata": {}
  },
  {
   "cell_type": "markdown",
   "source": [
    "### Initialize Hist\n",
    "\n",
    "You need to initialized Hist first before you use it. Two ways are provided: you can just fill the axes into the Hist instance and create it; you can also add axes in Hist object via hist proxy. \n",
    "\n",
    "When initializing you don't have to use named-axes, axes without names are allowed. Using named-axes is recommended, because you will get more shortcuts to make the best of hist (there is also a classed called NamedHist which forces names be used most places). Duplicated non-empty names are not allowed in the Hist as name is the unique identifier for a Hist object."
   ],
   "metadata": {}
  },
  {
   "cell_type": "code",
   "execution_count": null,
   "source": [
    "from hist import Hist\n",
    "import hist"
   ],
   "outputs": [],
   "metadata": {}
  },
  {
   "cell_type": "markdown",
   "source": [
    "#### Standard method:"
   ],
   "metadata": {}
  },
  {
   "cell_type": "code",
   "execution_count": null,
   "source": [
    "# fill the axes\n",
    "h = Hist(\n",
    "    hist.axis.Regular(\n",
    "        50, -5, 5, name=\"S\", label=\"s [units]\", underflow=False, overflow=False\n",
    "    ),\n",
    "    hist.axis.Regular(\n",
    "        50, -5, 5, name=\"W\", label=\"w [units]\", underflow=False, overflow=False\n",
    "    ),\n",
    ")"
   ],
   "outputs": [],
   "metadata": {}
  },
  {
   "cell_type": "markdown",
   "source": [
    "#### Shortcut method:\n",
    "\n",
    "One benefit of the shortcut method is that you can work entirely from Hist, so `from hist import Hist` can be used."
   ],
   "metadata": {}
  },
  {
   "cell_type": "code",
   "execution_count": null,
   "source": [
    "# add the axes, finalize with storage\n",
    "h = (\n",
    "    Hist.new.Reg(50, -5, 5, name=\"S\", label=\"s [units]\", flow=False)\n",
    "    .Reg(50, -5, 5, name=\"W\", label=\"w [units]\", flow=False)\n",
    "    .Double()\n",
    ")"
   ],
   "outputs": [],
   "metadata": {}
  },
  {
   "cell_type": "markdown",
   "source": [
    "### Manipulate Hist"
   ],
   "metadata": {}
  },
  {
   "cell_type": "markdown",
   "source": [
    "#### Fill Hist\n",
    "\n",
    "After initializing the Hist, the most likely thing you want to do is to fill it. The normal method to fill the histogram is just to pass the data to `.fill()`, and the data will be filled in the index order. If you have axes all with names in your Hist, you will have another option -- filling by names in the order of names given."
   ],
   "metadata": {}
  },
  {
   "cell_type": "code",
   "execution_count": null,
   "source": [
    "import numpy as np\n",
    "\n",
    "s_data = np.random.normal(size=50_000)\n",
    "w_data = np.random.normal(size=50_000)\n",
    "\n",
    "# normal fill\n",
    "h.fill(s_data, w_data)\n",
    "\n",
    "# Clear the data since we want to fill again with the same data\n",
    "h.reset()\n",
    "\n",
    "# fill by names\n",
    "h.fill(W=w_data, S=s_data)"
   ],
   "outputs": [],
   "metadata": {}
  },
  {
   "cell_type": "markdown",
   "source": [
    "#### Access Bins\n",
    "\n",
    "hist allows you to access the bins of your Hist by various ways. Besides the normal access by index, you can use locations (supported by boost-histogram), complex numbers, and the dictionary to access the bins."
   ],
   "metadata": {}
  },
  {
   "cell_type": "code",
   "execution_count": null,
   "source": [
    "# Access by bin number\n",
    "h[25, 25]"
   ],
   "outputs": [],
   "metadata": {}
  },
  {
   "cell_type": "code",
   "execution_count": null,
   "source": [
    "# Access by data coordinate\n",
    "# Identical to: h[hist.loc(0), hist.loc(0)]\n",
    "h[0j, 0j]"
   ],
   "outputs": [],
   "metadata": {}
  },
  {
   "cell_type": "code",
   "execution_count": null,
   "source": [
    "# Identical to: h[hist.loc(-1) + 5, hist.loc(-4) + 20]\n",
    "h[-1j + 5, -4j + 20]"
   ],
   "outputs": [],
   "metadata": {}
  },
  {
   "cell_type": "markdown",
   "source": [
    "If you are accessing multiple bins, you can use complex numbers to rebin."
   ],
   "metadata": {}
  },
  {
   "cell_type": "code",
   "execution_count": null,
   "source": [
    "# Identical to: h.project(\"S\")[20 : 30 : hist.rebin(2)]\n",
    "h.project(\"S\")[20:30:2j]"
   ],
   "outputs": [],
   "metadata": {}
  },
  {
   "cell_type": "markdown",
   "source": [
    "Dictionary is allowed when accessing bins. If you have axes all with names in your Hist, you can also access them according to the axes' names."
   ],
   "metadata": {}
  },
  {
   "cell_type": "code",
   "execution_count": null,
   "source": [
    "s = Hist(\n",
    "    hist.axis.Regular(50, -5, 5, name=\"Norm\", label=\"normal distribution\"),\n",
    "    hist.axis.Regular(50, 0, 1, name=\"Unif\", label=\"uniform distribution\"),\n",
    "    hist.axis.StrCategory([\"hi\", \"hello\"], name=\"Greet\"),\n",
    "    hist.axis.Boolean(name=\"Yes\"),\n",
    "    hist.axis.Integer(0, 1000, name=\"Int\"),\n",
    ")"
   ],
   "outputs": [],
   "metadata": {}
  },
  {
   "cell_type": "code",
   "execution_count": null,
   "source": [
    "s.fill(\n",
    "    Norm=np.random.normal(size=1000),\n",
    "    Unif=np.random.uniform(size=1000),\n",
    "    Greet=[\"hi\"] * 800 + [\"hello\"] * 200,\n",
    "    Yes=[True] * 600 + [False] * 400,\n",
    "    Int=np.ones(1000),\n",
    ")"
   ],
   "outputs": [],
   "metadata": {}
  },
  {
   "cell_type": "code",
   "execution_count": null,
   "source": [
    "s[0j, -0j + 2, \"hi\", True, 1]"
   ],
   "outputs": [],
   "metadata": {}
  },
  {
   "cell_type": "code",
   "execution_count": null,
   "source": [
    "s[{0: 0j, 3: True, 4: 1, 1: -0j + 2, 2: \"hi\"}] += 10\n",
    "\n",
    "s[{\"Greet\": \"hi\", \"Unif\": -0j + 2, \"Yes\": True, \"Int\": 1, \"Norm\": 0j}]"
   ],
   "outputs": [],
   "metadata": {}
  },
  {
   "cell_type": "markdown",
   "source": [
    "#### Get Density\n",
    "\n",
    "If you want to get the density of an existing histogram, `.density()` is capable to do it and will return you the density array without overflow and underflow bins. (*This may return a \"smart\" object in the future; for now it's a simple NumPy array.*)"
   ],
   "metadata": {}
  },
  {
   "cell_type": "code",
   "execution_count": null,
   "source": [
    "h[25:30, 25:30].density()"
   ],
   "outputs": [],
   "metadata": {}
  },
  {
   "cell_type": "markdown",
   "source": [
    "#### Get Project\n",
    "\n",
    "Hist allows you to get the projection of an N-D Histogram:"
   ],
   "metadata": {}
  },
  {
   "cell_type": "code",
   "execution_count": null,
   "source": [
    "s_2d = s.project(\"Norm\", \"Unif\")\n",
    "s_2d"
   ],
   "outputs": [],
   "metadata": {}
  },
  {
   "cell_type": "markdown",
   "source": [
    "#### Get Profile\n",
    "\n",
    "To compute the (N-1)-D profile from an existing histogram, you can:"
   ],
   "metadata": {}
  },
  {
   "cell_type": "code",
   "execution_count": null,
   "source": [
    "xy = np.array(\n",
    "    [\n",
    "        [-2, 1.5],\n",
    "        [-2, -3.5],\n",
    "        [-2, 1.5],  # x = -2\n",
    "        [0.0, -2.0],\n",
    "        [0.0, -2.0],\n",
    "        [0.0, 0.0],\n",
    "        [0.0, 2.0],\n",
    "        [0.0, 4.0],  # x = 0\n",
    "        [2, 1.5],  # x = +2\n",
    "    ]\n",
    ")\n",
    "h_xy = hist.Hist(\n",
    "    hist.axis.Regular(5, -5, 5, name=\"x\"), hist.axis.Regular(5, -5, 5, name=\"y\")\n",
    ").fill(*xy.T)\n",
    "\n",
    "# Profile out the y-axis\n",
    "hp = h_xy.profile(\"y\")\n",
    "hp.values()[1:-1]\n",
    "# hp.variances()[1:-1]"
   ],
   "outputs": [],
   "metadata": {}
  },
  {
   "cell_type": "markdown",
   "source": [
    "### Plot Hist\n",
    "\n",
    "One of the most amazing feature of hist is it's powerful plotting family. Here is a brief demonstration of how to plot Hist. You can get more information in the section of [Plots](./Plots.ipynb)."
   ],
   "metadata": {}
  },
  {
   "cell_type": "code",
   "execution_count": null,
   "source": [
    "import matplotlib.pyplot as plt\n",
    "\n",
    "# auto-plot\n",
    "fig, axs = plt.subplots(1, 2, figsize=(10, 4))\n",
    "\n",
    "h.project(\"W\").plot(ax=axs[0])\n",
    "h.project(\"W\", \"S\").plot(ax=axs[1])\n",
    "plt.show()"
   ],
   "outputs": [],
   "metadata": {}
  },
  {
   "cell_type": "markdown",
   "source": [
    "This is an example of a pull plot:"
   ],
   "metadata": {}
  },
  {
   "cell_type": "code",
   "execution_count": null,
   "source": [
    "from uncertainties import unumpy as unp\n",
    "\n",
    "\n",
    "def pdf(x, a=1 / np.sqrt(2 * np.pi), x0=0, sigma=1, offset=0):\n",
    "    exp = unp.exp if a.dtype == np.dtype(\"O\") else np.exp\n",
    "    return a * exp(-((x - x0) ** 2) / (2 * sigma ** 2)) + offset"
   ],
   "outputs": [],
   "metadata": {}
  },
  {
   "cell_type": "markdown",
   "source": [
    "*(The uncertainty is non-significant as we filled a great quantities of observation points above.)*"
   ],
   "metadata": {}
  },
  {
   "cell_type": "code",
   "execution_count": null,
   "source": [
    "plt.figure(figsize=(10, 6))\n",
    "\n",
    "h.project(\"S\").plot_pull(pdf)\n",
    "\n",
    "plt.show()"
   ],
   "outputs": [],
   "metadata": {}
  },
  {
   "cell_type": "markdown",
   "source": [
    "You can also pass Hist objects directly to mplhep (which is what is used for the backend of Hist anyway):"
   ],
   "metadata": {}
  },
  {
   "cell_type": "code",
   "execution_count": null,
   "source": [
    "import mplhep\n",
    "\n",
    "# auto-plot\n",
    "fig, axs = plt.subplots(1, 2, figsize=(10, 4))\n",
    "\n",
    "mplhep.histplot(h.project(\"S\"), ax=axs[0])\n",
    "mplhep.hist2dplot(h, ax=axs[1])\n",
    "\n",
    "plt.show()"
   ],
   "outputs": [],
   "metadata": {}
  },
  {
   "cell_type": "markdown",
   "source": [
    "## NamedHist\n",
    "\n",
    "If you want to force names always be used, you can use NamedHist. This reduces functionality but can reduce mistaking one axes for another."
   ],
   "metadata": {}
  },
  {
   "cell_type": "code",
   "execution_count": null,
   "source": [
    "h = hist.NamedHist(\n",
    "    hist.axis.Regular(\n",
    "        50, -5, 5, name=\"S\", label=\"s [units]\", underflow=False, overflow=False\n",
    "    ),\n",
    "    hist.axis.Regular(\n",
    "        50, -5, 5, name=\"W\", label=\"w [units]\", underflow=False, overflow=False\n",
    "    ),\n",
    ")"
   ],
   "outputs": [],
   "metadata": {}
  },
  {
   "cell_type": "code",
   "execution_count": null,
   "source": [
    "# should all use names\n",
    "s_data = np.random.normal(size=50_000)\n",
    "w_data = np.random.normal(size=50_000)\n",
    "\n",
    "h.fill(W=w_data, S=s_data)\n",
    "\n",
    "assert h[25, 25] == h[0j, 1j - 5] == h[{\"W\": 25, \"S\": 0j}]\n",
    "assert h[:, 0:50:5j].project(\"S\")"
   ],
   "outputs": [],
   "metadata": {}
  },
  {
   "cell_type": "code",
   "execution_count": null,
   "source": [
    "# plot2d full\n",
    "h.plot2d_full(\n",
    "    main_cmap=\"cividis\",\n",
    "    top_ls=\"--\",\n",
    "    top_color=\"orange\",\n",
    "    top_lw=2,\n",
    "    side_ls=\":\",\n",
    "    side_lw=2,\n",
    "    side_color=\"steelblue\",\n",
    ")\n",
    "plt.show()"
   ],
   "outputs": [],
   "metadata": {}
  },
  {
   "cell_type": "code",
   "execution_count": null,
   "source": [
    "# plot pull\n",
    "h.project(\"W\").plot_pull(\n",
    "    pdf,\n",
    "    eb_ecolor=\"green\",\n",
    "    eb_mfc=\"green\",\n",
    "    eb_mec=\"green\",\n",
    "    eb_fmt=\"o\",\n",
    "    eb_ms=5,\n",
    "    fp_color=\"lightseagreen\",\n",
    "    pp_color=\"darkgreen\",\n",
    "    pp_alpha=0.4,\n",
    "    pp_ec=None,\n",
    "    bar_color=\"darkgreen\",\n",
    ")\n",
    "plt.show()"
   ],
   "outputs": [],
   "metadata": {}
  }
 ],
 "metadata": {
  "kernelspec": {
   "display_name": "hist",
   "language": "python",
   "name": "hist"
  },
  "language_info": {
   "codemirror_mode": {
    "name": "ipython",
    "version": 3
   },
   "file_extension": ".py",
   "mimetype": "text/x-python",
   "name": "python",
   "nbconvert_exporter": "python",
   "pygments_lexer": "ipython3",
   "version": "3.9.4"
  }
 },
 "nbformat": 4,
 "nbformat_minor": 4
}
