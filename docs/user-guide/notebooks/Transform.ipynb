{
 "cells": [
  {
   "cell_type": "markdown",
   "metadata": {},
   "source": [
    "# Transform\n",
    "\n",
    "```warning\n",
    "The hist package is still under active development, the usage and contents are in flux.\n",
    "```"
   ]
  },
  {
   "cell_type": "markdown",
   "metadata": {},
   "source": [
    "Based on [boost-histogram](https://github.com/scikit-hep/boost-histogram)'s Transform, hist provides a powerful transform system on Regular axes that allows you to provide a functional form for the conversion between a regular spacing and the actual bin edges. The following transforms are built in:\n",
    "\n",
    "- `hist.axis.transform.sqrt`: A square root transform;\n",
    "- `hist.axis.transform.log`: A logarithmic transform;\n",
    "- `hist.axis.transform.Pow(power)`: Raise to a specified power;\n",
    "- `hist.axis.transform.Function`: Specify arbitrary conversion functions."
   ]
  },
  {
   "cell_type": "markdown",
   "metadata": {},
   "source": [
    "## Transform Types\n",
    "\n",
    "Here we show some basic usage of transforms in histogramming with pure Python. For more customized usage, you can refer the part in that of [boost-histogram](https://boost-histogram.readthedocs.io/en/latest/usage/transforms.html)."
   ]
  },
  {
   "cell_type": "code",
   "execution_count": null,
   "metadata": {},
   "outputs": [],
   "source": [
    "import hist\n",
    "from hist import Hist\n",
    "import ctypes\n",
    "import math\n",
    "import numpy as np"
   ]
  },
  {
   "cell_type": "code",
   "execution_count": null,
   "metadata": {},
   "outputs": [],
   "source": [
    "axis0 = hist.axis.Regular(10, 1, 4, name=\"A\", transform=hist.axis.transform.sqrt)\n",
    "axis1 = hist.axis.Regular(10, 1, 4, name=\"B\", transform=hist.axis.transform.log)\n",
    "axis2 = hist.axis.Regular(10, 1, 4, name=\"C\", transform=hist.axis.transform.Pow(2))\n",
    "\n",
    "ftype = ctypes.CFUNCTYPE(ctypes.c_double, ctypes.c_double)\n",
    "axis3 = hist.axis.Regular(\n",
    "    10,\n",
    "    1,\n",
    "    4,\n",
    "    name=\"D\",\n",
    "    transform=hist.axis.transform.Function(ftype(math.log), ftype(math.exp)),\n",
    ")\n",
    "axis4 = hist.axis.Regular(\n",
    "    10,\n",
    "    1,\n",
    "    4,\n",
    "    name=\"E\",\n",
    "    transform=hist.axis.transform.Function(ftype(np.log), ftype(np.exp)),\n",
    ")"
   ]
  },
  {
   "cell_type": "code",
   "execution_count": null,
   "metadata": {},
   "outputs": [],
   "source": [
    "h = Hist(axis0, axis1, axis2, axis3, axis4)"
   ]
  },
  {
   "cell_type": "markdown",
   "metadata": {},
   "source": [
    "## Histogram's Transforms\n",
    "\n",
    "Hist also provides transform shortcuts for histograms. hist's keeps the features of boost-histogram, and you can pass transform as a keyword argument when creating an axis. hist also allows you to use the `.new` shortcut directly when creating a Histogram for common transforms:"
   ]
  },
  {
   "cell_type": "code",
   "execution_count": null,
   "metadata": {},
   "outputs": [],
   "source": [
    "h0 = Hist.new.Sqrt(10, 1, 4).Sqrt(10, 4, 9).Double()\n",
    "h1 = Hist.new.Log(10, 1, 4).Log(10, 4, 9).Double()\n",
    "h2 = Hist.new.Pow(10, 1, 4, power=3).Pow(10, 1, 4, power=5).Double()\n",
    "\n",
    "h3 = (\n",
    "    Hist.new.Func(10, 1, 4, forward=ftype(math.log), inverse=ftype(math.exp))\n",
    "    .Func(10, 1, 4, forward=ftype(np.log), inverse=ftype(np.exp))\n",
    "    .Double()\n",
    ")"
   ]
  }
 ],
 "metadata": {
  "kernelspec": {
   "display_name": "hist",
   "language": "python",
   "name": "hist"
  },
  "language_info": {
   "codemirror_mode": {
    "name": "ipython",
    "version": 3
   },
   "file_extension": ".py",
   "mimetype": "text/x-python",
   "name": "python",
   "nbconvert_exporter": "python",
   "pygments_lexer": "ipython3",
   "version": "3.9.4"
  }
 },
 "nbformat": 4,
 "nbformat_minor": 4
}
